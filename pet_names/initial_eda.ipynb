{
 "cells": [
  {
   "cell_type": "markdown",
   "id": "corrected-private",
   "metadata": {
    "toc": true
   },
   "source": [
    "<h1>Table of Contents<span class=\"tocSkip\"></span></h1>\n",
    "<div class=\"toc\"><ul class=\"toc-item\"></ul></div>"
   ]
  },
  {
   "cell_type": "code",
   "execution_count": 1,
   "id": "married-folks",
   "metadata": {
    "ExecuteTime": {
     "end_time": "2021-06-20T03:20:33.755759Z",
     "start_time": "2021-06-20T03:20:32.754684Z"
    }
   },
   "outputs": [],
   "source": [
    "import pandas as pd"
   ]
  },
  {
   "cell_type": "code",
   "execution_count": 5,
   "id": "secondary-typing",
   "metadata": {
    "ExecuteTime": {
     "end_time": "2021-06-20T03:28:33.924670Z",
     "start_time": "2021-06-20T03:28:33.840642Z"
    }
   },
   "outputs": [
    {
     "data": {
      "text/html": [
       "<div>\n",
       "<style scoped>\n",
       "    .dataframe tbody tr th:only-of-type {\n",
       "        vertical-align: middle;\n",
       "    }\n",
       "\n",
       "    .dataframe tbody tr th {\n",
       "        vertical-align: top;\n",
       "    }\n",
       "\n",
       "    .dataframe thead th {\n",
       "        text-align: right;\n",
       "    }\n",
       "</style>\n",
       "<table border=\"1\" class=\"dataframe\">\n",
       "  <thead>\n",
       "    <tr style=\"text-align: right;\">\n",
       "      <th></th>\n",
       "      <th>License Issue Date</th>\n",
       "      <th>License Number</th>\n",
       "      <th>Animal's Name</th>\n",
       "      <th>Species</th>\n",
       "      <th>Primary Breed</th>\n",
       "      <th>Secondary Breed</th>\n",
       "      <th>ZIP Code</th>\n",
       "    </tr>\n",
       "  </thead>\n",
       "  <tbody>\n",
       "    <tr>\n",
       "      <th>0</th>\n",
       "      <td>December 18 2015</td>\n",
       "      <td>S107948</td>\n",
       "      <td>Zen</td>\n",
       "      <td>Cat</td>\n",
       "      <td>Domestic Longhair</td>\n",
       "      <td>Mix</td>\n",
       "      <td>98117.0</td>\n",
       "    </tr>\n",
       "    <tr>\n",
       "      <th>1</th>\n",
       "      <td>June 14 2016</td>\n",
       "      <td>S116503</td>\n",
       "      <td>Misty</td>\n",
       "      <td>Cat</td>\n",
       "      <td>Siberian</td>\n",
       "      <td>NaN</td>\n",
       "      <td>98117.0</td>\n",
       "    </tr>\n",
       "    <tr>\n",
       "      <th>2</th>\n",
       "      <td>June 16 2016</td>\n",
       "      <td>S116742</td>\n",
       "      <td>Frankie Lee Jones</td>\n",
       "      <td>Cat</td>\n",
       "      <td>Domestic Shorthair</td>\n",
       "      <td>NaN</td>\n",
       "      <td>NaN</td>\n",
       "    </tr>\n",
       "    <tr>\n",
       "      <th>3</th>\n",
       "      <td>August 04 2016</td>\n",
       "      <td>S119301</td>\n",
       "      <td>Lyra</td>\n",
       "      <td>Cat</td>\n",
       "      <td>Mix</td>\n",
       "      <td>NaN</td>\n",
       "      <td>98121.0</td>\n",
       "    </tr>\n",
       "    <tr>\n",
       "      <th>4</th>\n",
       "      <td>June 06 2017</td>\n",
       "      <td>208553</td>\n",
       "      <td>Puck</td>\n",
       "      <td>Cat</td>\n",
       "      <td>Russian Blue</td>\n",
       "      <td>NaN</td>\n",
       "      <td>98107.0</td>\n",
       "    </tr>\n",
       "  </tbody>\n",
       "</table>\n",
       "</div>"
      ],
      "text/plain": [
       "  License Issue Date License Number      Animal's Name Species  \\\n",
       "0   December 18 2015        S107948                Zen     Cat   \n",
       "1       June 14 2016        S116503              Misty     Cat   \n",
       "2       June 16 2016        S116742  Frankie Lee Jones     Cat   \n",
       "3     August 04 2016        S119301               Lyra     Cat   \n",
       "4       June 06 2017         208553               Puck     Cat   \n",
       "\n",
       "        Primary Breed Secondary Breed  ZIP Code  \n",
       "0   Domestic Longhair             Mix   98117.0  \n",
       "1            Siberian             NaN   98117.0  \n",
       "2  Domestic Shorthair             NaN       NaN  \n",
       "3                 Mix             NaN   98121.0  \n",
       "4        Russian Blue             NaN   98107.0  "
      ]
     },
     "execution_count": 5,
     "metadata": {},
     "output_type": "execute_result"
    }
   ],
   "source": [
    "pet_names_df = pd.read_csv('data/Seattle_Pet_Licenses.csv', header=0)\n",
    "pet_names_df.head()"
   ]
  },
  {
   "cell_type": "code",
   "execution_count": 6,
   "id": "configured-analyst",
   "metadata": {
    "ExecuteTime": {
     "end_time": "2021-06-20T03:29:58.442970Z",
     "start_time": "2021-06-20T03:29:58.426886Z"
    }
   },
   "outputs": [
    {
     "data": {
      "text/plain": [
       "License Issue Date     object\n",
       "License Number         object\n",
       "Animal's Name          object\n",
       "Species                object\n",
       "Primary Breed          object\n",
       "Secondary Breed        object\n",
       "ZIP Code              float64\n",
       "dtype: object"
      ]
     },
     "execution_count": 6,
     "metadata": {},
     "output_type": "execute_result"
    }
   ],
   "source": [
    "pet_names_df.dtypes"
   ]
  }
 ],
 "metadata": {
  "kernelspec": {
   "display_name": "Python 3",
   "language": "python",
   "name": "python3"
  },
  "language_info": {
   "codemirror_mode": {
    "name": "ipython",
    "version": 3
   },
   "file_extension": ".py",
   "mimetype": "text/x-python",
   "name": "python",
   "nbconvert_exporter": "python",
   "pygments_lexer": "ipython3",
   "version": "3.7.9"
  },
  "toc": {
   "base_numbering": 1,
   "nav_menu": {},
   "number_sections": false,
   "sideBar": true,
   "skip_h1_title": false,
   "title_cell": "Table of Contents",
   "title_sidebar": "Contents",
   "toc_cell": true,
   "toc_position": {},
   "toc_section_display": true,
   "toc_window_display": false
  }
 },
 "nbformat": 4,
 "nbformat_minor": 5
}
