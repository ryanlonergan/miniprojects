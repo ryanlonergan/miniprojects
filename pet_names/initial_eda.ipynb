{
 "cells": [
  {
   "cell_type": "markdown",
   "id": "pharmaceutical-ridge",
   "metadata": {
    "toc": true
   },
   "source": [
    "<h1>Table of Contents<span class=\"tocSkip\"></span></h1>\n",
    "<div class=\"toc\"><ul class=\"toc-item\"></ul></div>"
   ]
  },
  {
   "cell_type": "code",
   "execution_count": 1,
   "id": "subtle-moscow",
   "metadata": {
    "ExecuteTime": {
     "end_time": "2021-06-20T03:20:33.755759Z",
     "start_time": "2021-06-20T03:20:32.754684Z"
    }
   },
   "outputs": [],
   "source": [
    "import pandas as pd"
   ]
  },
  {
   "cell_type": "code",
   "execution_count": 15,
   "id": "expired-wesley",
   "metadata": {
    "ExecuteTime": {
     "end_time": "2021-06-20T04:28:20.610161Z",
     "start_time": "2021-06-20T04:28:20.458187Z"
    }
   },
   "outputs": [
    {
     "data": {
      "text/html": [
       "<div>\n",
       "<style scoped>\n",
       "    .dataframe tbody tr th:only-of-type {\n",
       "        vertical-align: middle;\n",
       "    }\n",
       "\n",
       "    .dataframe tbody tr th {\n",
       "        vertical-align: top;\n",
       "    }\n",
       "\n",
       "    .dataframe thead th {\n",
       "        text-align: right;\n",
       "    }\n",
       "</style>\n",
       "<table border=\"1\" class=\"dataframe\">\n",
       "  <thead>\n",
       "    <tr style=\"text-align: right;\">\n",
       "      <th></th>\n",
       "      <th>License Issue Date</th>\n",
       "      <th>License Number</th>\n",
       "      <th>Animal's Name</th>\n",
       "      <th>Species</th>\n",
       "      <th>Primary Breed</th>\n",
       "      <th>Secondary Breed</th>\n",
       "      <th>ZIP Code</th>\n",
       "    </tr>\n",
       "  </thead>\n",
       "  <tbody>\n",
       "    <tr>\n",
       "      <th>0</th>\n",
       "      <td>2015-12-18</td>\n",
       "      <td>S107948</td>\n",
       "      <td>Zen</td>\n",
       "      <td>Cat</td>\n",
       "      <td>Domestic Longhair</td>\n",
       "      <td>Mix</td>\n",
       "      <td>98117.0</td>\n",
       "    </tr>\n",
       "    <tr>\n",
       "      <th>1</th>\n",
       "      <td>2016-06-14</td>\n",
       "      <td>S116503</td>\n",
       "      <td>Misty</td>\n",
       "      <td>Cat</td>\n",
       "      <td>Siberian</td>\n",
       "      <td>NaN</td>\n",
       "      <td>98117.0</td>\n",
       "    </tr>\n",
       "    <tr>\n",
       "      <th>2</th>\n",
       "      <td>2016-06-16</td>\n",
       "      <td>S116742</td>\n",
       "      <td>Frankie Lee Jones</td>\n",
       "      <td>Cat</td>\n",
       "      <td>Domestic Shorthair</td>\n",
       "      <td>NaN</td>\n",
       "      <td>NaN</td>\n",
       "    </tr>\n",
       "    <tr>\n",
       "      <th>3</th>\n",
       "      <td>2016-08-04</td>\n",
       "      <td>S119301</td>\n",
       "      <td>Lyra</td>\n",
       "      <td>Cat</td>\n",
       "      <td>Mix</td>\n",
       "      <td>NaN</td>\n",
       "      <td>98121.0</td>\n",
       "    </tr>\n",
       "    <tr>\n",
       "      <th>4</th>\n",
       "      <td>2017-06-06</td>\n",
       "      <td>208553</td>\n",
       "      <td>Puck</td>\n",
       "      <td>Cat</td>\n",
       "      <td>Russian Blue</td>\n",
       "      <td>NaN</td>\n",
       "      <td>98107.0</td>\n",
       "    </tr>\n",
       "  </tbody>\n",
       "</table>\n",
       "</div>"
      ],
      "text/plain": [
       "  License Issue Date License Number      Animal's Name Species  \\\n",
       "0         2015-12-18        S107948                Zen     Cat   \n",
       "1         2016-06-14        S116503              Misty     Cat   \n",
       "2         2016-06-16        S116742  Frankie Lee Jones     Cat   \n",
       "3         2016-08-04        S119301               Lyra     Cat   \n",
       "4         2017-06-06         208553               Puck     Cat   \n",
       "\n",
       "        Primary Breed Secondary Breed  ZIP Code  \n",
       "0   Domestic Longhair             Mix   98117.0  \n",
       "1            Siberian             NaN   98117.0  \n",
       "2  Domestic Shorthair             NaN       NaN  \n",
       "3                 Mix             NaN   98121.0  \n",
       "4        Russian Blue             NaN   98107.0  "
      ]
     },
     "execution_count": 15,
     "metadata": {},
     "output_type": "execute_result"
    }
   ],
   "source": [
    "pet_names_df = pd.read_csv('data/Seattle_Pet_Licenses.csv',\n",
    "                           header=0,\n",
    "                           parse_dates=['License Issue Date'], \n",
    "                           dtype={'License Number': str,\n",
    "                                  'Animal\\'s Name': str, \n",
    "                                  'Species': str,\n",
    "                                  'Primary Breed': str,\n",
    "                                  'Secondary Breed': str})\n",
    "                            \n",
    "pet_names_df.head()"
   ]
  },
  {
   "cell_type": "code",
   "execution_count": 17,
   "id": "dietary-segment",
   "metadata": {
    "ExecuteTime": {
     "end_time": "2021-06-20T04:28:27.390793Z",
     "start_time": "2021-06-20T04:28:27.381840Z"
    }
   },
   "outputs": [
    {
     "data": {
      "text/plain": [
       "License Issue Date    datetime64[ns]\n",
       "License Number                object\n",
       "Animal's Name                 object\n",
       "Species                       object\n",
       "Primary Breed                 object\n",
       "Secondary Breed               object\n",
       "ZIP Code                     float64\n",
       "dtype: object"
      ]
     },
     "execution_count": 17,
     "metadata": {},
     "output_type": "execute_result"
    }
   ],
   "source": [
    "pet_names_df.dtypes\n",
    "# TODO is object dtype good or do I need to switch it to string?\n",
    "# TODO have to fix zipcode - null values mess it up"
   ]
  },
  {
   "cell_type": "code",
   "execution_count": null,
   "id": "cultural-algebra",
   "metadata": {},
   "outputs": [],
   "source": [
    "# TODO rename columns - animal's names is very annoying to deal with"
   ]
  },
  {
   "cell_type": "code",
   "execution_count": 27,
   "id": "quick-validation",
   "metadata": {
    "ExecuteTime": {
     "end_time": "2021-06-20T04:38:19.129562Z",
     "start_time": "2021-06-20T04:38:19.102810Z"
    }
   },
   "outputs": [
    {
     "data": {
      "text/plain": [
       "Dog     31808\n",
       "Cat     14542\n",
       "Goat       35\n",
       "Pig         3\n",
       "Name: Species, dtype: int64"
      ]
     },
     "execution_count": 27,
     "metadata": {},
     "output_type": "execute_result"
    }
   ],
   "source": [
    "pet_names_df['Species'].value_counts()"
   ]
  },
  {
   "cell_type": "code",
   "execution_count": 29,
   "id": "prostate-mistake",
   "metadata": {
    "ExecuteTime": {
     "end_time": "2021-06-20T04:39:31.037354Z",
     "start_time": "2021-06-20T04:39:31.010557Z"
    }
   },
   "outputs": [
    {
     "data": {
      "text/plain": [
       "Luna              402\n",
       "Lucy              340\n",
       "Charlie           334\n",
       "Bella             285\n",
       "Daisy             224\n",
       "                 ... \n",
       "Bella Boo           1\n",
       "Mitaka              1\n",
       "Jassy               1\n",
       "Jonesey             1\n",
       "Jackie Osassis      1\n",
       "Name: Animal's Name, Length: 13136, dtype: int64"
      ]
     },
     "execution_count": 29,
     "metadata": {},
     "output_type": "execute_result"
    }
   ],
   "source": [
    "pet_names_df['Animal\\'s Name'].value_counts()"
   ]
  }
 ],
 "metadata": {
  "kernelspec": {
   "display_name": "Python 3",
   "language": "python",
   "name": "python3"
  },
  "language_info": {
   "codemirror_mode": {
    "name": "ipython",
    "version": 3
   },
   "file_extension": ".py",
   "mimetype": "text/x-python",
   "name": "python",
   "nbconvert_exporter": "python",
   "pygments_lexer": "ipython3",
   "version": "3.7.9"
  },
  "toc": {
   "base_numbering": 1,
   "nav_menu": {},
   "number_sections": false,
   "sideBar": true,
   "skip_h1_title": false,
   "title_cell": "Table of Contents",
   "title_sidebar": "Contents",
   "toc_cell": true,
   "toc_position": {},
   "toc_section_display": true,
   "toc_window_display": false
  }
 },
 "nbformat": 4,
 "nbformat_minor": 5
}
