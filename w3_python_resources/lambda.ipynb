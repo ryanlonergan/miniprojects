{
 "cells": [
  {
   "cell_type": "markdown",
   "id": "acute-horizontal",
   "metadata": {
    "toc": true
   },
   "source": [
    "<h1>Table of Contents<span class=\"tocSkip\"></span></h1>\n",
    "<div class=\"toc\"><ul class=\"toc-item\"><li><span><a href=\"#Q-1\" data-toc-modified-id=\"Q-1-1\">Q 1</a></span></li><li><span><a href=\"#Q-2\" data-toc-modified-id=\"Q-2-2\">Q 2</a></span></li><li><span><a href=\"#Q-3\" data-toc-modified-id=\"Q-3-3\">Q 3</a></span></li><li><span><a href=\"#Q-4\" data-toc-modified-id=\"Q-4-4\">Q 4</a></span></li><li><span><a href=\"#Q-5\" data-toc-modified-id=\"Q-5-5\">Q 5</a></span></li><li><span><a href=\"#Q-6\" data-toc-modified-id=\"Q-6-6\">Q 6</a></span></li><li><span><a href=\"#Q-7\" data-toc-modified-id=\"Q-7-7\">Q 7</a></span></li><li><span><a href=\"#Q-8\" data-toc-modified-id=\"Q-8-8\">Q 8</a></span></li><li><span><a href=\"#Q-9\" data-toc-modified-id=\"Q-9-9\">Q 9</a></span></li><li><span><a href=\"#Q-10\" data-toc-modified-id=\"Q-10-10\">Q 10</a></span></li><li><span><a href=\"#Q-11\" data-toc-modified-id=\"Q-11-11\">Q 11</a></span></li><li><span><a href=\"#Q-12\" data-toc-modified-id=\"Q-12-12\">Q 12</a></span></li><li><span><a href=\"#Q-13\" data-toc-modified-id=\"Q-13-13\">Q 13</a></span></li><li><span><a href=\"#Q-14\" data-toc-modified-id=\"Q-14-14\">Q 14</a></span></li><li><span><a href=\"#Q-15\" data-toc-modified-id=\"Q-15-15\">Q 15</a></span></li><li><span><a href=\"#Q-16\" data-toc-modified-id=\"Q-16-16\">Q 16</a></span></li><li><span><a href=\"#Q-17\" data-toc-modified-id=\"Q-17-17\">Q 17</a></span></li><li><span><a href=\"#Q-18\" data-toc-modified-id=\"Q-18-18\">Q 18</a></span></li><li><span><a href=\"#Q-19\" data-toc-modified-id=\"Q-19-19\">Q 19</a></span></li><li><span><a href=\"#Q-20\" data-toc-modified-id=\"Q-20-20\">Q 20</a></span></li></ul></div>"
   ]
  },
  {
   "cell_type": "markdown",
   "id": "helpful-exemption",
   "metadata": {},
   "source": [
    "Webpage with exercises can be found <a href='https://www.w3resource.com/python-exercises/lambda/index.php'>here</a>."
   ]
  },
  {
   "cell_type": "markdown",
   "id": "competitive-submission",
   "metadata": {},
   "source": [
    "### Q 1\n",
    "Write a Python program to create a lambda function that adds 15 to a given number passed in as an argument, also create a lambda function that multiplies argument x with argument y and print the result.\n",
    "\n",
    "Sample Output:\n",
    "\n",
    "25<br>\n",
    "48"
   ]
  },
  {
   "cell_type": "code",
   "execution_count": 2,
   "id": "least-programmer",
   "metadata": {
    "ExecuteTime": {
     "end_time": "2021-05-27T00:52:36.878815Z",
     "start_time": "2021-05-27T00:52:36.859869Z"
    }
   },
   "outputs": [
    {
     "name": "stdout",
     "output_type": "stream",
     "text": [
      "25\n",
      "48\n"
     ]
    }
   ],
   "source": [
    "f = lambda x : x + 15\n",
    "print(f(10))\n",
    "\n",
    "f = lambda x, y : x * y\n",
    "print(f(4, 12))"
   ]
  },
  {
   "cell_type": "markdown",
   "id": "numeric-kingdom",
   "metadata": {},
   "source": [
    "### Q 2\n",
    "Write a Python program to create a function that takes one argument, and that argument will be multiplied with an unknown given number.\n",
    "\n",
    "Sample Output:\n",
    "\n",
    "Double the number of 15 = 30<br>\n",
    "Triple the number of 15 = 45<br>\n",
    "Quadruple the number of 15 = 60<br>\n",
    "Quintuple the number 15 = 75"
   ]
  },
  {
   "cell_type": "code",
   "execution_count": 4,
   "id": "tough-spectrum",
   "metadata": {
    "ExecuteTime": {
     "end_time": "2021-05-27T05:07:38.658917Z",
     "start_time": "2021-05-27T05:07:38.651917Z"
    }
   },
   "outputs": [
    {
     "name": "stdout",
     "output_type": "stream",
     "text": [
      "2X 15 = 30\n",
      "3X 15 = 45\n",
      "4X 15 = 60\n",
      "5X 15 = 75\n"
     ]
    }
   ],
   "source": [
    "def mult(n):\n",
    "    return lambda x : x * n\n",
    "fig = mult(2)\n",
    "print(\"2X 15 =\", fig(15))\n",
    "fig = mult(3)\n",
    "print(\"3X 15 =\", fig(15))\n",
    "fig = mult(4)\n",
    "print(\"4X 15 =\", fig(15))\n",
    "fig = mult(5)\n",
    "print(\"5X 15 =\", fig(15))"
   ]
  },
  {
   "cell_type": "markdown",
   "id": "magnetic-hazard",
   "metadata": {
    "ExecuteTime": {
     "end_time": "2021-05-27T05:08:36.451642Z",
     "start_time": "2021-05-27T05:08:36.437672Z"
    }
   },
   "source": [
    "### Q 3\n",
    "Write a Python program to sort a list of tuples using Lambda.\n",
    "\n",
    "Original list of tuples:<br>\n",
    "[('English', 88), ('Science', 90), ('Maths', 97), ('Social sciences', 82)]\n",
    "\n",
    "Sorting the List of Tuples:<br>\n",
    "[('Social sciences', 82), ('English', 88), ('Science', 90), ('Maths', 97)]"
   ]
  },
  {
   "cell_type": "code",
   "execution_count": null,
   "id": "hairy-checklist",
   "metadata": {},
   "outputs": [],
   "source": []
  },
  {
   "cell_type": "markdown",
   "id": "false-acrobat",
   "metadata": {},
   "source": [
    "### Q 4\n",
    "Write a Python program to sort a list of dictionaries using Lambda.\n",
    "\n",
    "Original list of dictionaries :<br>\n",
    "[{'make': 'Nokia', 'model': 216, 'color': 'Black'}, {'make': 'Mi Max', 'model': '2', 'color': 'Gold'}, {'make': 'Samsung', 'model': 7, 'color': 'Blue'}]\n",
    "\n",
    "Sorting the List of dictionaries :<br>\n",
    "[{'make': 'Nokia', 'model': 216, 'color': 'Black'}, {'make': 'Samsung', 'model': 7, 'color': 'Blue'}, {'make': 'Mi Max', 'model': '2', 'color': 'Gold'}]"
   ]
  },
  {
   "cell_type": "code",
   "execution_count": null,
   "id": "small-factory",
   "metadata": {},
   "outputs": [],
   "source": []
  },
  {
   "cell_type": "markdown",
   "id": "tamil-desktop",
   "metadata": {},
   "source": [
    "### Q 5\n"
   ]
  },
  {
   "cell_type": "code",
   "execution_count": null,
   "id": "forty-steps",
   "metadata": {},
   "outputs": [],
   "source": []
  },
  {
   "cell_type": "markdown",
   "id": "dominant-pricing",
   "metadata": {},
   "source": [
    "### Q 6\n"
   ]
  },
  {
   "cell_type": "code",
   "execution_count": null,
   "id": "sacred-basket",
   "metadata": {},
   "outputs": [],
   "source": []
  },
  {
   "cell_type": "markdown",
   "id": "ranking-focus",
   "metadata": {},
   "source": [
    "### Q 7\n"
   ]
  },
  {
   "cell_type": "code",
   "execution_count": null,
   "id": "hazardous-democrat",
   "metadata": {},
   "outputs": [],
   "source": []
  },
  {
   "cell_type": "markdown",
   "id": "affiliated-drilling",
   "metadata": {},
   "source": [
    "### Q 8\n"
   ]
  },
  {
   "cell_type": "code",
   "execution_count": null,
   "id": "descending-trigger",
   "metadata": {},
   "outputs": [],
   "source": []
  },
  {
   "cell_type": "markdown",
   "id": "going-figure",
   "metadata": {},
   "source": [
    "### Q 9\n"
   ]
  },
  {
   "cell_type": "code",
   "execution_count": null,
   "id": "tight-surgery",
   "metadata": {},
   "outputs": [],
   "source": []
  },
  {
   "cell_type": "markdown",
   "id": "tight-range",
   "metadata": {},
   "source": [
    "### Q 10\n"
   ]
  },
  {
   "cell_type": "code",
   "execution_count": null,
   "id": "worst-haiti",
   "metadata": {},
   "outputs": [],
   "source": []
  },
  {
   "cell_type": "markdown",
   "id": "broadband-stuart",
   "metadata": {},
   "source": [
    "### Q 11\n"
   ]
  },
  {
   "cell_type": "code",
   "execution_count": null,
   "id": "preliminary-petersburg",
   "metadata": {},
   "outputs": [],
   "source": []
  },
  {
   "cell_type": "markdown",
   "id": "otherwise-strand",
   "metadata": {},
   "source": [
    "### Q 12\n"
   ]
  },
  {
   "cell_type": "code",
   "execution_count": null,
   "id": "specific-sound",
   "metadata": {},
   "outputs": [],
   "source": []
  },
  {
   "cell_type": "markdown",
   "id": "mexican-douglas",
   "metadata": {},
   "source": [
    "### Q 13\n"
   ]
  },
  {
   "cell_type": "code",
   "execution_count": null,
   "id": "architectural-emergency",
   "metadata": {},
   "outputs": [],
   "source": []
  },
  {
   "cell_type": "markdown",
   "id": "direct-checkout",
   "metadata": {},
   "source": [
    "### Q 14\n"
   ]
  },
  {
   "cell_type": "code",
   "execution_count": null,
   "id": "specialized-crossing",
   "metadata": {},
   "outputs": [],
   "source": []
  },
  {
   "cell_type": "markdown",
   "id": "sporting-finger",
   "metadata": {},
   "source": [
    "### Q 15\n"
   ]
  },
  {
   "cell_type": "code",
   "execution_count": null,
   "id": "entertaining-yield",
   "metadata": {},
   "outputs": [],
   "source": []
  },
  {
   "cell_type": "markdown",
   "id": "medieval-sister",
   "metadata": {},
   "source": [
    "### Q 16\n"
   ]
  },
  {
   "cell_type": "code",
   "execution_count": null,
   "id": "weekly-contemporary",
   "metadata": {},
   "outputs": [],
   "source": []
  },
  {
   "cell_type": "markdown",
   "id": "impaired-mauritius",
   "metadata": {},
   "source": [
    "### Q 17\n"
   ]
  },
  {
   "cell_type": "code",
   "execution_count": null,
   "id": "comprehensive-chart",
   "metadata": {},
   "outputs": [],
   "source": []
  },
  {
   "cell_type": "markdown",
   "id": "announced-heath",
   "metadata": {},
   "source": [
    "### Q 18\n"
   ]
  },
  {
   "cell_type": "code",
   "execution_count": null,
   "id": "operational-scanner",
   "metadata": {},
   "outputs": [],
   "source": []
  },
  {
   "cell_type": "markdown",
   "id": "developmental-amendment",
   "metadata": {},
   "source": [
    "### Q 19\n"
   ]
  },
  {
   "cell_type": "code",
   "execution_count": null,
   "id": "bored-being",
   "metadata": {},
   "outputs": [],
   "source": []
  },
  {
   "cell_type": "markdown",
   "id": "gothic-moldova",
   "metadata": {},
   "source": [
    "### Q 20\n"
   ]
  },
  {
   "cell_type": "code",
   "execution_count": null,
   "id": "coupled-recovery",
   "metadata": {},
   "outputs": [],
   "source": []
  }
 ],
 "metadata": {
  "kernelspec": {
   "display_name": "Python 3",
   "language": "python",
   "name": "python3"
  },
  "language_info": {
   "codemirror_mode": {
    "name": "ipython",
    "version": 3
   },
   "file_extension": ".py",
   "mimetype": "text/x-python",
   "name": "python",
   "nbconvert_exporter": "python",
   "pygments_lexer": "ipython3",
   "version": "3.7.9"
  },
  "toc": {
   "base_numbering": 1,
   "nav_menu": {},
   "number_sections": false,
   "sideBar": true,
   "skip_h1_title": false,
   "title_cell": "Table of Contents",
   "title_sidebar": "Contents",
   "toc_cell": true,
   "toc_position": {},
   "toc_section_display": true,
   "toc_window_display": false
  }
 },
 "nbformat": 4,
 "nbformat_minor": 5
}
