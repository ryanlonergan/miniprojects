{
 "cells": [
  {
   "cell_type": "markdown",
   "id": "nasty-shame",
   "metadata": {
    "toc": true
   },
   "source": [
    "<h1>Table of Contents<span class=\"tocSkip\"></span></h1>\n",
    "<div class=\"toc\"><ul class=\"toc-item\"><li><span><a href=\"#Q-1\" data-toc-modified-id=\"Q-1-1\">Q 1</a></span></li></ul></div>"
   ]
  },
  {
   "cell_type": "markdown",
   "id": "roman-paradise",
   "metadata": {},
   "source": [
    "Webpage with exercises can be found <a href='https://www.w3resource.com/python-exercises/lambda/index.php'>here</a>."
   ]
  },
  {
   "cell_type": "markdown",
   "id": "corporate-paper",
   "metadata": {},
   "source": [
    "### Q 1\n",
    "\n",
    "Write a Python program to create a lambda function that adds 15 to a given number passed in as an argument, also create a lambda function that multiplies argument x with argument y and print the result.\n",
    "\n",
    "Sample Output:<br>\n",
    "25<br>\n",
    "48"
   ]
  },
  {
   "cell_type": "code",
   "execution_count": 2,
   "id": "unusual-woman",
   "metadata": {
    "ExecuteTime": {
     "end_time": "2021-05-27T00:52:36.878815Z",
     "start_time": "2021-05-27T00:52:36.859869Z"
    }
   },
   "outputs": [
    {
     "name": "stdout",
     "output_type": "stream",
     "text": [
      "25\n",
      "48\n"
     ]
    }
   ],
   "source": [
    "f = lambda x : x + 15\n",
    "print(f(10))\n",
    "\n",
    "f = lambda x, y : x * y\n",
    "print(f(4, 12))"
   ]
  },
  {
   "cell_type": "code",
   "execution_count": null,
   "id": "instructional-international",
   "metadata": {},
   "outputs": [],
   "source": []
  },
  {
   "cell_type": "code",
   "execution_count": null,
   "id": "recreational-anaheim",
   "metadata": {},
   "outputs": [],
   "source": []
  },
  {
   "cell_type": "code",
   "execution_count": null,
   "id": "steady-packaging",
   "metadata": {},
   "outputs": [],
   "source": []
  },
  {
   "cell_type": "code",
   "execution_count": null,
   "id": "silver-grace",
   "metadata": {},
   "outputs": [],
   "source": []
  },
  {
   "cell_type": "code",
   "execution_count": null,
   "id": "broke-timer",
   "metadata": {},
   "outputs": [],
   "source": []
  },
  {
   "cell_type": "code",
   "execution_count": null,
   "id": "meaningful-fishing",
   "metadata": {},
   "outputs": [],
   "source": []
  }
 ],
 "metadata": {
  "kernelspec": {
   "display_name": "Python 3",
   "language": "python",
   "name": "python3"
  },
  "language_info": {
   "codemirror_mode": {
    "name": "ipython",
    "version": 3
   },
   "file_extension": ".py",
   "mimetype": "text/x-python",
   "name": "python",
   "nbconvert_exporter": "python",
   "pygments_lexer": "ipython3",
   "version": "3.7.9"
  },
  "toc": {
   "base_numbering": 1,
   "nav_menu": {},
   "number_sections": false,
   "sideBar": true,
   "skip_h1_title": false,
   "title_cell": "Table of Contents",
   "title_sidebar": "Contents",
   "toc_cell": true,
   "toc_position": {},
   "toc_section_display": true,
   "toc_window_display": false
  }
 },
 "nbformat": 4,
 "nbformat_minor": 5
}
