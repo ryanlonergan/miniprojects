{
 "cells": [
  {
   "cell_type": "code",
   "execution_count": 51,
   "id": "initial_id",
   "metadata": {
    "collapsed": true,
    "ExecuteTime": {
     "end_time": "2023-09-14T06:01:11.483905100Z",
     "start_time": "2023-09-14T06:01:11.448059900Z"
    }
   },
   "outputs": [],
   "source": [
    "# Imports\n",
    "import pandas as pd"
   ]
  },
  {
   "cell_type": "code",
   "execution_count": 36,
   "outputs": [],
   "source": [
    "# Reading data from source and creating df\n",
    "storm_df = pd.read_csv('data/events-US-1980-2021.csv',\n",
    "                       header=1,\n",
    "                       parse_dates=['Begin Date', 'End Date'])"
   ],
   "metadata": {
    "collapsed": false,
    "ExecuteTime": {
     "end_time": "2023-09-14T01:12:18.646564200Z",
     "start_time": "2023-09-14T01:12:18.625750100Z"
    }
   },
   "id": "424d27a366056b35"
  },
  {
   "cell_type": "code",
   "execution_count": 37,
   "outputs": [
    {
     "data": {
      "text/plain": "Name                                                     object\nDisaster                                                 object\nBegin Date                                       datetime64[ns]\nEnd Date                                         datetime64[ns]\nTotal CPI-Adjusted Cost (Millions of Dollars)           float64\nDeaths                                                    int64\ndtype: object"
     },
     "execution_count": 37,
     "metadata": {},
     "output_type": "execute_result"
    }
   ],
   "source": [
    "storm_df.dtypes"
   ],
   "metadata": {
    "collapsed": false,
    "ExecuteTime": {
     "end_time": "2023-09-14T01:12:21.031297600Z",
     "start_time": "2023-09-14T01:12:21.003173400Z"
    }
   },
   "id": "fcff925d51c8f5f3"
  },
  {
   "cell_type": "code",
   "execution_count": 44,
   "outputs": [
    {
     "data": {
      "text/plain": "Disaster\nSevere Storm        152\nTropical Cyclone     57\nFlooding             36\nDrought              29\nWinter Storm         20\nWildfire             20\nFreeze                9\nName: count, dtype: int64"
     },
     "execution_count": 44,
     "metadata": {},
     "output_type": "execute_result"
    }
   ],
   "source": [
    "storm_df['Disaster'].value_counts()"
   ],
   "metadata": {
    "collapsed": false,
    "ExecuteTime": {
     "end_time": "2023-09-14T01:14:26.959220100Z",
     "start_time": "2023-09-14T01:14:26.948387200Z"
    }
   },
   "id": "f1d5cbff4f804062"
  },
  {
   "cell_type": "code",
   "execution_count": 54,
   "outputs": [],
   "source": [
    "# Filtering the dataset to match the original visualisation\n",
    "severe_storm_df = storm_df.loc[storm_df['Disaster'] == 'Severe Storm'].copy(deep=True)"
   ],
   "metadata": {
    "collapsed": false,
    "ExecuteTime": {
     "end_time": "2023-09-14T06:01:27.234259200Z",
     "start_time": "2023-09-14T06:01:27.196736600Z"
    }
   },
   "id": "76b6b7a53c62f6db"
  },
  {
   "cell_type": "code",
   "execution_count": 55,
   "outputs": [
    {
     "data": {
      "text/plain": "                                                  Name      Disaster  \\\n4    Severe Storms, Flash Floods, Hail, Tornadoes (...  Severe Storm   \n6      Midwest/Plains/Southeast Tornadoes (April 1982)  Severe Storm   \n7                            Severe Storms (June 1982)  Severe Storm   \n13      Tornadoes, Severe Storms, Floods (Spring 1984)  Severe Storm   \n14                  Severe Storms and Hail (June 1984)  Severe Storm   \n..                                                 ...           ...   \n312                  Central Severe Storms (June 2021)  Severe Storm   \n314                  Central Severe Storms (July 2021)  Severe Storm   \n315         North Central Severe Weather (August 2021)  Severe Storm   \n319  Southeast, Central Tornado Outbreak (December ...  Severe Storm   \n320  Midwest Derecho and Tornado Outbreak (December...  Severe Storm   \n\n    Begin Date   End Date  Total CPI-Adjusted Cost (Millions of Dollars)  \\\n4   1981-05-05 1981-05-10                                         1268.6   \n6   1982-04-02 1982-04-04                                         1444.8   \n7   1982-05-31 1982-06-10                                         1420.6   \n13  1984-03-27 1984-04-07                                         1670.5   \n14  1984-06-13 1984-06-17                                         1222.6   \n..         ...        ...                                            ...   \n312 2021-06-24 2021-06-26                                         1303.0   \n314 2021-07-08 2021-07-11                                         1123.2   \n315 2021-08-10 2021-08-13                                         1335.3   \n319 2021-12-10 2021-12-10                                         3993.3   \n320 2021-12-15 2021-12-15                                         1817.6   \n\n     Deaths  \n4        20  \n6        33  \n7        30  \n13       80  \n14        1  \n..      ...  \n312       0  \n314       0  \n315       2  \n319      93  \n320       1  \n\n[152 rows x 6 columns]",
      "text/html": "<div>\n<style scoped>\n    .dataframe tbody tr th:only-of-type {\n        vertical-align: middle;\n    }\n\n    .dataframe tbody tr th {\n        vertical-align: top;\n    }\n\n    .dataframe thead th {\n        text-align: right;\n    }\n</style>\n<table border=\"1\" class=\"dataframe\">\n  <thead>\n    <tr style=\"text-align: right;\">\n      <th></th>\n      <th>Name</th>\n      <th>Disaster</th>\n      <th>Begin Date</th>\n      <th>End Date</th>\n      <th>Total CPI-Adjusted Cost (Millions of Dollars)</th>\n      <th>Deaths</th>\n    </tr>\n  </thead>\n  <tbody>\n    <tr>\n      <th>4</th>\n      <td>Severe Storms, Flash Floods, Hail, Tornadoes (...</td>\n      <td>Severe Storm</td>\n      <td>1981-05-05</td>\n      <td>1981-05-10</td>\n      <td>1268.6</td>\n      <td>20</td>\n    </tr>\n    <tr>\n      <th>6</th>\n      <td>Midwest/Plains/Southeast Tornadoes (April 1982)</td>\n      <td>Severe Storm</td>\n      <td>1982-04-02</td>\n      <td>1982-04-04</td>\n      <td>1444.8</td>\n      <td>33</td>\n    </tr>\n    <tr>\n      <th>7</th>\n      <td>Severe Storms (June 1982)</td>\n      <td>Severe Storm</td>\n      <td>1982-05-31</td>\n      <td>1982-06-10</td>\n      <td>1420.6</td>\n      <td>30</td>\n    </tr>\n    <tr>\n      <th>13</th>\n      <td>Tornadoes, Severe Storms, Floods (Spring 1984)</td>\n      <td>Severe Storm</td>\n      <td>1984-03-27</td>\n      <td>1984-04-07</td>\n      <td>1670.5</td>\n      <td>80</td>\n    </tr>\n    <tr>\n      <th>14</th>\n      <td>Severe Storms and Hail (June 1984)</td>\n      <td>Severe Storm</td>\n      <td>1984-06-13</td>\n      <td>1984-06-17</td>\n      <td>1222.6</td>\n      <td>1</td>\n    </tr>\n    <tr>\n      <th>...</th>\n      <td>...</td>\n      <td>...</td>\n      <td>...</td>\n      <td>...</td>\n      <td>...</td>\n      <td>...</td>\n    </tr>\n    <tr>\n      <th>312</th>\n      <td>Central Severe Storms (June 2021)</td>\n      <td>Severe Storm</td>\n      <td>2021-06-24</td>\n      <td>2021-06-26</td>\n      <td>1303.0</td>\n      <td>0</td>\n    </tr>\n    <tr>\n      <th>314</th>\n      <td>Central Severe Storms (July 2021)</td>\n      <td>Severe Storm</td>\n      <td>2021-07-08</td>\n      <td>2021-07-11</td>\n      <td>1123.2</td>\n      <td>0</td>\n    </tr>\n    <tr>\n      <th>315</th>\n      <td>North Central Severe Weather (August 2021)</td>\n      <td>Severe Storm</td>\n      <td>2021-08-10</td>\n      <td>2021-08-13</td>\n      <td>1335.3</td>\n      <td>2</td>\n    </tr>\n    <tr>\n      <th>319</th>\n      <td>Southeast, Central Tornado Outbreak (December ...</td>\n      <td>Severe Storm</td>\n      <td>2021-12-10</td>\n      <td>2021-12-10</td>\n      <td>3993.3</td>\n      <td>93</td>\n    </tr>\n    <tr>\n      <th>320</th>\n      <td>Midwest Derecho and Tornado Outbreak (December...</td>\n      <td>Severe Storm</td>\n      <td>2021-12-15</td>\n      <td>2021-12-15</td>\n      <td>1817.6</td>\n      <td>1</td>\n    </tr>\n  </tbody>\n</table>\n<p>152 rows × 6 columns</p>\n</div>"
     },
     "execution_count": 55,
     "metadata": {},
     "output_type": "execute_result"
    }
   ],
   "source": [
    "severe_storm_df"
   ],
   "metadata": {
    "collapsed": false,
    "ExecuteTime": {
     "end_time": "2023-09-14T06:01:28.416832500Z",
     "start_time": "2023-09-14T06:01:28.310698900Z"
    }
   },
   "id": "799dffa0c1d6d54f"
  },
  {
   "cell_type": "code",
   "execution_count": null,
   "outputs": [],
   "source": [
    "# TODO add seasons columns (2 types), month and year columns "
   ],
   "metadata": {
    "collapsed": false
   },
   "id": "1b786f4ec8bd8b18"
  }
 ],
 "metadata": {
  "kernelspec": {
   "display_name": "Python 3",
   "language": "python",
   "name": "python3"
  },
  "language_info": {
   "codemirror_mode": {
    "name": "ipython",
    "version": 2
   },
   "file_extension": ".py",
   "mimetype": "text/x-python",
   "name": "python",
   "nbconvert_exporter": "python",
   "pygments_lexer": "ipython2",
   "version": "2.7.6"
  }
 },
 "nbformat": 4,
 "nbformat_minor": 5
}
