{
 "cells": [
  {
   "cell_type": "code",
   "execution_count": 1,
   "id": "initial_id",
   "metadata": {
    "collapsed": true,
    "ExecuteTime": {
     "end_time": "2023-09-22T00:47:58.008327500Z",
     "start_time": "2023-09-22T00:47:55.663274Z"
    }
   },
   "outputs": [],
   "source": [
    "# Imports\n",
    "from datetime import datetime as dt\n",
    "import pandas as pd"
   ]
  },
  {
   "cell_type": "code",
   "execution_count": 2,
   "outputs": [],
   "source": [
    "# Reading data from source and creating df\n",
    "storm_df = pd.read_csv('data/events-US-1980-2021.csv',\n",
    "                       header=1,\n",
    "                       parse_dates=['Begin Date', 'End Date'])"
   ],
   "metadata": {
    "collapsed": false,
    "ExecuteTime": {
     "end_time": "2023-09-22T00:47:58.031580600Z",
     "start_time": "2023-09-22T00:47:58.007820900Z"
    }
   },
   "id": "424d27a366056b35"
  },
  {
   "cell_type": "code",
   "execution_count": 3,
   "outputs": [],
   "source": [
    "column_rename = {'Total CPI-Adjusted Cost (Millions of Dollars)': 'cost_in_millions'}\n",
    "storm_df.rename(columns=column_rename, inplace=True)"
   ],
   "metadata": {
    "collapsed": false,
    "ExecuteTime": {
     "end_time": "2023-09-22T00:47:58.057638500Z",
     "start_time": "2023-09-22T00:47:58.032688100Z"
    }
   },
   "id": "3a03692cc0dda1ee"
  },
  {
   "cell_type": "code",
   "execution_count": 4,
   "outputs": [
    {
     "data": {
      "text/plain": "Name                        object\nDisaster                    object\nBegin Date          datetime64[ns]\nEnd Date            datetime64[ns]\ncost_in_millions           float64\nDeaths                       int64\ndtype: object"
     },
     "execution_count": 4,
     "metadata": {},
     "output_type": "execute_result"
    }
   ],
   "source": [
    "storm_df.dtypes"
   ],
   "metadata": {
    "collapsed": false,
    "ExecuteTime": {
     "end_time": "2023-09-22T00:47:58.063043600Z",
     "start_time": "2023-09-22T00:47:58.040023600Z"
    }
   },
   "id": "fcff925d51c8f5f3"
  },
  {
   "cell_type": "code",
   "execution_count": 5,
   "outputs": [
    {
     "data": {
      "text/plain": "Disaster\nSevere Storm        152\nTropical Cyclone     57\nFlooding             36\nDrought              29\nWinter Storm         20\nWildfire             20\nFreeze                9\nName: count, dtype: int64"
     },
     "execution_count": 5,
     "metadata": {},
     "output_type": "execute_result"
    }
   ],
   "source": [
    "storm_df['Disaster'].value_counts()"
   ],
   "metadata": {
    "collapsed": false,
    "ExecuteTime": {
     "end_time": "2023-09-22T00:47:58.096477700Z",
     "start_time": "2023-09-22T00:47:58.063043600Z"
    }
   },
   "id": "f1d5cbff4f804062"
  },
  {
   "cell_type": "code",
   "execution_count": 6,
   "outputs": [],
   "source": [
    "# created columns for day, month and year to assist in future work\n",
    "# Went with start date as it would be most relevant for investigating, but can change/add to if needed\n",
    "day_list = [date.day for date in storm_df['Begin Date']]\n",
    "month_list = [date.month for date in storm_df['Begin Date']]\n",
    "year_list = [date.year for date in storm_df['Begin Date']]\n",
    "storm_df['day_start'], storm_df['month_start'], storm_df['year_start'] = day_list, month_list, year_list"
   ],
   "metadata": {
    "collapsed": false,
    "ExecuteTime": {
     "end_time": "2023-09-22T00:47:58.135639900Z",
     "start_time": "2023-09-22T00:47:58.080376400Z"
    }
   },
   "id": "188f1d2efe1cda72"
  },
  {
   "cell_type": "code",
   "execution_count": 7,
   "outputs": [],
   "source": [
    "# meteorologic seasons are easier to define as they encompass entire months\n",
    "# can also just do season mapping from the beginning, but like to keep it this way to show different methods and for simplifying steps\n",
    "met_season_numbers = [month % 12 // 3 + 1 for month in storm_df['month_start']]\n",
    "\n",
    "season_mapping = {1: 'winter', 2: 'spring', 3: 'summer', 4: 'fall'}\n",
    "\n",
    "met_season = [season_mapping[number] for number in met_season_numbers]\n",
    "storm_df['met_season'] = met_season"
   ],
   "metadata": {
    "collapsed": false,
    "ExecuteTime": {
     "end_time": "2023-09-22T00:48:06.827130900Z",
     "start_time": "2023-09-22T00:48:06.818615Z"
    }
   },
   "id": "cd4e6d3a23a366b3"
  },
  {
   "cell_type": "code",
   "execution_count": 8,
   "outputs": [],
   "source": [
    "# Calendar seasons require more logic\n",
    "# using a start day of the 21st for each season, 3, 6, 9, 12\n",
    "cal_season = []\n",
    "\n",
    "for row in storm_df.itertuples():\n",
    "    if row.month_start in [1,2]:\n",
    "        cal_season.append('winter')\n",
    "    elif row.month_start in [4,5]:\n",
    "        cal_season.append('spring')\n",
    "    elif row.month_start in [7,8]:\n",
    "        cal_season.append('summer')\n",
    "    elif row.month_start in [10,11]:\n",
    "        cal_season.append('fall')\n",
    "        \n",
    "    elif row.month_start == 3:\n",
    "        if row.day_start < 21:\n",
    "            cal_season.append('winter')\n",
    "        else:\n",
    "            cal_season.append('spring')\n",
    "    elif row.month_start == 6:\n",
    "        if row.day_start < 21:\n",
    "            cal_season.append('spring')\n",
    "        else:\n",
    "            cal_season.append('summer')\n",
    "    elif row.month_start == 9:\n",
    "        if row.day_start < 21:\n",
    "            cal_season.append('summer')\n",
    "        else:\n",
    "            cal_season.append('fall')\n",
    "    elif row.month_start == 12:\n",
    "        if row.day_start < 21:\n",
    "            cal_season.append('fall')\n",
    "        else:\n",
    "            cal_season.append('winter')\n",
    "\n",
    "storm_df['cal_season'] = cal_season"
   ],
   "metadata": {
    "collapsed": false,
    "ExecuteTime": {
     "end_time": "2023-09-22T00:48:08.191097900Z",
     "start_time": "2023-09-22T00:48:08.174835900Z"
    }
   },
   "id": "c2e836abe7775f7c"
  },
  {
   "cell_type": "code",
   "execution_count": 9,
   "outputs": [
    {
     "data": {
      "text/plain": "                                                  Name          Disaster  \\\n0     Southern Severe Storms and Flooding (April 1980)          Flooding   \n1                        Hurricane Allen (August 1980)  Tropical Cyclone   \n2    Central/Eastern Drought/Heat Wave (Summer-Fall...           Drought   \n3                        Florida Freeze (January 1981)            Freeze   \n4    Severe Storms, Flash Floods, Hail, Tornadoes (...      Severe Storm   \n..                                                 ...               ...   \n318                Hurricane Nicholas (September 2021)  Tropical Cyclone   \n319  Southeast, Central Tornado Outbreak (December ...      Severe Storm   \n320  Midwest Derecho and Tornado Outbreak (December...      Severe Storm   \n321               Western Drought and Heat Wave (2021)           Drought   \n322                           Western Wildfires (2021)          Wildfire   \n\n    Begin Date   End Date  cost_in_millions  Deaths  day_start  month_start  \\\n0   1980-04-10 1980-04-17            2473.8       7         10            4   \n1   1980-08-07 1980-08-11            2012.0      13          7            8   \n2   1980-06-01 1980-11-30           36573.0    1260          1            6   \n3   1981-01-12 1981-01-14            1864.7       0         12            1   \n4   1981-05-05 1981-05-10            1268.6      20          5            5   \n..         ...        ...               ...     ...        ...          ...   \n318 2021-09-14 2021-09-18            1056.6       0         14            9   \n319 2021-12-10 2021-12-10            3993.3      93         10           12   \n320 2021-12-15 2021-12-15            1817.6       1         15           12   \n321 2021-01-01 2021-12-31            9105.6     229          1            1   \n322 2021-06-01 2021-12-31           10816.0       8          1            6   \n\n     year_start met_season cal_season  \n0          1980     spring     spring  \n1          1980     summer     summer  \n2          1980     summer     spring  \n3          1981     winter     winter  \n4          1981     spring     spring  \n..          ...        ...        ...  \n318        2021       fall     summer  \n319        2021     winter       fall  \n320        2021     winter       fall  \n321        2021     winter     winter  \n322        2021     summer     spring  \n\n[323 rows x 11 columns]",
      "text/html": "<div>\n<style scoped>\n    .dataframe tbody tr th:only-of-type {\n        vertical-align: middle;\n    }\n\n    .dataframe tbody tr th {\n        vertical-align: top;\n    }\n\n    .dataframe thead th {\n        text-align: right;\n    }\n</style>\n<table border=\"1\" class=\"dataframe\">\n  <thead>\n    <tr style=\"text-align: right;\">\n      <th></th>\n      <th>Name</th>\n      <th>Disaster</th>\n      <th>Begin Date</th>\n      <th>End Date</th>\n      <th>cost_in_millions</th>\n      <th>Deaths</th>\n      <th>day_start</th>\n      <th>month_start</th>\n      <th>year_start</th>\n      <th>met_season</th>\n      <th>cal_season</th>\n    </tr>\n  </thead>\n  <tbody>\n    <tr>\n      <th>0</th>\n      <td>Southern Severe Storms and Flooding (April 1980)</td>\n      <td>Flooding</td>\n      <td>1980-04-10</td>\n      <td>1980-04-17</td>\n      <td>2473.8</td>\n      <td>7</td>\n      <td>10</td>\n      <td>4</td>\n      <td>1980</td>\n      <td>spring</td>\n      <td>spring</td>\n    </tr>\n    <tr>\n      <th>1</th>\n      <td>Hurricane Allen (August 1980)</td>\n      <td>Tropical Cyclone</td>\n      <td>1980-08-07</td>\n      <td>1980-08-11</td>\n      <td>2012.0</td>\n      <td>13</td>\n      <td>7</td>\n      <td>8</td>\n      <td>1980</td>\n      <td>summer</td>\n      <td>summer</td>\n    </tr>\n    <tr>\n      <th>2</th>\n      <td>Central/Eastern Drought/Heat Wave (Summer-Fall...</td>\n      <td>Drought</td>\n      <td>1980-06-01</td>\n      <td>1980-11-30</td>\n      <td>36573.0</td>\n      <td>1260</td>\n      <td>1</td>\n      <td>6</td>\n      <td>1980</td>\n      <td>summer</td>\n      <td>spring</td>\n    </tr>\n    <tr>\n      <th>3</th>\n      <td>Florida Freeze (January 1981)</td>\n      <td>Freeze</td>\n      <td>1981-01-12</td>\n      <td>1981-01-14</td>\n      <td>1864.7</td>\n      <td>0</td>\n      <td>12</td>\n      <td>1</td>\n      <td>1981</td>\n      <td>winter</td>\n      <td>winter</td>\n    </tr>\n    <tr>\n      <th>4</th>\n      <td>Severe Storms, Flash Floods, Hail, Tornadoes (...</td>\n      <td>Severe Storm</td>\n      <td>1981-05-05</td>\n      <td>1981-05-10</td>\n      <td>1268.6</td>\n      <td>20</td>\n      <td>5</td>\n      <td>5</td>\n      <td>1981</td>\n      <td>spring</td>\n      <td>spring</td>\n    </tr>\n    <tr>\n      <th>...</th>\n      <td>...</td>\n      <td>...</td>\n      <td>...</td>\n      <td>...</td>\n      <td>...</td>\n      <td>...</td>\n      <td>...</td>\n      <td>...</td>\n      <td>...</td>\n      <td>...</td>\n      <td>...</td>\n    </tr>\n    <tr>\n      <th>318</th>\n      <td>Hurricane Nicholas (September 2021)</td>\n      <td>Tropical Cyclone</td>\n      <td>2021-09-14</td>\n      <td>2021-09-18</td>\n      <td>1056.6</td>\n      <td>0</td>\n      <td>14</td>\n      <td>9</td>\n      <td>2021</td>\n      <td>fall</td>\n      <td>summer</td>\n    </tr>\n    <tr>\n      <th>319</th>\n      <td>Southeast, Central Tornado Outbreak (December ...</td>\n      <td>Severe Storm</td>\n      <td>2021-12-10</td>\n      <td>2021-12-10</td>\n      <td>3993.3</td>\n      <td>93</td>\n      <td>10</td>\n      <td>12</td>\n      <td>2021</td>\n      <td>winter</td>\n      <td>fall</td>\n    </tr>\n    <tr>\n      <th>320</th>\n      <td>Midwest Derecho and Tornado Outbreak (December...</td>\n      <td>Severe Storm</td>\n      <td>2021-12-15</td>\n      <td>2021-12-15</td>\n      <td>1817.6</td>\n      <td>1</td>\n      <td>15</td>\n      <td>12</td>\n      <td>2021</td>\n      <td>winter</td>\n      <td>fall</td>\n    </tr>\n    <tr>\n      <th>321</th>\n      <td>Western Drought and Heat Wave (2021)</td>\n      <td>Drought</td>\n      <td>2021-01-01</td>\n      <td>2021-12-31</td>\n      <td>9105.6</td>\n      <td>229</td>\n      <td>1</td>\n      <td>1</td>\n      <td>2021</td>\n      <td>winter</td>\n      <td>winter</td>\n    </tr>\n    <tr>\n      <th>322</th>\n      <td>Western Wildfires (2021)</td>\n      <td>Wildfire</td>\n      <td>2021-06-01</td>\n      <td>2021-12-31</td>\n      <td>10816.0</td>\n      <td>8</td>\n      <td>1</td>\n      <td>6</td>\n      <td>2021</td>\n      <td>summer</td>\n      <td>spring</td>\n    </tr>\n  </tbody>\n</table>\n<p>323 rows × 11 columns</p>\n</div>"
     },
     "execution_count": 9,
     "metadata": {},
     "output_type": "execute_result"
    }
   ],
   "source": [
    "storm_df"
   ],
   "metadata": {
    "collapsed": false,
    "ExecuteTime": {
     "end_time": "2023-09-22T00:48:13.123990400Z",
     "start_time": "2023-09-22T00:48:13.092205700Z"
    }
   },
   "id": "218f1736a028a67b"
  },
  {
   "cell_type": "code",
   "execution_count": 10,
   "outputs": [],
   "source": [
    "# Filtering the dataset to match the original visualisation\n",
    "severe_storm_df = storm_df.loc[storm_df['Disaster'] == 'Severe Storm'].copy(deep=True)\n",
    "severe_storm_df.reset_index(drop=True, inplace=True)"
   ],
   "metadata": {
    "collapsed": false,
    "ExecuteTime": {
     "end_time": "2023-09-22T00:48:20.224530700Z",
     "start_time": "2023-09-22T00:48:20.188715600Z"
    }
   },
   "id": "76b6b7a53c62f6db"
  },
  {
   "cell_type": "code",
   "execution_count": 11,
   "outputs": [
    {
     "data": {
      "text/plain": "                                                  Name      Disaster  \\\n0    Severe Storms, Flash Floods, Hail, Tornadoes (...  Severe Storm   \n1      Midwest/Plains/Southeast Tornadoes (April 1982)  Severe Storm   \n2                            Severe Storms (June 1982)  Severe Storm   \n3       Tornadoes, Severe Storms, Floods (Spring 1984)  Severe Storm   \n4                   Severe Storms and Hail (June 1984)  Severe Storm   \n..                                                 ...           ...   \n147                  Central Severe Storms (June 2021)  Severe Storm   \n148                  Central Severe Storms (July 2021)  Severe Storm   \n149         North Central Severe Weather (August 2021)  Severe Storm   \n150  Southeast, Central Tornado Outbreak (December ...  Severe Storm   \n151  Midwest Derecho and Tornado Outbreak (December...  Severe Storm   \n\n    Begin Date   End Date  cost_in_millions  Deaths  day_start  month_start  \\\n0   1981-05-05 1981-05-10            1268.6      20          5            5   \n1   1982-04-02 1982-04-04            1444.8      33          2            4   \n2   1982-05-31 1982-06-10            1420.6      30         31            5   \n3   1984-03-27 1984-04-07            1670.5      80         27            3   \n4   1984-06-13 1984-06-17            1222.6       1         13            6   \n..         ...        ...               ...     ...        ...          ...   \n147 2021-06-24 2021-06-26            1303.0       0         24            6   \n148 2021-07-08 2021-07-11            1123.2       0          8            7   \n149 2021-08-10 2021-08-13            1335.3       2         10            8   \n150 2021-12-10 2021-12-10            3993.3      93         10           12   \n151 2021-12-15 2021-12-15            1817.6       1         15           12   \n\n     year_start met_season cal_season  \n0          1981     spring     spring  \n1          1982     spring     spring  \n2          1982     spring     spring  \n3          1984     spring     spring  \n4          1984     summer     spring  \n..          ...        ...        ...  \n147        2021     summer     summer  \n148        2021     summer     summer  \n149        2021     summer     summer  \n150        2021     winter       fall  \n151        2021     winter       fall  \n\n[152 rows x 11 columns]",
      "text/html": "<div>\n<style scoped>\n    .dataframe tbody tr th:only-of-type {\n        vertical-align: middle;\n    }\n\n    .dataframe tbody tr th {\n        vertical-align: top;\n    }\n\n    .dataframe thead th {\n        text-align: right;\n    }\n</style>\n<table border=\"1\" class=\"dataframe\">\n  <thead>\n    <tr style=\"text-align: right;\">\n      <th></th>\n      <th>Name</th>\n      <th>Disaster</th>\n      <th>Begin Date</th>\n      <th>End Date</th>\n      <th>cost_in_millions</th>\n      <th>Deaths</th>\n      <th>day_start</th>\n      <th>month_start</th>\n      <th>year_start</th>\n      <th>met_season</th>\n      <th>cal_season</th>\n    </tr>\n  </thead>\n  <tbody>\n    <tr>\n      <th>0</th>\n      <td>Severe Storms, Flash Floods, Hail, Tornadoes (...</td>\n      <td>Severe Storm</td>\n      <td>1981-05-05</td>\n      <td>1981-05-10</td>\n      <td>1268.6</td>\n      <td>20</td>\n      <td>5</td>\n      <td>5</td>\n      <td>1981</td>\n      <td>spring</td>\n      <td>spring</td>\n    </tr>\n    <tr>\n      <th>1</th>\n      <td>Midwest/Plains/Southeast Tornadoes (April 1982)</td>\n      <td>Severe Storm</td>\n      <td>1982-04-02</td>\n      <td>1982-04-04</td>\n      <td>1444.8</td>\n      <td>33</td>\n      <td>2</td>\n      <td>4</td>\n      <td>1982</td>\n      <td>spring</td>\n      <td>spring</td>\n    </tr>\n    <tr>\n      <th>2</th>\n      <td>Severe Storms (June 1982)</td>\n      <td>Severe Storm</td>\n      <td>1982-05-31</td>\n      <td>1982-06-10</td>\n      <td>1420.6</td>\n      <td>30</td>\n      <td>31</td>\n      <td>5</td>\n      <td>1982</td>\n      <td>spring</td>\n      <td>spring</td>\n    </tr>\n    <tr>\n      <th>3</th>\n      <td>Tornadoes, Severe Storms, Floods (Spring 1984)</td>\n      <td>Severe Storm</td>\n      <td>1984-03-27</td>\n      <td>1984-04-07</td>\n      <td>1670.5</td>\n      <td>80</td>\n      <td>27</td>\n      <td>3</td>\n      <td>1984</td>\n      <td>spring</td>\n      <td>spring</td>\n    </tr>\n    <tr>\n      <th>4</th>\n      <td>Severe Storms and Hail (June 1984)</td>\n      <td>Severe Storm</td>\n      <td>1984-06-13</td>\n      <td>1984-06-17</td>\n      <td>1222.6</td>\n      <td>1</td>\n      <td>13</td>\n      <td>6</td>\n      <td>1984</td>\n      <td>summer</td>\n      <td>spring</td>\n    </tr>\n    <tr>\n      <th>...</th>\n      <td>...</td>\n      <td>...</td>\n      <td>...</td>\n      <td>...</td>\n      <td>...</td>\n      <td>...</td>\n      <td>...</td>\n      <td>...</td>\n      <td>...</td>\n      <td>...</td>\n      <td>...</td>\n    </tr>\n    <tr>\n      <th>147</th>\n      <td>Central Severe Storms (June 2021)</td>\n      <td>Severe Storm</td>\n      <td>2021-06-24</td>\n      <td>2021-06-26</td>\n      <td>1303.0</td>\n      <td>0</td>\n      <td>24</td>\n      <td>6</td>\n      <td>2021</td>\n      <td>summer</td>\n      <td>summer</td>\n    </tr>\n    <tr>\n      <th>148</th>\n      <td>Central Severe Storms (July 2021)</td>\n      <td>Severe Storm</td>\n      <td>2021-07-08</td>\n      <td>2021-07-11</td>\n      <td>1123.2</td>\n      <td>0</td>\n      <td>8</td>\n      <td>7</td>\n      <td>2021</td>\n      <td>summer</td>\n      <td>summer</td>\n    </tr>\n    <tr>\n      <th>149</th>\n      <td>North Central Severe Weather (August 2021)</td>\n      <td>Severe Storm</td>\n      <td>2021-08-10</td>\n      <td>2021-08-13</td>\n      <td>1335.3</td>\n      <td>2</td>\n      <td>10</td>\n      <td>8</td>\n      <td>2021</td>\n      <td>summer</td>\n      <td>summer</td>\n    </tr>\n    <tr>\n      <th>150</th>\n      <td>Southeast, Central Tornado Outbreak (December ...</td>\n      <td>Severe Storm</td>\n      <td>2021-12-10</td>\n      <td>2021-12-10</td>\n      <td>3993.3</td>\n      <td>93</td>\n      <td>10</td>\n      <td>12</td>\n      <td>2021</td>\n      <td>winter</td>\n      <td>fall</td>\n    </tr>\n    <tr>\n      <th>151</th>\n      <td>Midwest Derecho and Tornado Outbreak (December...</td>\n      <td>Severe Storm</td>\n      <td>2021-12-15</td>\n      <td>2021-12-15</td>\n      <td>1817.6</td>\n      <td>1</td>\n      <td>15</td>\n      <td>12</td>\n      <td>2021</td>\n      <td>winter</td>\n      <td>fall</td>\n    </tr>\n  </tbody>\n</table>\n<p>152 rows × 11 columns</p>\n</div>"
     },
     "execution_count": 11,
     "metadata": {},
     "output_type": "execute_result"
    }
   ],
   "source": [
    "severe_storm_df"
   ],
   "metadata": {
    "collapsed": false,
    "ExecuteTime": {
     "end_time": "2023-09-22T00:48:26.006888300Z",
     "start_time": "2023-09-22T00:48:25.936211100Z"
    }
   },
   "id": "411bbaaa3dbf0b38"
  },
  {
   "cell_type": "code",
   "execution_count": 12,
   "outputs": [
    {
     "name": "stdout",
     "output_type": "stream",
     "text": [
      "met_season\n",
      "fall       13503.6\n",
      "spring    231182.2\n",
      "summer     72123.2\n",
      "winter     28114.1\n",
      "Name: cost_in_millions, dtype: float64\n"
     ]
    }
   ],
   "source": [
    "met_group = severe_storm_df.groupby('met_season')['cost_in_millions'].sum()\n",
    "print(met_group)"
   ],
   "metadata": {
    "collapsed": false,
    "ExecuteTime": {
     "end_time": "2023-09-22T00:48:29.147675100Z",
     "start_time": "2023-09-22T00:48:29.121846700Z"
    }
   },
   "id": "34eef5483d06ec4d"
  },
  {
   "cell_type": "code",
   "execution_count": 13,
   "outputs": [
    {
     "name": "stdout",
     "output_type": "stream",
     "text": [
      "cal_season\n",
      "fall       21082.5\n",
      "spring    240827.0\n",
      "summer     44541.5\n",
      "winter     38472.1\n",
      "Name: cost_in_millions, dtype: float64\n"
     ]
    }
   ],
   "source": [
    "cal_group = severe_storm_df.groupby('cal_season')['cost_in_millions'].sum()\n",
    "print(cal_group)"
   ],
   "metadata": {
    "collapsed": false,
    "ExecuteTime": {
     "end_time": "2023-09-22T00:48:31.749984200Z",
     "start_time": "2023-09-22T00:48:31.722088800Z"
    }
   },
   "id": "96a0d5f7937f3982"
  },
  {
   "cell_type": "code",
   "execution_count": 72,
   "outputs": [
    {
     "data": {
      "text/plain": "                                                  Name      Disaster  \\\n0    Severe Storms, Flash Floods, Hail, Tornadoes (...  Severe Storm   \n1      Midwest/Plains/Southeast Tornadoes (April 1982)  Severe Storm   \n2                            Severe Storms (June 1982)  Severe Storm   \n3       Tornadoes, Severe Storms, Floods (Spring 1984)  Severe Storm   \n5    Ohio and Pennsylvania Tornado Outbreak (June 1...  Severe Storm   \n..                                                 ...           ...   \n141  Southeast Tornadoes and Severe Weather (March ...  Severe Storm   \n142                Eastern Severe Weather (March 2021)  Severe Storm   \n143                     Texas Hail Storms (April 2021)  Severe Storm   \n144     Texas and Oklahoma Severe Weather (April 2021)  Severe Storm   \n145  Southern Tornadoes and Southeast Severe Weathe...  Severe Storm   \n\n    Begin Date   End Date  cost_in_millions  Deaths  day_start  month_start  \\\n0   1981-05-05 1981-05-10            1268.6      20          5            5   \n1   1982-04-02 1982-04-04            1444.8      33          2            4   \n2   1982-05-31 1982-06-10            1420.6      30         31            5   \n3   1984-03-27 1984-04-07            1670.5      80         27            3   \n5   1985-05-31 1985-05-31            1584.0      89         31            5   \n..         ...        ...               ...     ...        ...          ...   \n141 2021-03-24 2021-03-25            1794.6       6         24            3   \n142 2021-03-27 2021-03-28            1440.5       8         27            3   \n143 2021-04-12 2021-04-15            1578.3       0         12            4   \n144 2021-04-27 2021-04-28            3369.5       0         27            4   \n145 2021-05-02 2021-05-04            1327.5       4          2            5   \n\n     year_start met_season cal_season  \n0          1981     spring     spring  \n1          1982     spring     spring  \n2          1982     spring     spring  \n3          1984     spring     spring  \n5          1985     spring     spring  \n..          ...        ...        ...  \n141        2021     spring     spring  \n142        2021     spring     spring  \n143        2021     spring     spring  \n144        2021     spring     spring  \n145        2021     spring     spring  \n\n[91 rows x 11 columns]",
      "text/html": "<div>\n<style scoped>\n    .dataframe tbody tr th:only-of-type {\n        vertical-align: middle;\n    }\n\n    .dataframe tbody tr th {\n        vertical-align: top;\n    }\n\n    .dataframe thead th {\n        text-align: right;\n    }\n</style>\n<table border=\"1\" class=\"dataframe\">\n  <thead>\n    <tr style=\"text-align: right;\">\n      <th></th>\n      <th>Name</th>\n      <th>Disaster</th>\n      <th>Begin Date</th>\n      <th>End Date</th>\n      <th>cost_in_millions</th>\n      <th>Deaths</th>\n      <th>day_start</th>\n      <th>month_start</th>\n      <th>year_start</th>\n      <th>met_season</th>\n      <th>cal_season</th>\n    </tr>\n  </thead>\n  <tbody>\n    <tr>\n      <th>0</th>\n      <td>Severe Storms, Flash Floods, Hail, Tornadoes (...</td>\n      <td>Severe Storm</td>\n      <td>1981-05-05</td>\n      <td>1981-05-10</td>\n      <td>1268.6</td>\n      <td>20</td>\n      <td>5</td>\n      <td>5</td>\n      <td>1981</td>\n      <td>spring</td>\n      <td>spring</td>\n    </tr>\n    <tr>\n      <th>1</th>\n      <td>Midwest/Plains/Southeast Tornadoes (April 1982)</td>\n      <td>Severe Storm</td>\n      <td>1982-04-02</td>\n      <td>1982-04-04</td>\n      <td>1444.8</td>\n      <td>33</td>\n      <td>2</td>\n      <td>4</td>\n      <td>1982</td>\n      <td>spring</td>\n      <td>spring</td>\n    </tr>\n    <tr>\n      <th>2</th>\n      <td>Severe Storms (June 1982)</td>\n      <td>Severe Storm</td>\n      <td>1982-05-31</td>\n      <td>1982-06-10</td>\n      <td>1420.6</td>\n      <td>30</td>\n      <td>31</td>\n      <td>5</td>\n      <td>1982</td>\n      <td>spring</td>\n      <td>spring</td>\n    </tr>\n    <tr>\n      <th>3</th>\n      <td>Tornadoes, Severe Storms, Floods (Spring 1984)</td>\n      <td>Severe Storm</td>\n      <td>1984-03-27</td>\n      <td>1984-04-07</td>\n      <td>1670.5</td>\n      <td>80</td>\n      <td>27</td>\n      <td>3</td>\n      <td>1984</td>\n      <td>spring</td>\n      <td>spring</td>\n    </tr>\n    <tr>\n      <th>5</th>\n      <td>Ohio and Pennsylvania Tornado Outbreak (June 1...</td>\n      <td>Severe Storm</td>\n      <td>1985-05-31</td>\n      <td>1985-05-31</td>\n      <td>1584.0</td>\n      <td>89</td>\n      <td>31</td>\n      <td>5</td>\n      <td>1985</td>\n      <td>spring</td>\n      <td>spring</td>\n    </tr>\n    <tr>\n      <th>...</th>\n      <td>...</td>\n      <td>...</td>\n      <td>...</td>\n      <td>...</td>\n      <td>...</td>\n      <td>...</td>\n      <td>...</td>\n      <td>...</td>\n      <td>...</td>\n      <td>...</td>\n      <td>...</td>\n    </tr>\n    <tr>\n      <th>141</th>\n      <td>Southeast Tornadoes and Severe Weather (March ...</td>\n      <td>Severe Storm</td>\n      <td>2021-03-24</td>\n      <td>2021-03-25</td>\n      <td>1794.6</td>\n      <td>6</td>\n      <td>24</td>\n      <td>3</td>\n      <td>2021</td>\n      <td>spring</td>\n      <td>spring</td>\n    </tr>\n    <tr>\n      <th>142</th>\n      <td>Eastern Severe Weather (March 2021)</td>\n      <td>Severe Storm</td>\n      <td>2021-03-27</td>\n      <td>2021-03-28</td>\n      <td>1440.5</td>\n      <td>8</td>\n      <td>27</td>\n      <td>3</td>\n      <td>2021</td>\n      <td>spring</td>\n      <td>spring</td>\n    </tr>\n    <tr>\n      <th>143</th>\n      <td>Texas Hail Storms (April 2021)</td>\n      <td>Severe Storm</td>\n      <td>2021-04-12</td>\n      <td>2021-04-15</td>\n      <td>1578.3</td>\n      <td>0</td>\n      <td>12</td>\n      <td>4</td>\n      <td>2021</td>\n      <td>spring</td>\n      <td>spring</td>\n    </tr>\n    <tr>\n      <th>144</th>\n      <td>Texas and Oklahoma Severe Weather (April 2021)</td>\n      <td>Severe Storm</td>\n      <td>2021-04-27</td>\n      <td>2021-04-28</td>\n      <td>3369.5</td>\n      <td>0</td>\n      <td>27</td>\n      <td>4</td>\n      <td>2021</td>\n      <td>spring</td>\n      <td>spring</td>\n    </tr>\n    <tr>\n      <th>145</th>\n      <td>Southern Tornadoes and Southeast Severe Weathe...</td>\n      <td>Severe Storm</td>\n      <td>2021-05-02</td>\n      <td>2021-05-04</td>\n      <td>1327.5</td>\n      <td>4</td>\n      <td>2</td>\n      <td>5</td>\n      <td>2021</td>\n      <td>spring</td>\n      <td>spring</td>\n    </tr>\n  </tbody>\n</table>\n<p>91 rows × 11 columns</p>\n</div>"
     },
     "execution_count": 72,
     "metadata": {},
     "output_type": "execute_result"
    }
   ],
   "source": [
    "severe_storm_df[severe_storm_df['met_season'] == 'spring']\n",
    "# severe_storm_df[severe_storm_df['met_season'] == 'summer']\n",
    "# severe_storm_df[severe_storm_df['met_season'] == 'fall']\n",
    "# severe_storm_df[severe_storm_df['met_season'] == 'winter']\n"
   ],
   "metadata": {
    "collapsed": false,
    "ExecuteTime": {
     "end_time": "2023-09-19T22:16:17.223163500Z",
     "start_time": "2023-09-19T22:16:17.172218800Z"
    }
   },
   "id": "3e9be0c7ad2928d7"
  },
  {
   "cell_type": "code",
   "execution_count": null,
   "outputs": [],
   "source": [],
   "metadata": {
    "collapsed": false
   },
   "id": "2231d14c300e4710"
  },
  {
   "cell_type": "code",
   "execution_count": 14,
   "outputs": [],
   "source": [
    "cyclone_df = storm_df.loc[storm_df['Disaster'] == 'Tropical Cyclone'].copy(deep=True)\n",
    "cyclone_df.reset_index(drop=True, inplace=True)"
   ],
   "metadata": {
    "collapsed": false,
    "ExecuteTime": {
     "end_time": "2023-09-22T00:48:37.468073400Z",
     "start_time": "2023-09-22T00:48:37.436679300Z"
    }
   },
   "id": "f6f6887732a455c0"
  },
  {
   "cell_type": "code",
   "execution_count": 15,
   "outputs": [
    {
     "data": {
      "text/plain": "                                       Name          Disaster Begin Date  \\\n0             Hurricane Allen (August 1980)  Tropical Cyclone 1980-08-07   \n1            Hurricane Alicia (August 1983)  Tropical Cyclone 1983-08-17   \n2          Hurricane Elena (September 1985)  Tropical Cyclone 1985-08-30   \n3         Hurricane Gloria (September 1985)  Tropical Cyclone 1985-09-26   \n4             Hurricane Juan (October 1985)  Tropical Cyclone 1985-10-27   \n5        Tropical Storm Allison (June 1989)  Tropical Cyclone 1989-06-26   \n6           Hurricane Hugo (September 1989)  Tropical Cyclone 1989-09-21   \n7               Hurricane Bob (August 1991)  Tropical Cyclone 1991-08-18   \n8            Hurricane Andrew (August 1992)  Tropical Cyclone 1992-08-23   \n9          Hurricane Iniki (September 1992)  Tropical Cyclone 1992-09-11   \n10       Tropical Storm Alberto (July 1994)  Tropical Cyclone 1994-07-07   \n11             Hurricane Erin (August 1995)  Tropical Cyclone 1995-08-01   \n12       Hurricane Marilyn (September 1995)  Tropical Cyclone 1995-09-15   \n13            Hurricane Opal (October 1995)  Tropical Cyclone 1995-10-04   \n14          Hurricane Fran (September 1996)  Tropical Cyclone 1996-09-05   \n15  Tropical Storm Frances (September 1998)  Tropical Cyclone 1998-08-08   \n16           Hurricane Bonnie (August 1998)  Tropical Cyclone 1998-08-27   \n17       Hurricane Georges (September 1998)  Tropical Cyclone 1998-09-20   \n18         Hurricane Floyd (September 1999)  Tropical Cyclone 1999-09-14   \n19       Tropical Storm Allison (June 2001)  Tropical Cyclone 2001-06-05   \n20            Hurricane Lili (October 2002)  Tropical Cyclone 2002-08-01   \n21  Tropical Storm Isidore (September 2002)  Tropical Cyclone 2002-09-25   \n22        Hurricane Isabel (September 2003)  Tropical Cyclone 2003-09-18   \n23          Hurricane Charley (August 2004)  Tropical Cyclone 2004-08-13   \n24       Hurricane Frances (September 2004)  Tropical Cyclone 2004-09-03   \n25          Hurricane Ivan (September 2004)  Tropical Cyclone 2004-09-12   \n26        Hurricane Jeanne (September 2004)  Tropical Cyclone 2004-09-15   \n27             Hurricane Dennis (July 2005)  Tropical Cyclone 2005-07-09   \n28          Hurricane Katrina (August 2005)  Tropical Cyclone 2005-08-25   \n29          Hurricane Rita (September 2005)  Tropical Cyclone 2005-09-20   \n30           Hurricane Wilma (October 2005)  Tropical Cyclone 2005-10-24   \n31              Hurricane Dolly (July 2008)  Tropical Cyclone 2008-07-23   \n32        Hurricane Gustav (September 2008)  Tropical Cyclone 2008-08-31   \n33           Hurricane Ike (September 2008)  Tropical Cyclone 2008-09-12   \n34            Hurricane Irene (August 2011)  Tropical Cyclone 2011-08-26   \n35      Tropical Storm Lee (September 2011)  Tropical Cyclone 2011-09-01   \n36            Hurricane Isaac (August 2012)  Tropical Cyclone 2012-08-26   \n37           Hurricane Sandy (October 2012)  Tropical Cyclone 2012-10-30   \n38         Hurricane Matthew (October 2016)  Tropical Cyclone 2016-10-08   \n39           Hurricane Harvey (August 2017)  Tropical Cyclone 2017-08-25   \n40          Hurricane Irma (September 2017)  Tropical Cyclone 2017-09-06   \n41         Hurricane Maria (September 2017)  Tropical Cyclone 2017-09-19   \n42      Hurricane Florence (September 2018)  Tropical Cyclone 2018-09-13   \n43         Hurricane Michael (October 2018)  Tropical Cyclone 2018-10-10   \n44        Hurricane Dorian (September 2019)  Tropical Cyclone 2019-08-28   \n45   Tropical Storm Imelda (September 2019)  Tropical Cyclone 2019-09-17   \n46              Hurricane Hanna (July 2020)  Tropical Cyclone 2020-07-25   \n47           Hurricane Isaias (August 2020)  Tropical Cyclone 2020-08-03   \n48            Hurricane Laura (August 2020)  Tropical Cyclone 2020-08-27   \n49         Hurricane Sally (September 2020)  Tropical Cyclone 2020-09-15   \n50           Hurricane Delta (October 2020)  Tropical Cyclone 2020-10-09   \n51            Hurricane Zeta (October 2020)  Tropical Cyclone 2020-10-28   \n52       Tropical Storm Eta (November 2020)  Tropical Cyclone 2020-11-08   \n53          Tropical Storm Elsa (July 2021)  Tropical Cyclone 2021-07-07   \n54        Tropical Storm Fred (August 2021)  Tropical Cyclone 2021-08-16   \n55              Hurricane Ida (August 2021)  Tropical Cyclone 2021-08-29   \n56      Hurricane Nicholas (September 2021)  Tropical Cyclone 2021-09-14   \n\n     End Date  cost_in_millions  Deaths  day_start  month_start  year_start  \\\n0  1980-08-11            2012.0      13          7            8        1980   \n1  1983-08-20            8490.0      21         17            8        1983   \n2  1985-09-03            3412.1       4         30            8        1985   \n3  1985-09-28            2242.9      11         26            9        1985   \n4  1985-10-31            3906.5      63         27           10        1985   \n5  1989-06-28            1339.7      11         26            6        1989   \n6  1989-09-22           20429.7      86         21            9        1989   \n7  1991-08-20            3126.0      18         18            8        1991   \n8  1992-08-27           54270.0      61         23            8        1992   \n9  1992-09-12            6231.0       7         11            9        1992   \n10 1994-07-10            1907.1      32          7            7        1994   \n11 1995-08-07            1581.0       6          1            8        1995   \n12 1995-09-17            3885.0      13         15            9        1995   \n13 1995-10-06            8674.7      27          4           10        1995   \n14 1996-09-08            9012.6      37          5            9        1996   \n15 1998-08-13            1218.0       2          8            8        1998   \n16 1998-08-29            1705.2       3         27            8        1998   \n17 1998-09-29           10353.2      16         20            9        1998   \n18 1999-09-16           10969.9      77         14            9        1999   \n19 2001-06-17           13550.0      43          5            6        2001   \n20 2002-08-05            1734.1       2          1            8        2002   \n21 2002-09-27            1805.5       5         25            9        2002   \n22 2003-09-19            8390.6      55         18            9        2003   \n23 2004-08-14           23999.3      35         13            8        2004   \n24 2004-09-09           14601.9      48          3            9        2004   \n25 2004-09-21           30545.8      57         12            9        2004   \n26 2004-09-29           11169.8      28         15            9        2004   \n27 2005-07-11            3617.8      15          9            7        2005   \n28 2005-08-30          180042.4    1833         25            8        2005   \n29 2005-09-24           26455.1     119         20            9        2005   \n30 2005-10-24           26980.0      35         24           10        2005   \n31 2008-07-25            1634.8       3         23            7        2008   \n32 2008-09-03            7736.1      53         31            8        2008   \n33 2008-09-14           38998.4     112         12            9        2008   \n34 2011-08-28           16867.6      45         26            8        2011   \n35 2011-09-05            3140.9      21          1            9        2011   \n36 2012-08-31            3399.1       9         26            8        2012   \n37 2012-10-31           79998.5     159         30           10        2012   \n38 2016-10-12           11700.0      49          8           10        2016   \n39 2017-08-31          143750.0      89         25            8        2017   \n40 2017-09-12           57500.0      97          6            9        2017   \n41 2017-09-21          103500.0    2981         19            9        2017   \n42 2018-09-16           26880.0      53         13            9        2018   \n43 2018-10-11           27972.0      49         10           10        2018   \n44 2019-09-06            1787.1      10         28            8        2019   \n45 2019-09-21            5500.0       5         17            9        2019   \n46 2020-07-26            1171.8       0         25            7        2020   \n47 2020-08-04            5185.2      16          3            8        2020   \n48 2020-08-28           25304.5      42         27            8        2020   \n49 2020-09-17            7928.7       5         15            9        2020   \n50 2020-10-11            3125.3       5          9           10        2020   \n51 2020-10-29            4743.7       6         28           10        2020   \n52 2020-11-12            1591.5      12          8           11        2020   \n53 2021-07-09            1261.5       1          7            7        2021   \n54 2021-08-18            1328.1       7         16            8        2021   \n55 2021-09-01           76514.9      96         29            8        2021   \n56 2021-09-18            1056.6       0         14            9        2021   \n\n   met_season cal_season  \n0      summer     summer  \n1      summer     summer  \n2      summer     summer  \n3        fall       fall  \n4        fall       fall  \n5      summer     summer  \n6        fall       fall  \n7      summer     summer  \n8      summer     summer  \n9        fall     summer  \n10     summer     summer  \n11     summer     summer  \n12       fall     summer  \n13       fall       fall  \n14       fall     summer  \n15     summer     summer  \n16     summer     summer  \n17       fall     summer  \n18       fall     summer  \n19     summer     spring  \n20     summer     summer  \n21       fall       fall  \n22       fall     summer  \n23     summer     summer  \n24       fall     summer  \n25       fall     summer  \n26       fall     summer  \n27     summer     summer  \n28     summer     summer  \n29       fall     summer  \n30       fall       fall  \n31     summer     summer  \n32     summer     summer  \n33       fall     summer  \n34     summer     summer  \n35       fall     summer  \n36     summer     summer  \n37       fall       fall  \n38       fall       fall  \n39     summer     summer  \n40       fall     summer  \n41       fall     summer  \n42       fall     summer  \n43       fall       fall  \n44     summer     summer  \n45       fall     summer  \n46     summer     summer  \n47     summer     summer  \n48     summer     summer  \n49       fall     summer  \n50       fall       fall  \n51       fall       fall  \n52       fall       fall  \n53     summer     summer  \n54     summer     summer  \n55     summer     summer  \n56       fall     summer  ",
      "text/html": "<div>\n<style scoped>\n    .dataframe tbody tr th:only-of-type {\n        vertical-align: middle;\n    }\n\n    .dataframe tbody tr th {\n        vertical-align: top;\n    }\n\n    .dataframe thead th {\n        text-align: right;\n    }\n</style>\n<table border=\"1\" class=\"dataframe\">\n  <thead>\n    <tr style=\"text-align: right;\">\n      <th></th>\n      <th>Name</th>\n      <th>Disaster</th>\n      <th>Begin Date</th>\n      <th>End Date</th>\n      <th>cost_in_millions</th>\n      <th>Deaths</th>\n      <th>day_start</th>\n      <th>month_start</th>\n      <th>year_start</th>\n      <th>met_season</th>\n      <th>cal_season</th>\n    </tr>\n  </thead>\n  <tbody>\n    <tr>\n      <th>0</th>\n      <td>Hurricane Allen (August 1980)</td>\n      <td>Tropical Cyclone</td>\n      <td>1980-08-07</td>\n      <td>1980-08-11</td>\n      <td>2012.0</td>\n      <td>13</td>\n      <td>7</td>\n      <td>8</td>\n      <td>1980</td>\n      <td>summer</td>\n      <td>summer</td>\n    </tr>\n    <tr>\n      <th>1</th>\n      <td>Hurricane Alicia (August 1983)</td>\n      <td>Tropical Cyclone</td>\n      <td>1983-08-17</td>\n      <td>1983-08-20</td>\n      <td>8490.0</td>\n      <td>21</td>\n      <td>17</td>\n      <td>8</td>\n      <td>1983</td>\n      <td>summer</td>\n      <td>summer</td>\n    </tr>\n    <tr>\n      <th>2</th>\n      <td>Hurricane Elena (September 1985)</td>\n      <td>Tropical Cyclone</td>\n      <td>1985-08-30</td>\n      <td>1985-09-03</td>\n      <td>3412.1</td>\n      <td>4</td>\n      <td>30</td>\n      <td>8</td>\n      <td>1985</td>\n      <td>summer</td>\n      <td>summer</td>\n    </tr>\n    <tr>\n      <th>3</th>\n      <td>Hurricane Gloria (September 1985)</td>\n      <td>Tropical Cyclone</td>\n      <td>1985-09-26</td>\n      <td>1985-09-28</td>\n      <td>2242.9</td>\n      <td>11</td>\n      <td>26</td>\n      <td>9</td>\n      <td>1985</td>\n      <td>fall</td>\n      <td>fall</td>\n    </tr>\n    <tr>\n      <th>4</th>\n      <td>Hurricane Juan (October 1985)</td>\n      <td>Tropical Cyclone</td>\n      <td>1985-10-27</td>\n      <td>1985-10-31</td>\n      <td>3906.5</td>\n      <td>63</td>\n      <td>27</td>\n      <td>10</td>\n      <td>1985</td>\n      <td>fall</td>\n      <td>fall</td>\n    </tr>\n    <tr>\n      <th>5</th>\n      <td>Tropical Storm Allison (June 1989)</td>\n      <td>Tropical Cyclone</td>\n      <td>1989-06-26</td>\n      <td>1989-06-28</td>\n      <td>1339.7</td>\n      <td>11</td>\n      <td>26</td>\n      <td>6</td>\n      <td>1989</td>\n      <td>summer</td>\n      <td>summer</td>\n    </tr>\n    <tr>\n      <th>6</th>\n      <td>Hurricane Hugo (September 1989)</td>\n      <td>Tropical Cyclone</td>\n      <td>1989-09-21</td>\n      <td>1989-09-22</td>\n      <td>20429.7</td>\n      <td>86</td>\n      <td>21</td>\n      <td>9</td>\n      <td>1989</td>\n      <td>fall</td>\n      <td>fall</td>\n    </tr>\n    <tr>\n      <th>7</th>\n      <td>Hurricane Bob (August 1991)</td>\n      <td>Tropical Cyclone</td>\n      <td>1991-08-18</td>\n      <td>1991-08-20</td>\n      <td>3126.0</td>\n      <td>18</td>\n      <td>18</td>\n      <td>8</td>\n      <td>1991</td>\n      <td>summer</td>\n      <td>summer</td>\n    </tr>\n    <tr>\n      <th>8</th>\n      <td>Hurricane Andrew (August 1992)</td>\n      <td>Tropical Cyclone</td>\n      <td>1992-08-23</td>\n      <td>1992-08-27</td>\n      <td>54270.0</td>\n      <td>61</td>\n      <td>23</td>\n      <td>8</td>\n      <td>1992</td>\n      <td>summer</td>\n      <td>summer</td>\n    </tr>\n    <tr>\n      <th>9</th>\n      <td>Hurricane Iniki (September 1992)</td>\n      <td>Tropical Cyclone</td>\n      <td>1992-09-11</td>\n      <td>1992-09-12</td>\n      <td>6231.0</td>\n      <td>7</td>\n      <td>11</td>\n      <td>9</td>\n      <td>1992</td>\n      <td>fall</td>\n      <td>summer</td>\n    </tr>\n    <tr>\n      <th>10</th>\n      <td>Tropical Storm Alberto (July 1994)</td>\n      <td>Tropical Cyclone</td>\n      <td>1994-07-07</td>\n      <td>1994-07-10</td>\n      <td>1907.1</td>\n      <td>32</td>\n      <td>7</td>\n      <td>7</td>\n      <td>1994</td>\n      <td>summer</td>\n      <td>summer</td>\n    </tr>\n    <tr>\n      <th>11</th>\n      <td>Hurricane Erin (August 1995)</td>\n      <td>Tropical Cyclone</td>\n      <td>1995-08-01</td>\n      <td>1995-08-07</td>\n      <td>1581.0</td>\n      <td>6</td>\n      <td>1</td>\n      <td>8</td>\n      <td>1995</td>\n      <td>summer</td>\n      <td>summer</td>\n    </tr>\n    <tr>\n      <th>12</th>\n      <td>Hurricane Marilyn (September 1995)</td>\n      <td>Tropical Cyclone</td>\n      <td>1995-09-15</td>\n      <td>1995-09-17</td>\n      <td>3885.0</td>\n      <td>13</td>\n      <td>15</td>\n      <td>9</td>\n      <td>1995</td>\n      <td>fall</td>\n      <td>summer</td>\n    </tr>\n    <tr>\n      <th>13</th>\n      <td>Hurricane Opal (October 1995)</td>\n      <td>Tropical Cyclone</td>\n      <td>1995-10-04</td>\n      <td>1995-10-06</td>\n      <td>8674.7</td>\n      <td>27</td>\n      <td>4</td>\n      <td>10</td>\n      <td>1995</td>\n      <td>fall</td>\n      <td>fall</td>\n    </tr>\n    <tr>\n      <th>14</th>\n      <td>Hurricane Fran (September 1996)</td>\n      <td>Tropical Cyclone</td>\n      <td>1996-09-05</td>\n      <td>1996-09-08</td>\n      <td>9012.6</td>\n      <td>37</td>\n      <td>5</td>\n      <td>9</td>\n      <td>1996</td>\n      <td>fall</td>\n      <td>summer</td>\n    </tr>\n    <tr>\n      <th>15</th>\n      <td>Tropical Storm Frances (September 1998)</td>\n      <td>Tropical Cyclone</td>\n      <td>1998-08-08</td>\n      <td>1998-08-13</td>\n      <td>1218.0</td>\n      <td>2</td>\n      <td>8</td>\n      <td>8</td>\n      <td>1998</td>\n      <td>summer</td>\n      <td>summer</td>\n    </tr>\n    <tr>\n      <th>16</th>\n      <td>Hurricane Bonnie (August 1998)</td>\n      <td>Tropical Cyclone</td>\n      <td>1998-08-27</td>\n      <td>1998-08-29</td>\n      <td>1705.2</td>\n      <td>3</td>\n      <td>27</td>\n      <td>8</td>\n      <td>1998</td>\n      <td>summer</td>\n      <td>summer</td>\n    </tr>\n    <tr>\n      <th>17</th>\n      <td>Hurricane Georges (September 1998)</td>\n      <td>Tropical Cyclone</td>\n      <td>1998-09-20</td>\n      <td>1998-09-29</td>\n      <td>10353.2</td>\n      <td>16</td>\n      <td>20</td>\n      <td>9</td>\n      <td>1998</td>\n      <td>fall</td>\n      <td>summer</td>\n    </tr>\n    <tr>\n      <th>18</th>\n      <td>Hurricane Floyd (September 1999)</td>\n      <td>Tropical Cyclone</td>\n      <td>1999-09-14</td>\n      <td>1999-09-16</td>\n      <td>10969.9</td>\n      <td>77</td>\n      <td>14</td>\n      <td>9</td>\n      <td>1999</td>\n      <td>fall</td>\n      <td>summer</td>\n    </tr>\n    <tr>\n      <th>19</th>\n      <td>Tropical Storm Allison (June 2001)</td>\n      <td>Tropical Cyclone</td>\n      <td>2001-06-05</td>\n      <td>2001-06-17</td>\n      <td>13550.0</td>\n      <td>43</td>\n      <td>5</td>\n      <td>6</td>\n      <td>2001</td>\n      <td>summer</td>\n      <td>spring</td>\n    </tr>\n    <tr>\n      <th>20</th>\n      <td>Hurricane Lili (October 2002)</td>\n      <td>Tropical Cyclone</td>\n      <td>2002-08-01</td>\n      <td>2002-08-05</td>\n      <td>1734.1</td>\n      <td>2</td>\n      <td>1</td>\n      <td>8</td>\n      <td>2002</td>\n      <td>summer</td>\n      <td>summer</td>\n    </tr>\n    <tr>\n      <th>21</th>\n      <td>Tropical Storm Isidore (September 2002)</td>\n      <td>Tropical Cyclone</td>\n      <td>2002-09-25</td>\n      <td>2002-09-27</td>\n      <td>1805.5</td>\n      <td>5</td>\n      <td>25</td>\n      <td>9</td>\n      <td>2002</td>\n      <td>fall</td>\n      <td>fall</td>\n    </tr>\n    <tr>\n      <th>22</th>\n      <td>Hurricane Isabel (September 2003)</td>\n      <td>Tropical Cyclone</td>\n      <td>2003-09-18</td>\n      <td>2003-09-19</td>\n      <td>8390.6</td>\n      <td>55</td>\n      <td>18</td>\n      <td>9</td>\n      <td>2003</td>\n      <td>fall</td>\n      <td>summer</td>\n    </tr>\n    <tr>\n      <th>23</th>\n      <td>Hurricane Charley (August 2004)</td>\n      <td>Tropical Cyclone</td>\n      <td>2004-08-13</td>\n      <td>2004-08-14</td>\n      <td>23999.3</td>\n      <td>35</td>\n      <td>13</td>\n      <td>8</td>\n      <td>2004</td>\n      <td>summer</td>\n      <td>summer</td>\n    </tr>\n    <tr>\n      <th>24</th>\n      <td>Hurricane Frances (September 2004)</td>\n      <td>Tropical Cyclone</td>\n      <td>2004-09-03</td>\n      <td>2004-09-09</td>\n      <td>14601.9</td>\n      <td>48</td>\n      <td>3</td>\n      <td>9</td>\n      <td>2004</td>\n      <td>fall</td>\n      <td>summer</td>\n    </tr>\n    <tr>\n      <th>25</th>\n      <td>Hurricane Ivan (September 2004)</td>\n      <td>Tropical Cyclone</td>\n      <td>2004-09-12</td>\n      <td>2004-09-21</td>\n      <td>30545.8</td>\n      <td>57</td>\n      <td>12</td>\n      <td>9</td>\n      <td>2004</td>\n      <td>fall</td>\n      <td>summer</td>\n    </tr>\n    <tr>\n      <th>26</th>\n      <td>Hurricane Jeanne (September 2004)</td>\n      <td>Tropical Cyclone</td>\n      <td>2004-09-15</td>\n      <td>2004-09-29</td>\n      <td>11169.8</td>\n      <td>28</td>\n      <td>15</td>\n      <td>9</td>\n      <td>2004</td>\n      <td>fall</td>\n      <td>summer</td>\n    </tr>\n    <tr>\n      <th>27</th>\n      <td>Hurricane Dennis (July 2005)</td>\n      <td>Tropical Cyclone</td>\n      <td>2005-07-09</td>\n      <td>2005-07-11</td>\n      <td>3617.8</td>\n      <td>15</td>\n      <td>9</td>\n      <td>7</td>\n      <td>2005</td>\n      <td>summer</td>\n      <td>summer</td>\n    </tr>\n    <tr>\n      <th>28</th>\n      <td>Hurricane Katrina (August 2005)</td>\n      <td>Tropical Cyclone</td>\n      <td>2005-08-25</td>\n      <td>2005-08-30</td>\n      <td>180042.4</td>\n      <td>1833</td>\n      <td>25</td>\n      <td>8</td>\n      <td>2005</td>\n      <td>summer</td>\n      <td>summer</td>\n    </tr>\n    <tr>\n      <th>29</th>\n      <td>Hurricane Rita (September 2005)</td>\n      <td>Tropical Cyclone</td>\n      <td>2005-09-20</td>\n      <td>2005-09-24</td>\n      <td>26455.1</td>\n      <td>119</td>\n      <td>20</td>\n      <td>9</td>\n      <td>2005</td>\n      <td>fall</td>\n      <td>summer</td>\n    </tr>\n    <tr>\n      <th>30</th>\n      <td>Hurricane Wilma (October 2005)</td>\n      <td>Tropical Cyclone</td>\n      <td>2005-10-24</td>\n      <td>2005-10-24</td>\n      <td>26980.0</td>\n      <td>35</td>\n      <td>24</td>\n      <td>10</td>\n      <td>2005</td>\n      <td>fall</td>\n      <td>fall</td>\n    </tr>\n    <tr>\n      <th>31</th>\n      <td>Hurricane Dolly (July 2008)</td>\n      <td>Tropical Cyclone</td>\n      <td>2008-07-23</td>\n      <td>2008-07-25</td>\n      <td>1634.8</td>\n      <td>3</td>\n      <td>23</td>\n      <td>7</td>\n      <td>2008</td>\n      <td>summer</td>\n      <td>summer</td>\n    </tr>\n    <tr>\n      <th>32</th>\n      <td>Hurricane Gustav (September 2008)</td>\n      <td>Tropical Cyclone</td>\n      <td>2008-08-31</td>\n      <td>2008-09-03</td>\n      <td>7736.1</td>\n      <td>53</td>\n      <td>31</td>\n      <td>8</td>\n      <td>2008</td>\n      <td>summer</td>\n      <td>summer</td>\n    </tr>\n    <tr>\n      <th>33</th>\n      <td>Hurricane Ike (September 2008)</td>\n      <td>Tropical Cyclone</td>\n      <td>2008-09-12</td>\n      <td>2008-09-14</td>\n      <td>38998.4</td>\n      <td>112</td>\n      <td>12</td>\n      <td>9</td>\n      <td>2008</td>\n      <td>fall</td>\n      <td>summer</td>\n    </tr>\n    <tr>\n      <th>34</th>\n      <td>Hurricane Irene (August 2011)</td>\n      <td>Tropical Cyclone</td>\n      <td>2011-08-26</td>\n      <td>2011-08-28</td>\n      <td>16867.6</td>\n      <td>45</td>\n      <td>26</td>\n      <td>8</td>\n      <td>2011</td>\n      <td>summer</td>\n      <td>summer</td>\n    </tr>\n    <tr>\n      <th>35</th>\n      <td>Tropical Storm Lee (September 2011)</td>\n      <td>Tropical Cyclone</td>\n      <td>2011-09-01</td>\n      <td>2011-09-05</td>\n      <td>3140.9</td>\n      <td>21</td>\n      <td>1</td>\n      <td>9</td>\n      <td>2011</td>\n      <td>fall</td>\n      <td>summer</td>\n    </tr>\n    <tr>\n      <th>36</th>\n      <td>Hurricane Isaac (August 2012)</td>\n      <td>Tropical Cyclone</td>\n      <td>2012-08-26</td>\n      <td>2012-08-31</td>\n      <td>3399.1</td>\n      <td>9</td>\n      <td>26</td>\n      <td>8</td>\n      <td>2012</td>\n      <td>summer</td>\n      <td>summer</td>\n    </tr>\n    <tr>\n      <th>37</th>\n      <td>Hurricane Sandy (October 2012)</td>\n      <td>Tropical Cyclone</td>\n      <td>2012-10-30</td>\n      <td>2012-10-31</td>\n      <td>79998.5</td>\n      <td>159</td>\n      <td>30</td>\n      <td>10</td>\n      <td>2012</td>\n      <td>fall</td>\n      <td>fall</td>\n    </tr>\n    <tr>\n      <th>38</th>\n      <td>Hurricane Matthew (October 2016)</td>\n      <td>Tropical Cyclone</td>\n      <td>2016-10-08</td>\n      <td>2016-10-12</td>\n      <td>11700.0</td>\n      <td>49</td>\n      <td>8</td>\n      <td>10</td>\n      <td>2016</td>\n      <td>fall</td>\n      <td>fall</td>\n    </tr>\n    <tr>\n      <th>39</th>\n      <td>Hurricane Harvey (August 2017)</td>\n      <td>Tropical Cyclone</td>\n      <td>2017-08-25</td>\n      <td>2017-08-31</td>\n      <td>143750.0</td>\n      <td>89</td>\n      <td>25</td>\n      <td>8</td>\n      <td>2017</td>\n      <td>summer</td>\n      <td>summer</td>\n    </tr>\n    <tr>\n      <th>40</th>\n      <td>Hurricane Irma (September 2017)</td>\n      <td>Tropical Cyclone</td>\n      <td>2017-09-06</td>\n      <td>2017-09-12</td>\n      <td>57500.0</td>\n      <td>97</td>\n      <td>6</td>\n      <td>9</td>\n      <td>2017</td>\n      <td>fall</td>\n      <td>summer</td>\n    </tr>\n    <tr>\n      <th>41</th>\n      <td>Hurricane Maria (September 2017)</td>\n      <td>Tropical Cyclone</td>\n      <td>2017-09-19</td>\n      <td>2017-09-21</td>\n      <td>103500.0</td>\n      <td>2981</td>\n      <td>19</td>\n      <td>9</td>\n      <td>2017</td>\n      <td>fall</td>\n      <td>summer</td>\n    </tr>\n    <tr>\n      <th>42</th>\n      <td>Hurricane Florence (September 2018)</td>\n      <td>Tropical Cyclone</td>\n      <td>2018-09-13</td>\n      <td>2018-09-16</td>\n      <td>26880.0</td>\n      <td>53</td>\n      <td>13</td>\n      <td>9</td>\n      <td>2018</td>\n      <td>fall</td>\n      <td>summer</td>\n    </tr>\n    <tr>\n      <th>43</th>\n      <td>Hurricane Michael (October 2018)</td>\n      <td>Tropical Cyclone</td>\n      <td>2018-10-10</td>\n      <td>2018-10-11</td>\n      <td>27972.0</td>\n      <td>49</td>\n      <td>10</td>\n      <td>10</td>\n      <td>2018</td>\n      <td>fall</td>\n      <td>fall</td>\n    </tr>\n    <tr>\n      <th>44</th>\n      <td>Hurricane Dorian (September 2019)</td>\n      <td>Tropical Cyclone</td>\n      <td>2019-08-28</td>\n      <td>2019-09-06</td>\n      <td>1787.1</td>\n      <td>10</td>\n      <td>28</td>\n      <td>8</td>\n      <td>2019</td>\n      <td>summer</td>\n      <td>summer</td>\n    </tr>\n    <tr>\n      <th>45</th>\n      <td>Tropical Storm Imelda (September 2019)</td>\n      <td>Tropical Cyclone</td>\n      <td>2019-09-17</td>\n      <td>2019-09-21</td>\n      <td>5500.0</td>\n      <td>5</td>\n      <td>17</td>\n      <td>9</td>\n      <td>2019</td>\n      <td>fall</td>\n      <td>summer</td>\n    </tr>\n    <tr>\n      <th>46</th>\n      <td>Hurricane Hanna (July 2020)</td>\n      <td>Tropical Cyclone</td>\n      <td>2020-07-25</td>\n      <td>2020-07-26</td>\n      <td>1171.8</td>\n      <td>0</td>\n      <td>25</td>\n      <td>7</td>\n      <td>2020</td>\n      <td>summer</td>\n      <td>summer</td>\n    </tr>\n    <tr>\n      <th>47</th>\n      <td>Hurricane Isaias (August 2020)</td>\n      <td>Tropical Cyclone</td>\n      <td>2020-08-03</td>\n      <td>2020-08-04</td>\n      <td>5185.2</td>\n      <td>16</td>\n      <td>3</td>\n      <td>8</td>\n      <td>2020</td>\n      <td>summer</td>\n      <td>summer</td>\n    </tr>\n    <tr>\n      <th>48</th>\n      <td>Hurricane Laura (August 2020)</td>\n      <td>Tropical Cyclone</td>\n      <td>2020-08-27</td>\n      <td>2020-08-28</td>\n      <td>25304.5</td>\n      <td>42</td>\n      <td>27</td>\n      <td>8</td>\n      <td>2020</td>\n      <td>summer</td>\n      <td>summer</td>\n    </tr>\n    <tr>\n      <th>49</th>\n      <td>Hurricane Sally (September 2020)</td>\n      <td>Tropical Cyclone</td>\n      <td>2020-09-15</td>\n      <td>2020-09-17</td>\n      <td>7928.7</td>\n      <td>5</td>\n      <td>15</td>\n      <td>9</td>\n      <td>2020</td>\n      <td>fall</td>\n      <td>summer</td>\n    </tr>\n    <tr>\n      <th>50</th>\n      <td>Hurricane Delta (October 2020)</td>\n      <td>Tropical Cyclone</td>\n      <td>2020-10-09</td>\n      <td>2020-10-11</td>\n      <td>3125.3</td>\n      <td>5</td>\n      <td>9</td>\n      <td>10</td>\n      <td>2020</td>\n      <td>fall</td>\n      <td>fall</td>\n    </tr>\n    <tr>\n      <th>51</th>\n      <td>Hurricane Zeta (October 2020)</td>\n      <td>Tropical Cyclone</td>\n      <td>2020-10-28</td>\n      <td>2020-10-29</td>\n      <td>4743.7</td>\n      <td>6</td>\n      <td>28</td>\n      <td>10</td>\n      <td>2020</td>\n      <td>fall</td>\n      <td>fall</td>\n    </tr>\n    <tr>\n      <th>52</th>\n      <td>Tropical Storm Eta (November 2020)</td>\n      <td>Tropical Cyclone</td>\n      <td>2020-11-08</td>\n      <td>2020-11-12</td>\n      <td>1591.5</td>\n      <td>12</td>\n      <td>8</td>\n      <td>11</td>\n      <td>2020</td>\n      <td>fall</td>\n      <td>fall</td>\n    </tr>\n    <tr>\n      <th>53</th>\n      <td>Tropical Storm Elsa (July 2021)</td>\n      <td>Tropical Cyclone</td>\n      <td>2021-07-07</td>\n      <td>2021-07-09</td>\n      <td>1261.5</td>\n      <td>1</td>\n      <td>7</td>\n      <td>7</td>\n      <td>2021</td>\n      <td>summer</td>\n      <td>summer</td>\n    </tr>\n    <tr>\n      <th>54</th>\n      <td>Tropical Storm Fred (August 2021)</td>\n      <td>Tropical Cyclone</td>\n      <td>2021-08-16</td>\n      <td>2021-08-18</td>\n      <td>1328.1</td>\n      <td>7</td>\n      <td>16</td>\n      <td>8</td>\n      <td>2021</td>\n      <td>summer</td>\n      <td>summer</td>\n    </tr>\n    <tr>\n      <th>55</th>\n      <td>Hurricane Ida (August 2021)</td>\n      <td>Tropical Cyclone</td>\n      <td>2021-08-29</td>\n      <td>2021-09-01</td>\n      <td>76514.9</td>\n      <td>96</td>\n      <td>29</td>\n      <td>8</td>\n      <td>2021</td>\n      <td>summer</td>\n      <td>summer</td>\n    </tr>\n    <tr>\n      <th>56</th>\n      <td>Hurricane Nicholas (September 2021)</td>\n      <td>Tropical Cyclone</td>\n      <td>2021-09-14</td>\n      <td>2021-09-18</td>\n      <td>1056.6</td>\n      <td>0</td>\n      <td>14</td>\n      <td>9</td>\n      <td>2021</td>\n      <td>fall</td>\n      <td>summer</td>\n    </tr>\n  </tbody>\n</table>\n</div>"
     },
     "execution_count": 15,
     "metadata": {},
     "output_type": "execute_result"
    }
   ],
   "source": [
    "cyclone_df"
   ],
   "metadata": {
    "collapsed": false,
    "ExecuteTime": {
     "end_time": "2023-09-22T00:48:38.712889900Z",
     "start_time": "2023-09-22T00:48:38.690070200Z"
    }
   },
   "id": "c94b295161ae965e"
  },
  {
   "cell_type": "code",
   "execution_count": 16,
   "outputs": [
    {
     "name": "stdout",
     "output_type": "stream",
     "text": [
      "met_season\n",
      "fall      569289.8\n",
      "summer    587945.4\n",
      "Name: cost_in_millions, dtype: float64\n"
     ]
    }
   ],
   "source": [
    "cyc_met_group = cyclone_df.groupby('met_season')['cost_in_millions'].sum()\n",
    "print(cyc_met_group)"
   ],
   "metadata": {
    "collapsed": false,
    "ExecuteTime": {
     "end_time": "2023-09-22T00:49:16.949747400Z",
     "start_time": "2023-09-22T00:49:16.909190100Z"
    }
   },
   "id": "76cb43e43d31484a"
  },
  {
   "cell_type": "code",
   "execution_count": 17,
   "outputs": [
    {
     "name": "stdout",
     "output_type": "stream",
     "text": [
      "cal_season\n",
      "fall      193170.3\n",
      "spring     13550.0\n",
      "summer    950514.9\n",
      "Name: cost_in_millions, dtype: float64\n"
     ]
    }
   ],
   "source": [
    "cyc_cal_group = cyclone_df.groupby('cal_season')['cost_in_millions'].sum()\n",
    "print(cyc_cal_group)"
   ],
   "metadata": {
    "collapsed": false,
    "ExecuteTime": {
     "end_time": "2023-09-22T00:49:58.395925900Z",
     "start_time": "2023-09-22T00:49:58.371499200Z"
    }
   },
   "id": "cc0025b8a1fdf133"
  },
  {
   "cell_type": "code",
   "execution_count": null,
   "outputs": [],
   "source": [
    "# September cyclones"
   ],
   "metadata": {
    "collapsed": false
   },
   "id": "7d57e8ca61634f34"
  },
  {
   "cell_type": "code",
   "execution_count": null,
   "outputs": [],
   "source": [],
   "metadata": {
    "collapsed": false
   },
   "id": "6f6da4f4ab580ddb"
  },
  {
   "cell_type": "code",
   "execution_count": null,
   "outputs": [],
   "source": [],
   "metadata": {
    "collapsed": false
   },
   "id": "8abd68092bcd5f7e"
  },
  {
   "cell_type": "code",
   "execution_count": null,
   "outputs": [],
   "source": [],
   "metadata": {
    "collapsed": false
   },
   "id": "de7e7e39103009f1"
  },
  {
   "cell_type": "code",
   "execution_count": null,
   "outputs": [],
   "source": [
    "# combined storms"
   ],
   "metadata": {
    "collapsed": false
   },
   "id": "4414a675ffff31a6"
  },
  {
   "cell_type": "code",
   "execution_count": null,
   "outputs": [],
   "source": [],
   "metadata": {
    "collapsed": false
   },
   "id": "4cd4ac813c7d5c"
  },
  {
   "cell_type": "code",
   "execution_count": null,
   "outputs": [],
   "source": [],
   "metadata": {
    "collapsed": false
   },
   "id": "68874f7553eb544e"
  },
  {
   "cell_type": "code",
   "execution_count": null,
   "outputs": [],
   "source": [],
   "metadata": {
    "collapsed": false
   },
   "id": "d43b5aaf46afe189"
  }
 ],
 "metadata": {
  "kernelspec": {
   "display_name": "Python 3",
   "language": "python",
   "name": "python3"
  },
  "language_info": {
   "codemirror_mode": {
    "name": "ipython",
    "version": 2
   },
   "file_extension": ".py",
   "mimetype": "text/x-python",
   "name": "python",
   "nbconvert_exporter": "python",
   "pygments_lexer": "ipython2",
   "version": "2.7.6"
  }
 },
 "nbformat": 4,
 "nbformat_minor": 5
}
