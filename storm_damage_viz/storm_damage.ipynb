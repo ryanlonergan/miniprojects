{
 "cells": [
  {
   "cell_type": "code",
   "execution_count": 55,
   "id": "initial_id",
   "metadata": {
    "collapsed": true,
    "ExecuteTime": {
     "end_time": "2023-09-19T21:47:33.174319100Z",
     "start_time": "2023-09-19T21:47:33.158428300Z"
    }
   },
   "outputs": [],
   "source": [
    "# Imports\n",
    "from datetime import datetime as dt\n",
    "import pandas as pd"
   ]
  },
  {
   "cell_type": "code",
   "execution_count": 56,
   "outputs": [],
   "source": [
    "# Reading data from source and creating df\n",
    "storm_df = pd.read_csv('data/events-US-1980-2021.csv',\n",
    "                       header=1,\n",
    "                       parse_dates=['Begin Date', 'End Date'])"
   ],
   "metadata": {
    "collapsed": false,
    "ExecuteTime": {
     "end_time": "2023-09-19T21:47:34.139279100Z",
     "start_time": "2023-09-19T21:47:34.122646300Z"
    }
   },
   "id": "424d27a366056b35"
  },
  {
   "cell_type": "code",
   "execution_count": 58,
   "outputs": [],
   "source": [
    "column_rename = {'Total CPI-Adjusted Cost (Millions of Dollars)': 'cost_in_millions'}\n",
    "storm_df.rename(columns=column_rename, inplace=True)"
   ],
   "metadata": {
    "collapsed": false,
    "ExecuteTime": {
     "end_time": "2023-09-19T21:49:24.756119500Z",
     "start_time": "2023-09-19T21:49:24.749271Z"
    }
   },
   "id": "3a03692cc0dda1ee"
  },
  {
   "cell_type": "code",
   "execution_count": 59,
   "outputs": [
    {
     "data": {
      "text/plain": "Name                        object\nDisaster                    object\nBegin Date          datetime64[ns]\nEnd Date            datetime64[ns]\ncost_in_millions           float64\nDeaths                       int64\ndtype: object"
     },
     "execution_count": 59,
     "metadata": {},
     "output_type": "execute_result"
    }
   ],
   "source": [
    "storm_df.dtypes"
   ],
   "metadata": {
    "collapsed": false,
    "ExecuteTime": {
     "end_time": "2023-09-19T21:49:26.462939100Z",
     "start_time": "2023-09-19T21:49:26.438498700Z"
    }
   },
   "id": "fcff925d51c8f5f3"
  },
  {
   "cell_type": "code",
   "execution_count": 60,
   "outputs": [
    {
     "data": {
      "text/plain": "Disaster\nSevere Storm        152\nTropical Cyclone     57\nFlooding             36\nDrought              29\nWinter Storm         20\nWildfire             20\nFreeze                9\nName: count, dtype: int64"
     },
     "execution_count": 60,
     "metadata": {},
     "output_type": "execute_result"
    }
   ],
   "source": [
    "storm_df['Disaster'].value_counts()"
   ],
   "metadata": {
    "collapsed": false,
    "ExecuteTime": {
     "end_time": "2023-09-19T21:49:31.264209Z",
     "start_time": "2023-09-19T21:49:31.243229500Z"
    }
   },
   "id": "f1d5cbff4f804062"
  },
  {
   "cell_type": "code",
   "execution_count": 61,
   "outputs": [],
   "source": [
    "# Filtering the dataset to match the original visualisation\n",
    "severe_storm_df = storm_df.loc[storm_df['Disaster'] == 'Severe Storm'].copy(deep=True)\n",
    "severe_storm_df.reset_index(drop=True, inplace=True)"
   ],
   "metadata": {
    "collapsed": false,
    "ExecuteTime": {
     "end_time": "2023-09-19T21:49:33.233927400Z",
     "start_time": "2023-09-19T21:49:33.212620600Z"
    }
   },
   "id": "76b6b7a53c62f6db"
  },
  {
   "cell_type": "code",
   "execution_count": 62,
   "outputs": [
    {
     "data": {
      "text/plain": "                                                  Name      Disaster  \\\n0    Severe Storms, Flash Floods, Hail, Tornadoes (...  Severe Storm   \n1      Midwest/Plains/Southeast Tornadoes (April 1982)  Severe Storm   \n2                            Severe Storms (June 1982)  Severe Storm   \n3       Tornadoes, Severe Storms, Floods (Spring 1984)  Severe Storm   \n4                   Severe Storms and Hail (June 1984)  Severe Storm   \n..                                                 ...           ...   \n147                  Central Severe Storms (June 2021)  Severe Storm   \n148                  Central Severe Storms (July 2021)  Severe Storm   \n149         North Central Severe Weather (August 2021)  Severe Storm   \n150  Southeast, Central Tornado Outbreak (December ...  Severe Storm   \n151  Midwest Derecho and Tornado Outbreak (December...  Severe Storm   \n\n    Begin Date   End Date  cost_in_millions  Deaths  \n0   1981-05-05 1981-05-10            1268.6      20  \n1   1982-04-02 1982-04-04            1444.8      33  \n2   1982-05-31 1982-06-10            1420.6      30  \n3   1984-03-27 1984-04-07            1670.5      80  \n4   1984-06-13 1984-06-17            1222.6       1  \n..         ...        ...               ...     ...  \n147 2021-06-24 2021-06-26            1303.0       0  \n148 2021-07-08 2021-07-11            1123.2       0  \n149 2021-08-10 2021-08-13            1335.3       2  \n150 2021-12-10 2021-12-10            3993.3      93  \n151 2021-12-15 2021-12-15            1817.6       1  \n\n[152 rows x 6 columns]",
      "text/html": "<div>\n<style scoped>\n    .dataframe tbody tr th:only-of-type {\n        vertical-align: middle;\n    }\n\n    .dataframe tbody tr th {\n        vertical-align: top;\n    }\n\n    .dataframe thead th {\n        text-align: right;\n    }\n</style>\n<table border=\"1\" class=\"dataframe\">\n  <thead>\n    <tr style=\"text-align: right;\">\n      <th></th>\n      <th>Name</th>\n      <th>Disaster</th>\n      <th>Begin Date</th>\n      <th>End Date</th>\n      <th>cost_in_millions</th>\n      <th>Deaths</th>\n    </tr>\n  </thead>\n  <tbody>\n    <tr>\n      <th>0</th>\n      <td>Severe Storms, Flash Floods, Hail, Tornadoes (...</td>\n      <td>Severe Storm</td>\n      <td>1981-05-05</td>\n      <td>1981-05-10</td>\n      <td>1268.6</td>\n      <td>20</td>\n    </tr>\n    <tr>\n      <th>1</th>\n      <td>Midwest/Plains/Southeast Tornadoes (April 1982)</td>\n      <td>Severe Storm</td>\n      <td>1982-04-02</td>\n      <td>1982-04-04</td>\n      <td>1444.8</td>\n      <td>33</td>\n    </tr>\n    <tr>\n      <th>2</th>\n      <td>Severe Storms (June 1982)</td>\n      <td>Severe Storm</td>\n      <td>1982-05-31</td>\n      <td>1982-06-10</td>\n      <td>1420.6</td>\n      <td>30</td>\n    </tr>\n    <tr>\n      <th>3</th>\n      <td>Tornadoes, Severe Storms, Floods (Spring 1984)</td>\n      <td>Severe Storm</td>\n      <td>1984-03-27</td>\n      <td>1984-04-07</td>\n      <td>1670.5</td>\n      <td>80</td>\n    </tr>\n    <tr>\n      <th>4</th>\n      <td>Severe Storms and Hail (June 1984)</td>\n      <td>Severe Storm</td>\n      <td>1984-06-13</td>\n      <td>1984-06-17</td>\n      <td>1222.6</td>\n      <td>1</td>\n    </tr>\n    <tr>\n      <th>...</th>\n      <td>...</td>\n      <td>...</td>\n      <td>...</td>\n      <td>...</td>\n      <td>...</td>\n      <td>...</td>\n    </tr>\n    <tr>\n      <th>147</th>\n      <td>Central Severe Storms (June 2021)</td>\n      <td>Severe Storm</td>\n      <td>2021-06-24</td>\n      <td>2021-06-26</td>\n      <td>1303.0</td>\n      <td>0</td>\n    </tr>\n    <tr>\n      <th>148</th>\n      <td>Central Severe Storms (July 2021)</td>\n      <td>Severe Storm</td>\n      <td>2021-07-08</td>\n      <td>2021-07-11</td>\n      <td>1123.2</td>\n      <td>0</td>\n    </tr>\n    <tr>\n      <th>149</th>\n      <td>North Central Severe Weather (August 2021)</td>\n      <td>Severe Storm</td>\n      <td>2021-08-10</td>\n      <td>2021-08-13</td>\n      <td>1335.3</td>\n      <td>2</td>\n    </tr>\n    <tr>\n      <th>150</th>\n      <td>Southeast, Central Tornado Outbreak (December ...</td>\n      <td>Severe Storm</td>\n      <td>2021-12-10</td>\n      <td>2021-12-10</td>\n      <td>3993.3</td>\n      <td>93</td>\n    </tr>\n    <tr>\n      <th>151</th>\n      <td>Midwest Derecho and Tornado Outbreak (December...</td>\n      <td>Severe Storm</td>\n      <td>2021-12-15</td>\n      <td>2021-12-15</td>\n      <td>1817.6</td>\n      <td>1</td>\n    </tr>\n  </tbody>\n</table>\n<p>152 rows × 6 columns</p>\n</div>"
     },
     "execution_count": 62,
     "metadata": {},
     "output_type": "execute_result"
    }
   ],
   "source": [
    "severe_storm_df"
   ],
   "metadata": {
    "collapsed": false,
    "ExecuteTime": {
     "end_time": "2023-09-19T21:49:35.556994700Z",
     "start_time": "2023-09-19T21:49:35.527012200Z"
    }
   },
   "id": "799dffa0c1d6d54f"
  },
  {
   "cell_type": "code",
   "execution_count": 63,
   "outputs": [],
   "source": [
    "# created columns for day, month and year to assist in future work\n",
    "# Went with start date as it would be most relevant for investigating, but can change/add to if needed\n",
    "day_list = [date.day for date in severe_storm_df['Begin Date']]\n",
    "month_list = [date.month for date in severe_storm_df['Begin Date']]\n",
    "year_list = [date.year for date in severe_storm_df['Begin Date']]\n",
    "severe_storm_df['day_start'], severe_storm_df['month_start'], severe_storm_df['year_start'] = day_list, month_list, year_list"
   ],
   "metadata": {
    "collapsed": false,
    "ExecuteTime": {
     "end_time": "2023-09-19T21:49:38.178522500Z",
     "start_time": "2023-09-19T21:49:38.164851900Z"
    }
   },
   "id": "188f1d2efe1cda72"
  },
  {
   "cell_type": "code",
   "execution_count": 64,
   "outputs": [],
   "source": [
    "# meteorologic seasons are easier to define as they encompass entire months\n",
    "# can also just do season mapping from the beginning, but like to keep it this way to show different methods and for simplifying steps\n",
    "met_season_numbers = [month % 12 // 3 + 1 for month in severe_storm_df['month_start']]\n",
    "\n",
    "season_mapping = {1: 'winter', 2: 'spring', 3: 'summer', 4: 'fall'}\n",
    "\n",
    "met_season = [season_mapping[number] for number in met_season_numbers]\n",
    "severe_storm_df['met_season'] = met_season"
   ],
   "metadata": {
    "collapsed": false,
    "ExecuteTime": {
     "end_time": "2023-09-19T21:49:39.775155800Z",
     "start_time": "2023-09-19T21:49:39.760355600Z"
    }
   },
   "id": "cd4e6d3a23a366b3"
  },
  {
   "cell_type": "code",
   "execution_count": 65,
   "outputs": [],
   "source": [
    "# Calendar seasons require more logic\n",
    "# using a start day of the 21st for each season, 3, 6, 9, 12\n",
    "cal_season = []\n",
    "\n",
    "for row in severe_storm_df.itertuples():\n",
    "    if row.month_start in [1,2]:\n",
    "        cal_season.append('winter')\n",
    "    elif row.month_start in [4,5]:\n",
    "        cal_season.append('spring')\n",
    "    elif row.month_start in [7,8]:\n",
    "        cal_season.append('summer')\n",
    "    elif row.month_start in [10,11]:\n",
    "        cal_season.append('fall')\n",
    "        \n",
    "    elif row.month_start == 3:\n",
    "        if row.day_start < 21:\n",
    "            cal_season.append('winter')\n",
    "        else:\n",
    "            cal_season.append('spring')\n",
    "    elif row.month_start == 6:\n",
    "        if row.day_start < 21:\n",
    "            cal_season.append('spring')\n",
    "        else:\n",
    "            cal_season.append('summer')\n",
    "    elif row.month_start == 9:\n",
    "        if row.day_start < 21:\n",
    "            cal_season.append('summer')\n",
    "        else:\n",
    "            cal_season.append('fall')\n",
    "    elif row.month_start == 12:\n",
    "        if row.day_start < 21:\n",
    "            cal_season.append('fall')\n",
    "        else:\n",
    "            cal_season.append('winter')\n",
    "\n",
    "severe_storm_df['cal_season'] = cal_season"
   ],
   "metadata": {
    "collapsed": false,
    "ExecuteTime": {
     "end_time": "2023-09-19T21:49:42.127891600Z",
     "start_time": "2023-09-19T21:49:42.114880200Z"
    }
   },
   "id": "c2e836abe7775f7c"
  },
  {
   "cell_type": "code",
   "execution_count": 66,
   "outputs": [
    {
     "data": {
      "text/plain": "                                                  Name      Disaster  \\\n0    Severe Storms, Flash Floods, Hail, Tornadoes (...  Severe Storm   \n1      Midwest/Plains/Southeast Tornadoes (April 1982)  Severe Storm   \n2                            Severe Storms (June 1982)  Severe Storm   \n3       Tornadoes, Severe Storms, Floods (Spring 1984)  Severe Storm   \n4                   Severe Storms and Hail (June 1984)  Severe Storm   \n..                                                 ...           ...   \n147                  Central Severe Storms (June 2021)  Severe Storm   \n148                  Central Severe Storms (July 2021)  Severe Storm   \n149         North Central Severe Weather (August 2021)  Severe Storm   \n150  Southeast, Central Tornado Outbreak (December ...  Severe Storm   \n151  Midwest Derecho and Tornado Outbreak (December...  Severe Storm   \n\n    Begin Date   End Date  cost_in_millions  Deaths  day_start  month_start  \\\n0   1981-05-05 1981-05-10            1268.6      20          5            5   \n1   1982-04-02 1982-04-04            1444.8      33          2            4   \n2   1982-05-31 1982-06-10            1420.6      30         31            5   \n3   1984-03-27 1984-04-07            1670.5      80         27            3   \n4   1984-06-13 1984-06-17            1222.6       1         13            6   \n..         ...        ...               ...     ...        ...          ...   \n147 2021-06-24 2021-06-26            1303.0       0         24            6   \n148 2021-07-08 2021-07-11            1123.2       0          8            7   \n149 2021-08-10 2021-08-13            1335.3       2         10            8   \n150 2021-12-10 2021-12-10            3993.3      93         10           12   \n151 2021-12-15 2021-12-15            1817.6       1         15           12   \n\n     year_start met_season cal_season  \n0          1981     spring     spring  \n1          1982     spring     spring  \n2          1982     spring     spring  \n3          1984     spring     spring  \n4          1984     summer     spring  \n..          ...        ...        ...  \n147        2021     summer     summer  \n148        2021     summer     summer  \n149        2021     summer     summer  \n150        2021     winter       fall  \n151        2021     winter       fall  \n\n[152 rows x 11 columns]",
      "text/html": "<div>\n<style scoped>\n    .dataframe tbody tr th:only-of-type {\n        vertical-align: middle;\n    }\n\n    .dataframe tbody tr th {\n        vertical-align: top;\n    }\n\n    .dataframe thead th {\n        text-align: right;\n    }\n</style>\n<table border=\"1\" class=\"dataframe\">\n  <thead>\n    <tr style=\"text-align: right;\">\n      <th></th>\n      <th>Name</th>\n      <th>Disaster</th>\n      <th>Begin Date</th>\n      <th>End Date</th>\n      <th>cost_in_millions</th>\n      <th>Deaths</th>\n      <th>day_start</th>\n      <th>month_start</th>\n      <th>year_start</th>\n      <th>met_season</th>\n      <th>cal_season</th>\n    </tr>\n  </thead>\n  <tbody>\n    <tr>\n      <th>0</th>\n      <td>Severe Storms, Flash Floods, Hail, Tornadoes (...</td>\n      <td>Severe Storm</td>\n      <td>1981-05-05</td>\n      <td>1981-05-10</td>\n      <td>1268.6</td>\n      <td>20</td>\n      <td>5</td>\n      <td>5</td>\n      <td>1981</td>\n      <td>spring</td>\n      <td>spring</td>\n    </tr>\n    <tr>\n      <th>1</th>\n      <td>Midwest/Plains/Southeast Tornadoes (April 1982)</td>\n      <td>Severe Storm</td>\n      <td>1982-04-02</td>\n      <td>1982-04-04</td>\n      <td>1444.8</td>\n      <td>33</td>\n      <td>2</td>\n      <td>4</td>\n      <td>1982</td>\n      <td>spring</td>\n      <td>spring</td>\n    </tr>\n    <tr>\n      <th>2</th>\n      <td>Severe Storms (June 1982)</td>\n      <td>Severe Storm</td>\n      <td>1982-05-31</td>\n      <td>1982-06-10</td>\n      <td>1420.6</td>\n      <td>30</td>\n      <td>31</td>\n      <td>5</td>\n      <td>1982</td>\n      <td>spring</td>\n      <td>spring</td>\n    </tr>\n    <tr>\n      <th>3</th>\n      <td>Tornadoes, Severe Storms, Floods (Spring 1984)</td>\n      <td>Severe Storm</td>\n      <td>1984-03-27</td>\n      <td>1984-04-07</td>\n      <td>1670.5</td>\n      <td>80</td>\n      <td>27</td>\n      <td>3</td>\n      <td>1984</td>\n      <td>spring</td>\n      <td>spring</td>\n    </tr>\n    <tr>\n      <th>4</th>\n      <td>Severe Storms and Hail (June 1984)</td>\n      <td>Severe Storm</td>\n      <td>1984-06-13</td>\n      <td>1984-06-17</td>\n      <td>1222.6</td>\n      <td>1</td>\n      <td>13</td>\n      <td>6</td>\n      <td>1984</td>\n      <td>summer</td>\n      <td>spring</td>\n    </tr>\n    <tr>\n      <th>...</th>\n      <td>...</td>\n      <td>...</td>\n      <td>...</td>\n      <td>...</td>\n      <td>...</td>\n      <td>...</td>\n      <td>...</td>\n      <td>...</td>\n      <td>...</td>\n      <td>...</td>\n      <td>...</td>\n    </tr>\n    <tr>\n      <th>147</th>\n      <td>Central Severe Storms (June 2021)</td>\n      <td>Severe Storm</td>\n      <td>2021-06-24</td>\n      <td>2021-06-26</td>\n      <td>1303.0</td>\n      <td>0</td>\n      <td>24</td>\n      <td>6</td>\n      <td>2021</td>\n      <td>summer</td>\n      <td>summer</td>\n    </tr>\n    <tr>\n      <th>148</th>\n      <td>Central Severe Storms (July 2021)</td>\n      <td>Severe Storm</td>\n      <td>2021-07-08</td>\n      <td>2021-07-11</td>\n      <td>1123.2</td>\n      <td>0</td>\n      <td>8</td>\n      <td>7</td>\n      <td>2021</td>\n      <td>summer</td>\n      <td>summer</td>\n    </tr>\n    <tr>\n      <th>149</th>\n      <td>North Central Severe Weather (August 2021)</td>\n      <td>Severe Storm</td>\n      <td>2021-08-10</td>\n      <td>2021-08-13</td>\n      <td>1335.3</td>\n      <td>2</td>\n      <td>10</td>\n      <td>8</td>\n      <td>2021</td>\n      <td>summer</td>\n      <td>summer</td>\n    </tr>\n    <tr>\n      <th>150</th>\n      <td>Southeast, Central Tornado Outbreak (December ...</td>\n      <td>Severe Storm</td>\n      <td>2021-12-10</td>\n      <td>2021-12-10</td>\n      <td>3993.3</td>\n      <td>93</td>\n      <td>10</td>\n      <td>12</td>\n      <td>2021</td>\n      <td>winter</td>\n      <td>fall</td>\n    </tr>\n    <tr>\n      <th>151</th>\n      <td>Midwest Derecho and Tornado Outbreak (December...</td>\n      <td>Severe Storm</td>\n      <td>2021-12-15</td>\n      <td>2021-12-15</td>\n      <td>1817.6</td>\n      <td>1</td>\n      <td>15</td>\n      <td>12</td>\n      <td>2021</td>\n      <td>winter</td>\n      <td>fall</td>\n    </tr>\n  </tbody>\n</table>\n<p>152 rows × 11 columns</p>\n</div>"
     },
     "execution_count": 66,
     "metadata": {},
     "output_type": "execute_result"
    }
   ],
   "source": [
    "severe_storm_df"
   ],
   "metadata": {
    "collapsed": false,
    "ExecuteTime": {
     "end_time": "2023-09-19T21:49:45.104762600Z",
     "start_time": "2023-09-19T21:49:45.072083700Z"
    }
   },
   "id": "411bbaaa3dbf0b38"
  },
  {
   "cell_type": "code",
   "execution_count": 67,
   "outputs": [
    {
     "name": "stdout",
     "output_type": "stream",
     "text": [
      "met_season\n",
      "fall       13503.6\n",
      "spring    231182.2\n",
      "summer     72123.2\n",
      "winter     28114.1\n",
      "Name: cost_in_millions, dtype: float64\n"
     ]
    }
   ],
   "source": [
    "met_group = severe_storm_df.groupby('met_season')['cost_in_millions'].sum()\n",
    "print(met_group)"
   ],
   "metadata": {
    "collapsed": false,
    "ExecuteTime": {
     "end_time": "2023-09-19T21:50:25.248586300Z",
     "start_time": "2023-09-19T21:50:25.228323Z"
    }
   },
   "id": "34eef5483d06ec4d"
  },
  {
   "cell_type": "code",
   "execution_count": 68,
   "outputs": [
    {
     "name": "stdout",
     "output_type": "stream",
     "text": [
      "cal_season\n",
      "fall       21082.5\n",
      "spring    240827.0\n",
      "summer     44541.5\n",
      "winter     38472.1\n",
      "Name: cost_in_millions, dtype: float64\n"
     ]
    }
   ],
   "source": [
    "cal_group = severe_storm_df.groupby('cal_season')['cost_in_millions'].sum()\n",
    "print(cal_group)"
   ],
   "metadata": {
    "collapsed": false,
    "ExecuteTime": {
     "end_time": "2023-09-19T21:56:06.882439600Z",
     "start_time": "2023-09-19T21:56:06.875211800Z"
    }
   },
   "id": "96a0d5f7937f3982"
  },
  {
   "cell_type": "code",
   "execution_count": 54,
   "outputs": [
    {
     "data": {
      "text/plain": "<pandas.core.groupby.generic.DataFrameGroupBy object at 0x000001947BC291D0>"
     },
     "execution_count": 54,
     "metadata": {},
     "output_type": "execute_result"
    }
   ],
   "source": [
    "met_group\n"
   ],
   "metadata": {
    "collapsed": false,
    "ExecuteTime": {
     "end_time": "2023-09-19T21:46:14.746279900Z",
     "start_time": "2023-09-19T21:46:14.736643700Z"
    }
   },
   "id": "3e9be0c7ad2928d7"
  }
 ],
 "metadata": {
  "kernelspec": {
   "display_name": "Python 3",
   "language": "python",
   "name": "python3"
  },
  "language_info": {
   "codemirror_mode": {
    "name": "ipython",
    "version": 2
   },
   "file_extension": ".py",
   "mimetype": "text/x-python",
   "name": "python",
   "nbconvert_exporter": "python",
   "pygments_lexer": "ipython2",
   "version": "2.7.6"
  }
 },
 "nbformat": 4,
 "nbformat_minor": 5
}
