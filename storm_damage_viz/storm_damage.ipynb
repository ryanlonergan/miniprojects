{
 "cells": [
  {
   "cell_type": "code",
   "execution_count": 3,
   "id": "initial_id",
   "metadata": {
    "collapsed": true,
    "ExecuteTime": {
     "end_time": "2023-09-13T23:55:40.461973900Z",
     "start_time": "2023-09-13T23:55:39.767876500Z"
    }
   },
   "outputs": [],
   "source": [
    "# Imports\n",
    "import pandas as pd"
   ]
  },
  {
   "cell_type": "code",
   "execution_count": 19,
   "outputs": [],
   "source": [
    "# Reading data from source and creating df\n",
    "storm_df = pd.read_csv('data/events-US-1980-2021.csv',\n",
    "                       header=1,\n",
    "                       parse_dates=['Begin Date', 'End Date'])"
   ],
   "metadata": {
    "collapsed": false,
    "ExecuteTime": {
     "end_time": "2023-09-14T00:28:08.057356400Z",
     "start_time": "2023-09-14T00:28:08.012076800Z"
    }
   },
   "id": "424d27a366056b35"
  },
  {
   "cell_type": "code",
   "execution_count": 20,
   "outputs": [
    {
     "data": {
      "text/plain": "Name                                                     object\nDisaster                                                 object\nBegin Date                                       datetime64[ns]\nEnd Date                                         datetime64[ns]\nTotal CPI-Adjusted Cost (Millions of Dollars)           float64\nDeaths                                                    int64\ndtype: object"
     },
     "execution_count": 20,
     "metadata": {},
     "output_type": "execute_result"
    }
   ],
   "source": [
    "storm_df.dtypes"
   ],
   "metadata": {
    "collapsed": false,
    "ExecuteTime": {
     "end_time": "2023-09-14T00:28:09.418574700Z",
     "start_time": "2023-09-14T00:28:09.411184600Z"
    }
   },
   "id": "fcff925d51c8f5f3"
  },
  {
   "cell_type": "code",
   "execution_count": 21,
   "outputs": [
    {
     "data": {
      "text/plain": "                                                  Name          Disaster  \\\n0     Southern Severe Storms and Flooding (April 1980)          Flooding   \n1                        Hurricane Allen (August 1980)  Tropical Cyclone   \n2    Central/Eastern Drought/Heat Wave (Summer-Fall...           Drought   \n3                        Florida Freeze (January 1981)            Freeze   \n4    Severe Storms, Flash Floods, Hail, Tornadoes (...      Severe Storm   \n..                                                 ...               ...   \n318                Hurricane Nicholas (September 2021)  Tropical Cyclone   \n319  Southeast, Central Tornado Outbreak (December ...      Severe Storm   \n320  Midwest Derecho and Tornado Outbreak (December...      Severe Storm   \n321               Western Drought and Heat Wave (2021)           Drought   \n322                           Western Wildfires (2021)          Wildfire   \n\n    Begin Date   End Date  Total CPI-Adjusted Cost (Millions of Dollars)  \\\n0   1980-04-10 1980-04-17                                         2473.8   \n1   1980-08-07 1980-08-11                                         2012.0   \n2   1980-06-01 1980-11-30                                        36573.0   \n3   1981-01-12 1981-01-14                                         1864.7   \n4   1981-05-05 1981-05-10                                         1268.6   \n..         ...        ...                                            ...   \n318 2021-09-14 2021-09-18                                         1056.6   \n319 2021-12-10 2021-12-10                                         3993.3   \n320 2021-12-15 2021-12-15                                         1817.6   \n321 2021-01-01 2021-12-31                                         9105.6   \n322 2021-06-01 2021-12-31                                        10816.0   \n\n     Deaths  \n0         7  \n1        13  \n2      1260  \n3         0  \n4        20  \n..      ...  \n318       0  \n319      93  \n320       1  \n321     229  \n322       8  \n\n[323 rows x 6 columns]",
      "text/html": "<div>\n<style scoped>\n    .dataframe tbody tr th:only-of-type {\n        vertical-align: middle;\n    }\n\n    .dataframe tbody tr th {\n        vertical-align: top;\n    }\n\n    .dataframe thead th {\n        text-align: right;\n    }\n</style>\n<table border=\"1\" class=\"dataframe\">\n  <thead>\n    <tr style=\"text-align: right;\">\n      <th></th>\n      <th>Name</th>\n      <th>Disaster</th>\n      <th>Begin Date</th>\n      <th>End Date</th>\n      <th>Total CPI-Adjusted Cost (Millions of Dollars)</th>\n      <th>Deaths</th>\n    </tr>\n  </thead>\n  <tbody>\n    <tr>\n      <th>0</th>\n      <td>Southern Severe Storms and Flooding (April 1980)</td>\n      <td>Flooding</td>\n      <td>1980-04-10</td>\n      <td>1980-04-17</td>\n      <td>2473.8</td>\n      <td>7</td>\n    </tr>\n    <tr>\n      <th>1</th>\n      <td>Hurricane Allen (August 1980)</td>\n      <td>Tropical Cyclone</td>\n      <td>1980-08-07</td>\n      <td>1980-08-11</td>\n      <td>2012.0</td>\n      <td>13</td>\n    </tr>\n    <tr>\n      <th>2</th>\n      <td>Central/Eastern Drought/Heat Wave (Summer-Fall...</td>\n      <td>Drought</td>\n      <td>1980-06-01</td>\n      <td>1980-11-30</td>\n      <td>36573.0</td>\n      <td>1260</td>\n    </tr>\n    <tr>\n      <th>3</th>\n      <td>Florida Freeze (January 1981)</td>\n      <td>Freeze</td>\n      <td>1981-01-12</td>\n      <td>1981-01-14</td>\n      <td>1864.7</td>\n      <td>0</td>\n    </tr>\n    <tr>\n      <th>4</th>\n      <td>Severe Storms, Flash Floods, Hail, Tornadoes (...</td>\n      <td>Severe Storm</td>\n      <td>1981-05-05</td>\n      <td>1981-05-10</td>\n      <td>1268.6</td>\n      <td>20</td>\n    </tr>\n    <tr>\n      <th>...</th>\n      <td>...</td>\n      <td>...</td>\n      <td>...</td>\n      <td>...</td>\n      <td>...</td>\n      <td>...</td>\n    </tr>\n    <tr>\n      <th>318</th>\n      <td>Hurricane Nicholas (September 2021)</td>\n      <td>Tropical Cyclone</td>\n      <td>2021-09-14</td>\n      <td>2021-09-18</td>\n      <td>1056.6</td>\n      <td>0</td>\n    </tr>\n    <tr>\n      <th>319</th>\n      <td>Southeast, Central Tornado Outbreak (December ...</td>\n      <td>Severe Storm</td>\n      <td>2021-12-10</td>\n      <td>2021-12-10</td>\n      <td>3993.3</td>\n      <td>93</td>\n    </tr>\n    <tr>\n      <th>320</th>\n      <td>Midwest Derecho and Tornado Outbreak (December...</td>\n      <td>Severe Storm</td>\n      <td>2021-12-15</td>\n      <td>2021-12-15</td>\n      <td>1817.6</td>\n      <td>1</td>\n    </tr>\n    <tr>\n      <th>321</th>\n      <td>Western Drought and Heat Wave (2021)</td>\n      <td>Drought</td>\n      <td>2021-01-01</td>\n      <td>2021-12-31</td>\n      <td>9105.6</td>\n      <td>229</td>\n    </tr>\n    <tr>\n      <th>322</th>\n      <td>Western Wildfires (2021)</td>\n      <td>Wildfire</td>\n      <td>2021-06-01</td>\n      <td>2021-12-31</td>\n      <td>10816.0</td>\n      <td>8</td>\n    </tr>\n  </tbody>\n</table>\n<p>323 rows × 6 columns</p>\n</div>"
     },
     "execution_count": 21,
     "metadata": {},
     "output_type": "execute_result"
    }
   ],
   "source": [
    "storm_df"
   ],
   "metadata": {
    "collapsed": false,
    "ExecuteTime": {
     "end_time": "2023-09-14T00:28:14.514835500Z",
     "start_time": "2023-09-14T00:28:14.509844Z"
    }
   },
   "id": "76b6b7a53c62f6db"
  }
 ],
 "metadata": {
  "kernelspec": {
   "display_name": "Python 3",
   "language": "python",
   "name": "python3"
  },
  "language_info": {
   "codemirror_mode": {
    "name": "ipython",
    "version": 2
   },
   "file_extension": ".py",
   "mimetype": "text/x-python",
   "name": "python",
   "nbconvert_exporter": "python",
   "pygments_lexer": "ipython2",
   "version": "2.7.6"
  }
 },
 "nbformat": 4,
 "nbformat_minor": 5
}
