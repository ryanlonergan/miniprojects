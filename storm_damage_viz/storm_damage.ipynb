{
 "cells": [
  {
   "cell_type": "code",
   "execution_count": 9,
   "id": "initial_id",
   "metadata": {
    "collapsed": true,
    "ExecuteTime": {
     "end_time": "2023-09-14T20:59:44.663378700Z",
     "start_time": "2023-09-14T20:59:44.648967500Z"
    }
   },
   "outputs": [],
   "source": [
    "# Imports\n",
    "from datetime import datetime as dt\n",
    "import pandas as pd"
   ]
  },
  {
   "cell_type": "code",
   "execution_count": 2,
   "outputs": [],
   "source": [
    "# Reading data from source and creating df\n",
    "storm_df = pd.read_csv('data/events-US-1980-2021.csv',\n",
    "                       header=1,\n",
    "                       parse_dates=['Begin Date', 'End Date'])"
   ],
   "metadata": {
    "collapsed": false,
    "ExecuteTime": {
     "end_time": "2023-09-14T19:41:28.079451800Z",
     "start_time": "2023-09-14T19:41:28.008976900Z"
    }
   },
   "id": "424d27a366056b35"
  },
  {
   "cell_type": "code",
   "execution_count": 3,
   "outputs": [
    {
     "data": {
      "text/plain": "Name                                                     object\nDisaster                                                 object\nBegin Date                                       datetime64[ns]\nEnd Date                                         datetime64[ns]\nTotal CPI-Adjusted Cost (Millions of Dollars)           float64\nDeaths                                                    int64\ndtype: object"
     },
     "execution_count": 3,
     "metadata": {},
     "output_type": "execute_result"
    }
   ],
   "source": [
    "storm_df.dtypes"
   ],
   "metadata": {
    "collapsed": false,
    "ExecuteTime": {
     "end_time": "2023-09-14T19:41:28.079451800Z",
     "start_time": "2023-09-14T19:41:28.048707400Z"
    }
   },
   "id": "fcff925d51c8f5f3"
  },
  {
   "cell_type": "code",
   "execution_count": 4,
   "outputs": [
    {
     "data": {
      "text/plain": "Disaster\nSevere Storm        152\nTropical Cyclone     57\nFlooding             36\nDrought              29\nWinter Storm         20\nWildfire             20\nFreeze                9\nName: count, dtype: int64"
     },
     "execution_count": 4,
     "metadata": {},
     "output_type": "execute_result"
    }
   ],
   "source": [
    "storm_df['Disaster'].value_counts()"
   ],
   "metadata": {
    "collapsed": false,
    "ExecuteTime": {
     "end_time": "2023-09-14T19:41:28.079451800Z",
     "start_time": "2023-09-14T19:41:28.075931700Z"
    }
   },
   "id": "f1d5cbff4f804062"
  },
  {
   "cell_type": "code",
   "execution_count": 43,
   "outputs": [],
   "source": [
    "# Filtering the dataset to match the original visualisation\n",
    "severe_storm_df = storm_df.loc[storm_df['Disaster'] == 'Severe Storm'].copy(deep=True)\n",
    "severe_storm_df.reset_index(drop=True, inplace=True)"
   ],
   "metadata": {
    "collapsed": false,
    "ExecuteTime": {
     "end_time": "2023-09-14T22:16:17.451430100Z",
     "start_time": "2023-09-14T22:16:17.423114900Z"
    }
   },
   "id": "76b6b7a53c62f6db"
  },
  {
   "cell_type": "code",
   "execution_count": 44,
   "outputs": [
    {
     "data": {
      "text/plain": "                                                  Name      Disaster  \\\n0    Severe Storms, Flash Floods, Hail, Tornadoes (...  Severe Storm   \n1      Midwest/Plains/Southeast Tornadoes (April 1982)  Severe Storm   \n2                            Severe Storms (June 1982)  Severe Storm   \n3       Tornadoes, Severe Storms, Floods (Spring 1984)  Severe Storm   \n4                   Severe Storms and Hail (June 1984)  Severe Storm   \n..                                                 ...           ...   \n147                  Central Severe Storms (June 2021)  Severe Storm   \n148                  Central Severe Storms (July 2021)  Severe Storm   \n149         North Central Severe Weather (August 2021)  Severe Storm   \n150  Southeast, Central Tornado Outbreak (December ...  Severe Storm   \n151  Midwest Derecho and Tornado Outbreak (December...  Severe Storm   \n\n    Begin Date   End Date  Total CPI-Adjusted Cost (Millions of Dollars)  \\\n0   1981-05-05 1981-05-10                                         1268.6   \n1   1982-04-02 1982-04-04                                         1444.8   \n2   1982-05-31 1982-06-10                                         1420.6   \n3   1984-03-27 1984-04-07                                         1670.5   \n4   1984-06-13 1984-06-17                                         1222.6   \n..         ...        ...                                            ...   \n147 2021-06-24 2021-06-26                                         1303.0   \n148 2021-07-08 2021-07-11                                         1123.2   \n149 2021-08-10 2021-08-13                                         1335.3   \n150 2021-12-10 2021-12-10                                         3993.3   \n151 2021-12-15 2021-12-15                                         1817.6   \n\n     Deaths  \n0        20  \n1        33  \n2        30  \n3        80  \n4         1  \n..      ...  \n147       0  \n148       0  \n149       2  \n150      93  \n151       1  \n\n[152 rows x 6 columns]",
      "text/html": "<div>\n<style scoped>\n    .dataframe tbody tr th:only-of-type {\n        vertical-align: middle;\n    }\n\n    .dataframe tbody tr th {\n        vertical-align: top;\n    }\n\n    .dataframe thead th {\n        text-align: right;\n    }\n</style>\n<table border=\"1\" class=\"dataframe\">\n  <thead>\n    <tr style=\"text-align: right;\">\n      <th></th>\n      <th>Name</th>\n      <th>Disaster</th>\n      <th>Begin Date</th>\n      <th>End Date</th>\n      <th>Total CPI-Adjusted Cost (Millions of Dollars)</th>\n      <th>Deaths</th>\n    </tr>\n  </thead>\n  <tbody>\n    <tr>\n      <th>0</th>\n      <td>Severe Storms, Flash Floods, Hail, Tornadoes (...</td>\n      <td>Severe Storm</td>\n      <td>1981-05-05</td>\n      <td>1981-05-10</td>\n      <td>1268.6</td>\n      <td>20</td>\n    </tr>\n    <tr>\n      <th>1</th>\n      <td>Midwest/Plains/Southeast Tornadoes (April 1982)</td>\n      <td>Severe Storm</td>\n      <td>1982-04-02</td>\n      <td>1982-04-04</td>\n      <td>1444.8</td>\n      <td>33</td>\n    </tr>\n    <tr>\n      <th>2</th>\n      <td>Severe Storms (June 1982)</td>\n      <td>Severe Storm</td>\n      <td>1982-05-31</td>\n      <td>1982-06-10</td>\n      <td>1420.6</td>\n      <td>30</td>\n    </tr>\n    <tr>\n      <th>3</th>\n      <td>Tornadoes, Severe Storms, Floods (Spring 1984)</td>\n      <td>Severe Storm</td>\n      <td>1984-03-27</td>\n      <td>1984-04-07</td>\n      <td>1670.5</td>\n      <td>80</td>\n    </tr>\n    <tr>\n      <th>4</th>\n      <td>Severe Storms and Hail (June 1984)</td>\n      <td>Severe Storm</td>\n      <td>1984-06-13</td>\n      <td>1984-06-17</td>\n      <td>1222.6</td>\n      <td>1</td>\n    </tr>\n    <tr>\n      <th>...</th>\n      <td>...</td>\n      <td>...</td>\n      <td>...</td>\n      <td>...</td>\n      <td>...</td>\n      <td>...</td>\n    </tr>\n    <tr>\n      <th>147</th>\n      <td>Central Severe Storms (June 2021)</td>\n      <td>Severe Storm</td>\n      <td>2021-06-24</td>\n      <td>2021-06-26</td>\n      <td>1303.0</td>\n      <td>0</td>\n    </tr>\n    <tr>\n      <th>148</th>\n      <td>Central Severe Storms (July 2021)</td>\n      <td>Severe Storm</td>\n      <td>2021-07-08</td>\n      <td>2021-07-11</td>\n      <td>1123.2</td>\n      <td>0</td>\n    </tr>\n    <tr>\n      <th>149</th>\n      <td>North Central Severe Weather (August 2021)</td>\n      <td>Severe Storm</td>\n      <td>2021-08-10</td>\n      <td>2021-08-13</td>\n      <td>1335.3</td>\n      <td>2</td>\n    </tr>\n    <tr>\n      <th>150</th>\n      <td>Southeast, Central Tornado Outbreak (December ...</td>\n      <td>Severe Storm</td>\n      <td>2021-12-10</td>\n      <td>2021-12-10</td>\n      <td>3993.3</td>\n      <td>93</td>\n    </tr>\n    <tr>\n      <th>151</th>\n      <td>Midwest Derecho and Tornado Outbreak (December...</td>\n      <td>Severe Storm</td>\n      <td>2021-12-15</td>\n      <td>2021-12-15</td>\n      <td>1817.6</td>\n      <td>1</td>\n    </tr>\n  </tbody>\n</table>\n<p>152 rows × 6 columns</p>\n</div>"
     },
     "execution_count": 44,
     "metadata": {},
     "output_type": "execute_result"
    }
   ],
   "source": [
    "severe_storm_df"
   ],
   "metadata": {
    "collapsed": false,
    "ExecuteTime": {
     "end_time": "2023-09-14T22:16:18.616946600Z",
     "start_time": "2023-09-14T22:16:18.566052Z"
    }
   },
   "id": "799dffa0c1d6d54f"
  },
  {
   "cell_type": "code",
   "execution_count": null,
   "outputs": [],
   "source": [
    "# TODO add seasons columns (2 types), month and year columns "
   ],
   "metadata": {
    "collapsed": false
   },
   "id": "1b786f4ec8bd8b18"
  },
  {
   "cell_type": "code",
   "execution_count": 45,
   "outputs": [],
   "source": [
    "# created columns for day, month and year to assist in future work\n",
    "# Went with start date as it would be most relevant for investigating, but can change/add to if needed\n",
    "day_list = [date.day for date in severe_storm_df['Begin Date']]\n",
    "month_list = [date.month for date in severe_storm_df['Begin Date']]\n",
    "year_list = [date.year for date in severe_storm_df['Begin Date']]\n",
    "severe_storm_df['day_start'], severe_storm_df['month_start'], severe_storm_df['year_start'] = day_list, month_list, year_list"
   ],
   "metadata": {
    "collapsed": false,
    "ExecuteTime": {
     "end_time": "2023-09-14T22:16:21.459118200Z",
     "start_time": "2023-09-14T22:16:21.436758900Z"
    }
   },
   "id": "188f1d2efe1cda72"
  },
  {
   "cell_type": "code",
   "execution_count": 46,
   "outputs": [
    {
     "data": {
      "text/plain": "                                                  Name      Disaster  \\\n0    Severe Storms, Flash Floods, Hail, Tornadoes (...  Severe Storm   \n1      Midwest/Plains/Southeast Tornadoes (April 1982)  Severe Storm   \n2                            Severe Storms (June 1982)  Severe Storm   \n3       Tornadoes, Severe Storms, Floods (Spring 1984)  Severe Storm   \n4                   Severe Storms and Hail (June 1984)  Severe Storm   \n..                                                 ...           ...   \n147                  Central Severe Storms (June 2021)  Severe Storm   \n148                  Central Severe Storms (July 2021)  Severe Storm   \n149         North Central Severe Weather (August 2021)  Severe Storm   \n150  Southeast, Central Tornado Outbreak (December ...  Severe Storm   \n151  Midwest Derecho and Tornado Outbreak (December...  Severe Storm   \n\n    Begin Date   End Date  Total CPI-Adjusted Cost (Millions of Dollars)  \\\n0   1981-05-05 1981-05-10                                         1268.6   \n1   1982-04-02 1982-04-04                                         1444.8   \n2   1982-05-31 1982-06-10                                         1420.6   \n3   1984-03-27 1984-04-07                                         1670.5   \n4   1984-06-13 1984-06-17                                         1222.6   \n..         ...        ...                                            ...   \n147 2021-06-24 2021-06-26                                         1303.0   \n148 2021-07-08 2021-07-11                                         1123.2   \n149 2021-08-10 2021-08-13                                         1335.3   \n150 2021-12-10 2021-12-10                                         3993.3   \n151 2021-12-15 2021-12-15                                         1817.6   \n\n     Deaths  day_start  month_start  year_start  \n0        20          5            5        1981  \n1        33          2            4        1982  \n2        30         31            5        1982  \n3        80         27            3        1984  \n4         1         13            6        1984  \n..      ...        ...          ...         ...  \n147       0         24            6        2021  \n148       0          8            7        2021  \n149       2         10            8        2021  \n150      93         10           12        2021  \n151       1         15           12        2021  \n\n[152 rows x 9 columns]",
      "text/html": "<div>\n<style scoped>\n    .dataframe tbody tr th:only-of-type {\n        vertical-align: middle;\n    }\n\n    .dataframe tbody tr th {\n        vertical-align: top;\n    }\n\n    .dataframe thead th {\n        text-align: right;\n    }\n</style>\n<table border=\"1\" class=\"dataframe\">\n  <thead>\n    <tr style=\"text-align: right;\">\n      <th></th>\n      <th>Name</th>\n      <th>Disaster</th>\n      <th>Begin Date</th>\n      <th>End Date</th>\n      <th>Total CPI-Adjusted Cost (Millions of Dollars)</th>\n      <th>Deaths</th>\n      <th>day_start</th>\n      <th>month_start</th>\n      <th>year_start</th>\n    </tr>\n  </thead>\n  <tbody>\n    <tr>\n      <th>0</th>\n      <td>Severe Storms, Flash Floods, Hail, Tornadoes (...</td>\n      <td>Severe Storm</td>\n      <td>1981-05-05</td>\n      <td>1981-05-10</td>\n      <td>1268.6</td>\n      <td>20</td>\n      <td>5</td>\n      <td>5</td>\n      <td>1981</td>\n    </tr>\n    <tr>\n      <th>1</th>\n      <td>Midwest/Plains/Southeast Tornadoes (April 1982)</td>\n      <td>Severe Storm</td>\n      <td>1982-04-02</td>\n      <td>1982-04-04</td>\n      <td>1444.8</td>\n      <td>33</td>\n      <td>2</td>\n      <td>4</td>\n      <td>1982</td>\n    </tr>\n    <tr>\n      <th>2</th>\n      <td>Severe Storms (June 1982)</td>\n      <td>Severe Storm</td>\n      <td>1982-05-31</td>\n      <td>1982-06-10</td>\n      <td>1420.6</td>\n      <td>30</td>\n      <td>31</td>\n      <td>5</td>\n      <td>1982</td>\n    </tr>\n    <tr>\n      <th>3</th>\n      <td>Tornadoes, Severe Storms, Floods (Spring 1984)</td>\n      <td>Severe Storm</td>\n      <td>1984-03-27</td>\n      <td>1984-04-07</td>\n      <td>1670.5</td>\n      <td>80</td>\n      <td>27</td>\n      <td>3</td>\n      <td>1984</td>\n    </tr>\n    <tr>\n      <th>4</th>\n      <td>Severe Storms and Hail (June 1984)</td>\n      <td>Severe Storm</td>\n      <td>1984-06-13</td>\n      <td>1984-06-17</td>\n      <td>1222.6</td>\n      <td>1</td>\n      <td>13</td>\n      <td>6</td>\n      <td>1984</td>\n    </tr>\n    <tr>\n      <th>...</th>\n      <td>...</td>\n      <td>...</td>\n      <td>...</td>\n      <td>...</td>\n      <td>...</td>\n      <td>...</td>\n      <td>...</td>\n      <td>...</td>\n      <td>...</td>\n    </tr>\n    <tr>\n      <th>147</th>\n      <td>Central Severe Storms (June 2021)</td>\n      <td>Severe Storm</td>\n      <td>2021-06-24</td>\n      <td>2021-06-26</td>\n      <td>1303.0</td>\n      <td>0</td>\n      <td>24</td>\n      <td>6</td>\n      <td>2021</td>\n    </tr>\n    <tr>\n      <th>148</th>\n      <td>Central Severe Storms (July 2021)</td>\n      <td>Severe Storm</td>\n      <td>2021-07-08</td>\n      <td>2021-07-11</td>\n      <td>1123.2</td>\n      <td>0</td>\n      <td>8</td>\n      <td>7</td>\n      <td>2021</td>\n    </tr>\n    <tr>\n      <th>149</th>\n      <td>North Central Severe Weather (August 2021)</td>\n      <td>Severe Storm</td>\n      <td>2021-08-10</td>\n      <td>2021-08-13</td>\n      <td>1335.3</td>\n      <td>2</td>\n      <td>10</td>\n      <td>8</td>\n      <td>2021</td>\n    </tr>\n    <tr>\n      <th>150</th>\n      <td>Southeast, Central Tornado Outbreak (December ...</td>\n      <td>Severe Storm</td>\n      <td>2021-12-10</td>\n      <td>2021-12-10</td>\n      <td>3993.3</td>\n      <td>93</td>\n      <td>10</td>\n      <td>12</td>\n      <td>2021</td>\n    </tr>\n    <tr>\n      <th>151</th>\n      <td>Midwest Derecho and Tornado Outbreak (December...</td>\n      <td>Severe Storm</td>\n      <td>2021-12-15</td>\n      <td>2021-12-15</td>\n      <td>1817.6</td>\n      <td>1</td>\n      <td>15</td>\n      <td>12</td>\n      <td>2021</td>\n    </tr>\n  </tbody>\n</table>\n<p>152 rows × 9 columns</p>\n</div>"
     },
     "execution_count": 46,
     "metadata": {},
     "output_type": "execute_result"
    }
   ],
   "source": [
    "severe_storm_df"
   ],
   "metadata": {
    "collapsed": false,
    "ExecuteTime": {
     "end_time": "2023-09-14T22:16:23.804280200Z",
     "start_time": "2023-09-14T22:16:23.777550400Z"
    }
   },
   "id": "9757313b99b65706"
  },
  {
   "cell_type": "code",
   "execution_count": 55,
   "outputs": [],
   "source": [
    "# meteorologic seasons are easier to define as they encompass entire months\n",
    "# can also just do season mapping from the beginning, but like to keep it this way to show different methods and for simplifying steps\n",
    "met_season_numbers = [month % 12 // 3 + 1 for month in severe_storm_df['month_start']]\n",
    "\n",
    "season_mapping = {1: 'winter', 2: 'spring', 3: 'summer', 4: 'fall'}\n",
    "\n",
    "met_season = [season_mapping[number] for number in met_season_numbers]\n",
    "severe_storm_df['met_season'] = met_season"
   ],
   "metadata": {
    "collapsed": false,
    "ExecuteTime": {
     "end_time": "2023-09-14T23:14:52.546891Z",
     "start_time": "2023-09-14T23:14:52.525727500Z"
    }
   },
   "id": "cd4e6d3a23a366b3"
  },
  {
   "cell_type": "code",
   "execution_count": 56,
   "outputs": [
    {
     "data": {
      "text/plain": "                                                  Name      Disaster  \\\n0    Severe Storms, Flash Floods, Hail, Tornadoes (...  Severe Storm   \n1      Midwest/Plains/Southeast Tornadoes (April 1982)  Severe Storm   \n2                            Severe Storms (June 1982)  Severe Storm   \n3       Tornadoes, Severe Storms, Floods (Spring 1984)  Severe Storm   \n4                   Severe Storms and Hail (June 1984)  Severe Storm   \n..                                                 ...           ...   \n147                  Central Severe Storms (June 2021)  Severe Storm   \n148                  Central Severe Storms (July 2021)  Severe Storm   \n149         North Central Severe Weather (August 2021)  Severe Storm   \n150  Southeast, Central Tornado Outbreak (December ...  Severe Storm   \n151  Midwest Derecho and Tornado Outbreak (December...  Severe Storm   \n\n    Begin Date   End Date  Total CPI-Adjusted Cost (Millions of Dollars)  \\\n0   1981-05-05 1981-05-10                                         1268.6   \n1   1982-04-02 1982-04-04                                         1444.8   \n2   1982-05-31 1982-06-10                                         1420.6   \n3   1984-03-27 1984-04-07                                         1670.5   \n4   1984-06-13 1984-06-17                                         1222.6   \n..         ...        ...                                            ...   \n147 2021-06-24 2021-06-26                                         1303.0   \n148 2021-07-08 2021-07-11                                         1123.2   \n149 2021-08-10 2021-08-13                                         1335.3   \n150 2021-12-10 2021-12-10                                         3993.3   \n151 2021-12-15 2021-12-15                                         1817.6   \n\n     Deaths  day_start  month_start  year_start met_season  met_season_numbers  \n0        20          5            5        1981     spring                   2  \n1        33          2            4        1982     spring                   2  \n2        30         31            5        1982     spring                   2  \n3        80         27            3        1984     spring                   2  \n4         1         13            6        1984     summer                   3  \n..      ...        ...          ...         ...        ...                 ...  \n147       0         24            6        2021     summer                   3  \n148       0          8            7        2021     summer                   3  \n149       2         10            8        2021     summer                   3  \n150      93         10           12        2021     winter                   1  \n151       1         15           12        2021     winter                   1  \n\n[152 rows x 11 columns]",
      "text/html": "<div>\n<style scoped>\n    .dataframe tbody tr th:only-of-type {\n        vertical-align: middle;\n    }\n\n    .dataframe tbody tr th {\n        vertical-align: top;\n    }\n\n    .dataframe thead th {\n        text-align: right;\n    }\n</style>\n<table border=\"1\" class=\"dataframe\">\n  <thead>\n    <tr style=\"text-align: right;\">\n      <th></th>\n      <th>Name</th>\n      <th>Disaster</th>\n      <th>Begin Date</th>\n      <th>End Date</th>\n      <th>Total CPI-Adjusted Cost (Millions of Dollars)</th>\n      <th>Deaths</th>\n      <th>day_start</th>\n      <th>month_start</th>\n      <th>year_start</th>\n      <th>met_season</th>\n      <th>met_season_numbers</th>\n    </tr>\n  </thead>\n  <tbody>\n    <tr>\n      <th>0</th>\n      <td>Severe Storms, Flash Floods, Hail, Tornadoes (...</td>\n      <td>Severe Storm</td>\n      <td>1981-05-05</td>\n      <td>1981-05-10</td>\n      <td>1268.6</td>\n      <td>20</td>\n      <td>5</td>\n      <td>5</td>\n      <td>1981</td>\n      <td>spring</td>\n      <td>2</td>\n    </tr>\n    <tr>\n      <th>1</th>\n      <td>Midwest/Plains/Southeast Tornadoes (April 1982)</td>\n      <td>Severe Storm</td>\n      <td>1982-04-02</td>\n      <td>1982-04-04</td>\n      <td>1444.8</td>\n      <td>33</td>\n      <td>2</td>\n      <td>4</td>\n      <td>1982</td>\n      <td>spring</td>\n      <td>2</td>\n    </tr>\n    <tr>\n      <th>2</th>\n      <td>Severe Storms (June 1982)</td>\n      <td>Severe Storm</td>\n      <td>1982-05-31</td>\n      <td>1982-06-10</td>\n      <td>1420.6</td>\n      <td>30</td>\n      <td>31</td>\n      <td>5</td>\n      <td>1982</td>\n      <td>spring</td>\n      <td>2</td>\n    </tr>\n    <tr>\n      <th>3</th>\n      <td>Tornadoes, Severe Storms, Floods (Spring 1984)</td>\n      <td>Severe Storm</td>\n      <td>1984-03-27</td>\n      <td>1984-04-07</td>\n      <td>1670.5</td>\n      <td>80</td>\n      <td>27</td>\n      <td>3</td>\n      <td>1984</td>\n      <td>spring</td>\n      <td>2</td>\n    </tr>\n    <tr>\n      <th>4</th>\n      <td>Severe Storms and Hail (June 1984)</td>\n      <td>Severe Storm</td>\n      <td>1984-06-13</td>\n      <td>1984-06-17</td>\n      <td>1222.6</td>\n      <td>1</td>\n      <td>13</td>\n      <td>6</td>\n      <td>1984</td>\n      <td>summer</td>\n      <td>3</td>\n    </tr>\n    <tr>\n      <th>...</th>\n      <td>...</td>\n      <td>...</td>\n      <td>...</td>\n      <td>...</td>\n      <td>...</td>\n      <td>...</td>\n      <td>...</td>\n      <td>...</td>\n      <td>...</td>\n      <td>...</td>\n      <td>...</td>\n    </tr>\n    <tr>\n      <th>147</th>\n      <td>Central Severe Storms (June 2021)</td>\n      <td>Severe Storm</td>\n      <td>2021-06-24</td>\n      <td>2021-06-26</td>\n      <td>1303.0</td>\n      <td>0</td>\n      <td>24</td>\n      <td>6</td>\n      <td>2021</td>\n      <td>summer</td>\n      <td>3</td>\n    </tr>\n    <tr>\n      <th>148</th>\n      <td>Central Severe Storms (July 2021)</td>\n      <td>Severe Storm</td>\n      <td>2021-07-08</td>\n      <td>2021-07-11</td>\n      <td>1123.2</td>\n      <td>0</td>\n      <td>8</td>\n      <td>7</td>\n      <td>2021</td>\n      <td>summer</td>\n      <td>3</td>\n    </tr>\n    <tr>\n      <th>149</th>\n      <td>North Central Severe Weather (August 2021)</td>\n      <td>Severe Storm</td>\n      <td>2021-08-10</td>\n      <td>2021-08-13</td>\n      <td>1335.3</td>\n      <td>2</td>\n      <td>10</td>\n      <td>8</td>\n      <td>2021</td>\n      <td>summer</td>\n      <td>3</td>\n    </tr>\n    <tr>\n      <th>150</th>\n      <td>Southeast, Central Tornado Outbreak (December ...</td>\n      <td>Severe Storm</td>\n      <td>2021-12-10</td>\n      <td>2021-12-10</td>\n      <td>3993.3</td>\n      <td>93</td>\n      <td>10</td>\n      <td>12</td>\n      <td>2021</td>\n      <td>winter</td>\n      <td>1</td>\n    </tr>\n    <tr>\n      <th>151</th>\n      <td>Midwest Derecho and Tornado Outbreak (December...</td>\n      <td>Severe Storm</td>\n      <td>2021-12-15</td>\n      <td>2021-12-15</td>\n      <td>1817.6</td>\n      <td>1</td>\n      <td>15</td>\n      <td>12</td>\n      <td>2021</td>\n      <td>winter</td>\n      <td>1</td>\n    </tr>\n  </tbody>\n</table>\n<p>152 rows × 11 columns</p>\n</div>"
     },
     "execution_count": 56,
     "metadata": {},
     "output_type": "execute_result"
    }
   ],
   "source": [
    "severe_storm_df"
   ],
   "metadata": {
    "collapsed": false,
    "ExecuteTime": {
     "end_time": "2023-09-14T23:14:54.285243700Z",
     "start_time": "2023-09-14T23:14:54.255425200Z"
    }
   },
   "id": "94b7a6684dcdaf07"
  },
  {
   "cell_type": "code",
   "execution_count": 67,
   "outputs": [
    {
     "name": "stdout",
     "output_type": "stream",
     "text": [
      "Pandas(Index=0, Name='Severe Storms, Flash Floods, Hail, Tornadoes (May 1981)', Disaster='Severe Storm', _3=Timestamp('1981-05-05 00:00:00'), _4=Timestamp('1981-05-10 00:00:00'), _5=1268.6, Deaths=20, day_start=5, month_start=5, year_start=1981, met_season='spring', met_season_numbers=2)\n",
      "Pandas(Index=1, Name='Midwest/Plains/Southeast Tornadoes (April 1982)', Disaster='Severe Storm', _3=Timestamp('1982-04-02 00:00:00'), _4=Timestamp('1982-04-04 00:00:00'), _5=1444.8, Deaths=33, day_start=2, month_start=4, year_start=1982, met_season='spring', met_season_numbers=2)\n",
      "Pandas(Index=2, Name='Severe Storms (June 1982)', Disaster='Severe Storm', _3=Timestamp('1982-05-31 00:00:00'), _4=Timestamp('1982-06-10 00:00:00'), _5=1420.6, Deaths=30, day_start=31, month_start=5, year_start=1982, met_season='spring', met_season_numbers=2)\n",
      "Pandas(Index=3, Name='Tornadoes, Severe Storms, Floods (Spring 1984)', Disaster='Severe Storm', _3=Timestamp('1984-03-27 00:00:00'), _4=Timestamp('1984-04-07 00:00:00'), _5=1670.5, Deaths=80, day_start=27, month_start=3, year_start=1984, met_season='spring', met_season_numbers=2)\n",
      "Pandas(Index=4, Name='Severe Storms and Hail (June 1984)', Disaster='Severe Storm', _3=Timestamp('1984-06-13 00:00:00'), _4=Timestamp('1984-06-17 00:00:00'), _5=1222.6, Deaths=1, day_start=13, month_start=6, year_start=1984, met_season='summer', met_season_numbers=3)\n",
      "Pandas(Index=5, Name='Ohio and Pennsylvania Tornado Outbreak (June 1985)', Disaster='Severe Storm', _3=Timestamp('1985-05-31 00:00:00'), _4=Timestamp('1985-05-31 00:00:00'), _5=1584.0, Deaths=89, day_start=31, month_start=5, year_start=1985, met_season='spring', met_season_numbers=2)\n",
      "Pandas(Index=6, Name='Western Severe Storms and Flooding (February 1986)', Disaster='Severe Storm', _3=Timestamp('1986-02-14 00:00:00'), _4=Timestamp('1986-02-16 00:00:00'), _5=1377.6, Deaths=13, day_start=14, month_start=2, year_start=1986, met_season='winter', met_season_numbers=1)\n",
      "Pandas(Index=7, Name='Southern Derecho and Severe Storms (May 1989)', Disaster='Severe Storm', _3=Timestamp('1989-05-01 00:00:00'), _4=Timestamp('1989-05-06 00:00:00'), _5=1263.0, Deaths=21, day_start=1, month_start=5, year_start=1989, met_season='spring', met_season_numbers=2)\n",
      "Pandas(Index=8, Name='Colorado Hail Storm (July 1990)', Disaster='Severe Storm', _3=Timestamp('1990-07-11 00:00:00'), _4=Timestamp('1990-07-11 00:00:00'), _5=1787.7, Deaths=0, day_start=11, month_start=7, year_start=1990, met_season='summer', met_season_numbers=3)\n",
      "Pandas(Index=9, Name='Severe Storms, Tornadoes (March 1991)', Disaster='Severe Storm', _3=Timestamp('1991-03-26 00:00:00'), _4=Timestamp('1991-03-29 00:00:00'), _5=1354.5, Deaths=0, day_start=26, month_start=3, year_start=1991, met_season='spring', met_season_numbers=2)\n",
      "Pandas(Index=10, Name='Severe Storms (March 1992)', Disaster='Severe Storm', _3=Timestamp('1992-03-24 00:00:00'), _4=Timestamp('1992-03-25 00:00:00'), _5=1640.9, Deaths=0, day_start=24, month_start=3, year_start=1992, met_season='spring', met_season_numbers=2)\n",
      "Pandas(Index=11, Name='Hail, Tornadoes (April 1992)', Disaster='Severe Storm', _3=Timestamp('1992-04-28 00:00:00'), _4=Timestamp('1992-04-29 00:00:00'), _5=1937.5, Deaths=0, day_start=28, month_start=4, year_start=1992, met_season='spring', met_season_numbers=2)\n",
      "Pandas(Index=12, Name='Severe Storms, Hail (June 1992)', Disaster='Severe Storm', _3=Timestamp('1992-06-19 00:00:00'), _4=Timestamp('1992-06-20 00:00:00'), _5=1511.0, Deaths=0, day_start=19, month_start=6, year_start=1992, met_season='summer', met_season_numbers=3)\n",
      "Pandas(Index=13, Name='Southeast Severe Weather (November 1992)', Disaster='Severe Storm', _3=Timestamp('1992-11-21 00:00:00'), _4=Timestamp('1992-11-23 00:00:00'), _5=1314.0, Deaths=26, day_start=21, month_start=11, year_start=1992, met_season='fall', met_season_numbers=4)\n",
      "Pandas(Index=14, Name='Northern Plains and Ohio Valley Severe Weather (July 1993)', Disaster='Severe Storm', _3=Timestamp('1993-07-08 00:00:00'), _4=Timestamp('1993-07-10 00:00:00'), _5=1262.2, Deaths=1, day_start=8, month_start=7, year_start=1993, met_season='summer', met_season_numbers=3)\n",
      "Pandas(Index=15, Name='Midwest/Plains Tornadoes (April 1994)', Disaster='Severe Storm', _3=Timestamp('1994-04-25 00:00:00'), _4=Timestamp('1994-04-27 00:00:00'), _5=1891.5, Deaths=3, day_start=25, month_start=4, year_start=1994, met_season='spring', met_season_numbers=2)\n",
      "Pandas(Index=16, Name='Texas Hail Storm (April 1995)', Disaster='Severe Storm', _3=Timestamp('1995-04-28 00:00:00'), _4=Timestamp('1995-04-28 00:00:00'), _5=1075.3, Deaths=0, day_start=28, month_start=4, year_start=1995, met_season='spring', met_season_numbers=2)\n",
      "Pandas(Index=17, Name='South Plains Severe Weather (May 1995)', Disaster='Severe Storm', _3=Timestamp('1995-05-05 00:00:00'), _4=Timestamp('1995-05-07 00:00:00'), _5=10204.8, Deaths=32, day_start=5, month_start=5, year_start=1995, met_season='spring', met_season_numbers=2)\n",
      "Pandas(Index=18, Name='Mississippi and Ohio Valley Severe Weather and Flooding (March 1997)', Disaster='Severe Storm', _3=Timestamp('1997-02-28 00:00:00'), _4=Timestamp('1997-03-05 00:00:00'), _5=1739.7, Deaths=67, day_start=28, month_start=2, year_start=1997, met_season='winter', met_season_numbers=1)\n",
      "Pandas(Index=19, Name='Western/Eastern Severe Weather and Flooding (Winter-Spring 1998)', Disaster='Severe Storm', _3=Timestamp('1997-12-01 00:00:00'), _4=Timestamp('1998-02-28 00:00:00'), _5=1768.0, Deaths=132, day_start=1, month_start=12, year_start=1997, met_season='winter', met_season_numbers=1)\n",
      "Pandas(Index=20, Name='Minnesota Severe Storms/Hail (May 1998)', Disaster='Severe Storm', _3=Timestamp('1998-05-15 00:00:00'), _4=Timestamp('1998-05-15 00:00:00'), _5=2838.4, Deaths=1, day_start=15, month_start=5, year_start=1998, met_season='spring', met_season_numbers=2)\n",
      "Pandas(Index=21, Name='Northern Plains and Great Lakes Derecho, Tornadoes (June 1998)', Disaster='Severe Storm', _3=Timestamp('1998-05-30 00:00:00'), _4=Timestamp('1998-06-02 00:00:00'), _5=1981.0, Deaths=20, day_start=30, month_start=5, year_start=1998, met_season='spring', met_season_numbers=2)\n",
      "Pandas(Index=22, Name='Oklahoma and Kansas Tornadoes (May 1999)', Disaster='Severe Storm', _3=Timestamp('1999-05-03 00:00:00'), _4=Timestamp('1999-05-06 00:00:00'), _5=3440.4, Deaths=55, day_start=3, month_start=5, year_start=1999, met_season='spring', met_season_numbers=2)\n",
      "Pandas(Index=23, Name='Southern Severe Weather (March 2000)', Disaster='Severe Storm', _3=Timestamp('2000-03-28 00:00:00'), _4=Timestamp('2000-03-29 00:00:00'), _5=1145.4, Deaths=0, day_start=28, month_start=3, year_start=2000, met_season='spring', met_season_numbers=2)\n",
      "Pandas(Index=24, Name='Midwest/Ohio Valley Hail and Tornadoes (April 2001)', Disaster='Severe Storm', _3=Timestamp('2001-04-06 00:00:00'), _4=Timestamp('2001-04-11 00:00:00'), _5=4951.6, Deaths=3, day_start=6, month_start=4, year_start=2001, met_season='spring', met_season_numbers=2)\n",
      "Pandas(Index=25, Name='North Central Severe Weather (May 2001)', Disaster='Severe Storm', _3=Timestamp('2001-04-30 00:00:00'), _4=Timestamp('2001-05-01 00:00:00'), _5=1073.6, Deaths=0, day_start=30, month_start=4, year_start=2001, met_season='spring', met_season_numbers=2)\n",
      "Pandas(Index=26, Name='Severe Storms and Tornadoes (April 2002)', Disaster='Severe Storm', _3=Timestamp('2002-04-27 00:00:00'), _4=Timestamp('2002-04-28 00:00:00'), _5=3308.5, Deaths=7, day_start=27, month_start=4, year_start=2002, met_season='spring', met_season_numbers=2)\n",
      "Pandas(Index=27, Name='Eastern Tornadoes and Severe Storms (November 2002)', Disaster='Severe Storm', _3=Timestamp('2002-11-09 00:00:00'), _4=Timestamp('2002-11-11 00:00:00'), _5=1123.2, Deaths=28, day_start=9, month_start=11, year_start=2002, met_season='fall', met_season_numbers=4)\n",
      "Pandas(Index=28, Name='Severe Storms/Hail (April 2003)', Disaster='Severe Storm', _3=Timestamp('2003-04-04 00:00:00'), _4=Timestamp('2003-04-07 00:00:00'), _5=3089.9, Deaths=3, day_start=4, month_start=4, year_start=2003, met_season='spring', met_season_numbers=2)\n",
      "Pandas(Index=29, Name='Severe Storms/Tornadoes (May 2003)', Disaster='Severe Storm', _3=Timestamp('2003-05-03 00:00:00'), _4=Timestamp('2003-05-10 00:00:00'), _5=6398.9, Deaths=51, day_start=3, month_start=5, year_start=2003, met_season='spring', met_season_numbers=2)\n",
      "Pandas(Index=30, Name='Midwest/Plains Severe Weather (July 2003)', Disaster='Severe Storm', _3=Timestamp('2003-07-04 00:00:00'), _4=Timestamp('2003-07-09 00:00:00'), _5=1321.4, Deaths=7, day_start=4, month_start=7, year_start=2003, met_season='summer', met_season_numbers=3)\n",
      "Pandas(Index=31, Name='Southern Derecho and Eastern Severe Weather (July 2003)', Disaster='Severe Storm', _3=Timestamp('2003-07-21 00:00:00'), _4=Timestamp('2003-07-23 00:00:00'), _5=1552.5, Deaths=7, day_start=21, month_start=7, year_start=2003, met_season='summer', met_season_numbers=3)\n",
      "Pandas(Index=32, Name='Severe Storms, Hail, Tornadoes (May 2004)', Disaster='Severe Storm', _3=Timestamp('2004-05-21 00:00:00'), _4=Timestamp('2004-05-27 00:00:00'), _5=1521.1, Deaths=4, day_start=21, month_start=5, year_start=2004, met_season='spring', met_season_numbers=2)\n",
      "Pandas(Index=33, Name='Colorado Hail Storms (June 2004)', Disaster='Severe Storm', _3=Timestamp('2004-06-08 00:00:00'), _4=Timestamp('2004-06-09 00:00:00'), _5=1042.5, Deaths=0, day_start=8, month_start=6, year_start=2004, met_season='summer', met_season_numbers=3)\n",
      "Pandas(Index=34, Name='Southeast Severe Weather (March 2005)', Disaster='Severe Storm', _3=Timestamp('2005-03-24 00:00:00'), _4=Timestamp('2005-03-27 00:00:00'), _5=1271.7, Deaths=0, day_start=24, month_start=3, year_start=2005, met_season='spring', met_season_numbers=2)\n",
      "Pandas(Index=35, Name='Severe Storms and Tornadoes (March 2006)', Disaster='Severe Storm', _3=Timestamp('2006-03-08 00:00:00'), _4=Timestamp('2006-03-13 00:00:00'), _5=1899.3, Deaths=10, day_start=8, month_start=3, year_start=2006, met_season='spring', met_season_numbers=2)\n",
      "Pandas(Index=36, Name='Midwest/Southeast Tornadoes (April 6-8, 2006)', Disaster='Severe Storm', _3=Timestamp('2006-04-06 00:00:00'), _4=Timestamp('2006-04-08 00:00:00'), _5=2261.5, Deaths=10, day_start=6, month_start=4, year_start=2006, met_season='spring', met_season_numbers=2)\n",
      "Pandas(Index=37, Name='Midwest Tornadoes (April 2006)', Disaster='Severe Storm', _3=Timestamp('2006-04-13 00:00:00'), _4=Timestamp('2006-04-16 00:00:00'), _5=3417.2, Deaths=27, day_start=13, month_start=4, year_start=2006, met_season='spring', met_season_numbers=2)\n",
      "Pandas(Index=38, Name='North Central Severe Weather and Tornadoes (August 2006)', Disaster='Severe Storm', _3=Timestamp('2006-08-23 00:00:00'), _4=Timestamp('2006-08-24 00:00:00'), _5=1055.1, Deaths=1, day_start=23, month_start=8, year_start=2006, met_season='summer', met_season_numbers=3)\n",
      "Pandas(Index=39, Name='Central Severe Weather (October 2006)', Disaster='Severe Storm', _3=Timestamp('2006-10-02 00:00:00'), _4=Timestamp('2006-10-05 00:00:00'), _5=1239.6, Deaths=1, day_start=2, month_start=10, year_start=2006, met_season='fall', met_season_numbers=4)\n",
      "Pandas(Index=40, Name='East/South Severe Weather and Flooding (April 2007)', Disaster='Severe Storm', _3=Timestamp('2007-04-13 00:00:00'), _4=Timestamp('2007-04-17 00:00:00'), _5=3435.7, Deaths=9, day_start=13, month_start=4, year_start=2007, met_season='spring', met_season_numbers=2)\n",
      "Pandas(Index=41, Name='Western, Central and Northeast Severe Weather (January 2008)', Disaster='Severe Storm', _3=Timestamp('2008-01-04 00:00:00'), _4=Timestamp('2008-01-09 00:00:00'), _5=1315.8, Deaths=12, day_start=4, month_start=1, year_start=2008, met_season='winter', met_season_numbers=1)\n",
      "Pandas(Index=42, Name='Southeast Tornadoes and Severe Weather (February 2008)', Disaster='Severe Storm', _3=Timestamp('2008-02-05 00:00:00'), _4=Timestamp('2008-02-06 00:00:00'), _5=1623.6, Deaths=57, day_start=5, month_start=2, year_start=2008, met_season='winter', met_season_numbers=1)\n",
      "Pandas(Index=43, Name='Southeast Tornadoes (March 2008)', Disaster='Severe Storm', _3=Timestamp('2008-03-14 00:00:00'), _4=Timestamp('2008-03-15 00:00:00'), _5=1504.2, Deaths=5, day_start=14, month_start=3, year_start=2008, met_season='spring', met_season_numbers=2)\n",
      "Pandas(Index=44, Name='Southern Severe Weather (April 2008)', Disaster='Severe Storm', _3=Timestamp('2008-04-09 00:00:00'), _4=Timestamp('2008-04-11 00:00:00'), _5=1372.3, Deaths=2, day_start=9, month_start=4, year_start=2008, met_season='spring', met_season_numbers=2)\n",
      "Pandas(Index=45, Name='Midwest Tornadoes and Severe Weather (May 2008)', Disaster='Severe Storm', _3=Timestamp('2008-05-22 00:00:00'), _4=Timestamp('2008-05-27 00:00:00'), _5=3968.7, Deaths=13, day_start=22, month_start=5, year_start=2008, met_season='spring', met_season_numbers=2)\n",
      "Pandas(Index=46, Name='Midwest/Mid-Atlantic Severe Weather (June 2008)', Disaster='Severe Storm', _3=Timestamp('2008-06-06 00:00:00'), _4=Timestamp('2008-06-12 00:00:00'), _5=2126.8, Deaths=18, day_start=6, month_start=6, year_start=2008, met_season='summer', met_season_numbers=3)\n",
      "Pandas(Index=47, Name='Southeast/Ohio Valley Severe Weather (February 2009)', Disaster='Severe Storm', _3=Timestamp('2009-02-10 00:00:00'), _4=Timestamp('2009-02-11 00:00:00'), _5=2331.8, Deaths=10, day_start=10, month_start=2, year_start=2009, met_season='winter', met_season_numbers=1)\n",
      "Pandas(Index=48, Name='Midwest/Southeast Tornadoes (March 2009)', Disaster='Severe Storm', _3=Timestamp('2009-03-25 00:00:00'), _4=Timestamp('2009-03-28 00:00:00'), _5=2182.0, Deaths=0, day_start=25, month_start=3, year_start=2009, met_season='spring', met_season_numbers=2)\n",
      "Pandas(Index=49, Name='South/Southeast Severe Weather and Tornadoes (April 2009)', Disaster='Severe Storm', _3=Timestamp('2009-04-09 00:00:00'), _4=Timestamp('2009-04-10 00:00:00'), _5=1902.0, Deaths=6, day_start=9, month_start=4, year_start=2009, met_season='spring', met_season_numbers=2)\n",
      "Pandas(Index=50, Name='Central Derecho and Tornadoes (May 2009)', Disaster='Severe Storm', _3=Timestamp('2009-05-07 00:00:00'), _4=Timestamp('2009-05-09 00:00:00'), _5=1145.2, Deaths=7, day_start=7, month_start=5, year_start=2009, met_season='spring', met_season_numbers=2)\n",
      "Pandas(Index=51, Name='Midwest, South and East Severe Weather (June 2009)', Disaster='Severe Storm', _3=Timestamp('2009-06-09 00:00:00'), _4=Timestamp('2009-06-12 00:00:00'), _5=1753.2, Deaths=0, day_start=9, month_start=6, year_start=2009, met_season='summer', met_season_numbers=3)\n",
      "Pandas(Index=52, Name='Colorado Hail Storm (July 2009)', Disaster='Severe Storm', _3=Timestamp('2009-07-20 00:00:00'), _4=Timestamp('2009-07-20 00:00:00'), _5=1320.0, Deaths=0, day_start=20, month_start=7, year_start=2009, met_season='summer', met_season_numbers=3)\n",
      "Pandas(Index=53, Name='Oklahoma, Kansas, and Texas Tornadoes and Severe Weather (May 2010)', Disaster='Severe Storm', _3=Timestamp('2010-05-10 00:00:00'), _4=Timestamp('2010-05-12 00:00:00'), _5=4333.9, Deaths=3, day_start=10, month_start=5, year_start=2010, met_season='spring', met_season_numbers=2)\n",
      "Pandas(Index=54, Name='Rockies/Central/East Severe Weather (June 2010)', Disaster='Severe Storm', _3=Timestamp('2010-06-10 00:00:00'), _4=Timestamp('2010-06-15 00:00:00'), _5=1171.3, Deaths=2, day_start=10, month_start=6, year_start=2010, met_season='summer', met_season_numbers=3)\n",
      "Pandas(Index=55, Name='Midwest/Northeast Severe Storms and Flooding (July 2010)', Disaster='Severe Storm', _3=Timestamp('2010-07-20 00:00:00'), _4=Timestamp('2010-07-23 00:00:00'), _5=1233.0, Deaths=0, day_start=20, month_start=7, year_start=2010, met_season='summer', met_season_numbers=3)\n",
      "Pandas(Index=56, Name='Arizona Severe Weather (October 2010)', Disaster='Severe Storm', _3=Timestamp('2010-10-05 00:00:00'), _4=Timestamp('2010-10-06 00:00:00'), _5=4940.0, Deaths=0, day_start=5, month_start=10, year_start=2010, met_season='fall', met_season_numbers=4)\n",
      "Pandas(Index=57, Name='Midwest/Southeast Tornadoes and Derecho (April 2011)', Disaster='Severe Storm', _3=Timestamp('2011-04-04 00:00:00'), _4=Timestamp('2011-04-05 00:00:00'), _5=3496.8, Deaths=9, day_start=4, month_start=4, year_start=2011, met_season='spring', met_season_numbers=2)\n",
      "Pandas(Index=58, Name='Southeast/Midwest Tornadoes (April 2011)', Disaster='Severe Storm', _3=Timestamp('2011-04-08 00:00:00'), _4=Timestamp('2011-04-11 00:00:00'), _5=2745.9, Deaths=0, day_start=8, month_start=4, year_start=2011, met_season='spring', met_season_numbers=2)\n",
      "Pandas(Index=59, Name='Midwest/Southeast Tornadoes (April 2011)', Disaster='Severe Storm', _3=Timestamp('2011-04-14 00:00:00'), _4=Timestamp('2011-04-16 00:00:00'), _5=2594.7, Deaths=38, day_start=14, month_start=4, year_start=2011, met_season='spring', met_season_numbers=2)\n",
      "Pandas(Index=60, Name='Ohio Valley Derecho and Southern Tornadoes (April 2011)', Disaster='Severe Storm', _3=Timestamp('2011-04-19 00:00:00'), _4=Timestamp('2011-04-20 00:00:00'), _5=1307.3, Deaths=0, day_start=19, month_start=4, year_start=2011, met_season='spring', met_season_numbers=2)\n",
      "Pandas(Index=61, Name='Southeast/Ohio Valley/Midwest Tornadoes (April 2011)', Disaster='Severe Storm', _3=Timestamp('2011-04-25 00:00:00'), _4=Timestamp('2011-04-28 00:00:00'), _5=12879.8, Deaths=321, day_start=25, month_start=4, year_start=2011, met_season='spring', met_season_numbers=2)\n",
      "Pandas(Index=62, Name='Midwest/Southeast Tornadoes (May 2011)', Disaster='Severe Storm', _3=Timestamp('2011-05-22 00:00:00'), _4=Timestamp('2011-05-27 00:00:00'), _5=11461.8, Deaths=177, day_start=22, month_start=5, year_start=2011, met_season='spring', met_season_numbers=2)\n",
      "Pandas(Index=63, Name='Midwest/Southeast Tornadoes and Severe Weather (June 2011)', Disaster='Severe Storm', _3=Timestamp('2011-06-18 00:00:00'), _4=Timestamp('2011-06-22 00:00:00'), _5=1937.1, Deaths=3, day_start=18, month_start=6, year_start=2011, met_season='summer', met_season_numbers=3)\n",
      "Pandas(Index=64, Name='North Central Severe Weather (July 2011)', Disaster='Severe Storm', _3=Timestamp('2011-07-01 00:00:00'), _4=Timestamp('2011-07-01 00:00:00'), _5=1118.9, Deaths=0, day_start=1, month_start=7, year_start=2011, met_season='summer', met_season_numbers=3)\n",
      "Pandas(Index=65, Name='Rockies and Midwest Derecho (July 2011)', Disaster='Severe Storm', _3=Timestamp('2011-07-10 00:00:00'), _4=Timestamp('2011-07-11 00:00:00'), _5=1556.3, Deaths=2, day_start=10, month_start=7, year_start=2011, met_season='summer', met_season_numbers=3)\n",
      "Pandas(Index=66, Name='Midwest/Southeast Severe Weather (August 2011)', Disaster='Severe Storm', _3=Timestamp('2011-08-17 00:00:00'), _4=Timestamp('2011-08-18 00:00:00'), _5=1439.3, Deaths=0, day_start=17, month_start=8, year_start=2011, met_season='summer', met_season_numbers=3)\n",
      "Pandas(Index=67, Name='Southeast/Ohio Valley Tornadoes (March 2012)', Disaster='Severe Storm', _3=Timestamp('2012-03-02 00:00:00'), _4=Timestamp('2012-03-03 00:00:00'), _5=3879.7, Deaths=42, day_start=2, month_start=3, year_start=2012, met_season='spring', met_season_numbers=2)\n",
      "Pandas(Index=68, Name='Texas Tornadoes (April 2012)', Disaster='Severe Storm', _3=Timestamp('2012-04-02 00:00:00'), _4=Timestamp('2012-04-03 00:00:00'), _5=1248.8, Deaths=0, day_start=2, month_start=4, year_start=2012, met_season='spring', met_season_numbers=2)\n",
      "Pandas(Index=69, Name='Midwest Tornadoes (April 2012)', Disaster='Severe Storm', _3=Timestamp('2012-04-13 00:00:00'), _4=Timestamp('2012-04-14 00:00:00'), _5=1382.0, Deaths=6, day_start=13, month_start=4, year_start=2012, met_season='spring', met_season_numbers=2)\n",
      "Pandas(Index=70, Name='Midwest/Ohio Valley Severe Weather (April-May 2012)', Disaster='Severe Storm', _3=Timestamp('2012-04-28 00:00:00'), _4=Timestamp('2012-05-01 00:00:00'), _5=4029.8, Deaths=1, day_start=28, month_start=4, year_start=2012, met_season='spring', met_season_numbers=2)\n",
      "Pandas(Index=71, Name='Southern Plains/Midwest/Northeast Severe Weather (May 2012)', Disaster='Severe Storm', _3=Timestamp('2012-05-25 00:00:00'), _4=Timestamp('2012-05-30 00:00:00'), _5=2833.6, Deaths=1, day_start=25, month_start=5, year_start=2012, met_season='spring', met_season_numbers=2)\n",
      "Pandas(Index=72, Name='Rockies/Southwest Severe Weather (June 2012)', Disaster='Severe Storm', _3=Timestamp('2012-06-06 00:00:00'), _4=Timestamp('2012-06-12 00:00:00'), _5=3221.3, Deaths=0, day_start=6, month_start=6, year_start=2012, met_season='summer', met_season_numbers=3)\n",
      "Pandas(Index=73, Name='Plains/East/Northeast Derecho (June-July 2012)', Disaster='Severe Storm', _3=Timestamp('2012-06-29 00:00:00'), _4=Timestamp('2012-07-02 00:00:00'), _5=3581.6, Deaths=28, day_start=29, month_start=6, year_start=2012, met_season='summer', met_season_numbers=3)\n",
      "Pandas(Index=74, Name='Southern Severe Weather (February 2013)', Disaster='Severe Storm', _3=Timestamp('2013-02-24 00:00:00'), _4=Timestamp('2013-02-25 00:00:00'), _5=1124.8, Deaths=1, day_start=24, month_start=2, year_start=2013, met_season='winter', met_season_numbers=1)\n",
      "Pandas(Index=75, Name='Southeast Severe Weather (March 2013)', Disaster='Severe Storm', _3=Timestamp('2013-03-18 00:00:00'), _4=Timestamp('2013-03-18 00:00:00'), _5=2464.4, Deaths=1, day_start=18, month_start=3, year_start=2013, met_season='spring', met_season_numbers=2)\n",
      "Pandas(Index=76, Name='Midwest/Plains Severe Weather (April 2013)', Disaster='Severe Storm', _3=Timestamp('2013-04-07 00:00:00'), _4=Timestamp('2013-04-11 00:00:00'), _5=1761.7, Deaths=1, day_start=7, month_start=4, year_start=2013, met_season='spring', met_season_numbers=2)\n",
      "Pandas(Index=77, Name='Midwest/Plains/East Tornadoes (May 2013)', Disaster='Severe Storm', _3=Timestamp('2013-05-18 00:00:00'), _4=Timestamp('2013-05-22 00:00:00'), _5=2928.3, Deaths=27, day_start=18, month_start=5, year_start=2013, met_season='spring', met_season_numbers=2)\n",
      "Pandas(Index=78, Name='Midwest/Plains/Northeast Tornadoes (May 2013)', Disaster='Severe Storm', _3=Timestamp('2013-05-27 00:00:00'), _4=Timestamp('2013-05-31 00:00:00'), _5=2212.4, Deaths=10, day_start=27, month_start=5, year_start=2013, met_season='spring', met_season_numbers=2)\n",
      "Pandas(Index=79, Name='Midwest Severe Weather (August 2013)', Disaster='Severe Storm', _3=Timestamp('2013-08-06 00:00:00'), _4=Timestamp('2013-08-07 00:00:00'), _5=1260.8, Deaths=0, day_start=6, month_start=8, year_start=2013, met_season='summer', met_season_numbers=3)\n",
      "Pandas(Index=80, Name='Ohio Valley Tornadoes (November 2013)', Disaster='Severe Storm', _3=Timestamp('2013-11-17 00:00:00'), _4=Timestamp('2013-11-17 00:00:00'), _5=1330.5, Deaths=8, day_start=17, month_start=11, year_start=2013, met_season='fall', met_season_numbers=4)\n",
      "Pandas(Index=81, Name='Plains Severe Weather (April 2014)', Disaster='Severe Storm', _3=Timestamp('2014-04-02 00:00:00'), _4=Timestamp('2014-04-03 00:00:00'), _5=1708.7, Deaths=0, day_start=2, month_start=4, year_start=2014, met_season='spring', met_season_numbers=2)\n",
      "Pandas(Index=82, Name='Central Severe Weather (April 2014)', Disaster='Severe Storm', _3=Timestamp('2014-04-12 00:00:00'), _4=Timestamp('2014-04-13 00:00:00'), _5=1101.6, Deaths=0, day_start=12, month_start=4, year_start=2014, met_season='spring', met_season_numbers=2)\n",
      "Pandas(Index=83, Name='Midwest/Southeast/Northeast Tornadoes and Flooding (April 2014)', Disaster='Severe Storm', _3=Timestamp('2014-04-27 00:00:00'), _4=Timestamp('2014-05-01 00:00:00'), _5=2083.3, Deaths=33, day_start=27, month_start=4, year_start=2014, met_season='spring', met_season_numbers=2)\n",
      "Pandas(Index=84, Name='Rockies/Midwest/Eastern Severe Weather (May 2014)', Disaster='Severe Storm', _3=Timestamp('2014-05-18 00:00:00'), _4=Timestamp('2014-05-23 00:00:00'), _5=4418.9, Deaths=0, day_start=18, month_start=5, year_start=2014, met_season='spring', met_season_numbers=2)\n",
      "Pandas(Index=85, Name='Rockies/Central Plains Severe Weather (June 2014)', Disaster='Severe Storm', _3=Timestamp('2014-06-03 00:00:00'), _4=Timestamp('2014-06-05 00:00:00'), _5=2283.9, Deaths=2, day_start=3, month_start=6, year_start=2014, met_season='summer', met_season_numbers=3)\n",
      "Pandas(Index=86, Name='Rockies/Plains Severe Weather (September 2014)', Disaster='Severe Storm', _3=Timestamp('2014-09-29 00:00:00'), _4=Timestamp('2014-10-02 00:00:00'), _5=1666.5, Deaths=0, day_start=29, month_start=9, year_start=2014, met_season='fall', met_season_numbers=4)\n",
      "Pandas(Index=87, Name='Midwest/Ohio Valley Severe Weather (April 2015)', Disaster='Severe Storm', _3=Timestamp('2015-04-07 00:00:00'), _4=Timestamp('2015-04-09 00:00:00'), _5=1866.7, Deaths=2, day_start=7, month_start=4, year_start=2015, met_season='spring', met_season_numbers=2)\n",
      "Pandas(Index=88, Name='South/Southeast Severe Weather (April 2015)', Disaster='Severe Storm', _3=Timestamp('2015-04-18 00:00:00'), _4=Timestamp('2015-04-20 00:00:00'), _5=1540.5, Deaths=0, day_start=18, month_start=4, year_start=2015, met_season='spring', met_season_numbers=2)\n",
      "Pandas(Index=89, Name='South and Southeast Severe Weather (April 2015)', Disaster='Severe Storm', _3=Timestamp('2015-04-24 00:00:00'), _4=Timestamp('2015-04-25 00:00:00'), _5=1132.8, Deaths=3, day_start=24, month_start=4, year_start=2015, met_season='spring', met_season_numbers=2)\n",
      "Pandas(Index=90, Name='Southern Plains Tornadoes (May 2015)', Disaster='Severe Storm', _3=Timestamp('2015-05-06 00:00:00'), _4=Timestamp('2015-05-10 00:00:00'), _5=1513.8, Deaths=4, day_start=6, month_start=5, year_start=2015, met_season='spring', met_season_numbers=2)\n",
      "Pandas(Index=91, Name='Central and Northeast Severe Weather (June 2015)', Disaster='Severe Storm', _3=Timestamp('2015-06-21 00:00:00'), _4=Timestamp('2015-06-25 00:00:00'), _5=1394.7, Deaths=1, day_start=21, month_start=6, year_start=2015, met_season='summer', met_season_numbers=3)\n",
      "Pandas(Index=92, Name='Texas Tornadoes and Midwest Flooding (December 2015)', Disaster='Severe Storm', _3=Timestamp('2015-12-26 00:00:00'), _4=Timestamp('2015-12-29 00:00:00'), _5=2354.3, Deaths=50, day_start=26, month_start=12, year_start=2015, met_season='winter', met_season_numbers=1)\n",
      "Pandas(Index=93, Name='Southeast and Eastern Tornadoes (February 2016)', Disaster='Severe Storm', _3=Timestamp('2016-02-22 00:00:00'), _4=Timestamp('2016-02-24 00:00:00'), _5=1248.0, Deaths=10, day_start=22, month_start=2, year_start=2016, met_season='winter', met_season_numbers=1)\n",
      "Pandas(Index=94, Name='Southern Severe Weather (March 2016)', Disaster='Severe Storm', _3=Timestamp('2016-03-17 00:00:00'), _4=Timestamp('2016-03-18 00:00:00'), _5=1440.2, Deaths=1, day_start=17, month_start=3, year_start=2016, met_season='spring', met_season_numbers=2)\n",
      "Pandas(Index=95, Name='North Texas Hail Storm (March 2016)', Disaster='Severe Storm', _3=Timestamp('2016-03-23 00:00:00'), _4=Timestamp('2016-03-24 00:00:00'), _5=2457.1, Deaths=0, day_start=23, month_start=3, year_start=2016, met_season='spring', met_season_numbers=2)\n",
      "Pandas(Index=96, Name='North/Central Texas Hail Storm (April 2016)', Disaster='Severe Storm', _3=Timestamp('2016-04-10 00:00:00'), _4=Timestamp('2016-04-12 00:00:00'), _5=4163.4, Deaths=0, day_start=10, month_start=4, year_start=2016, met_season='spring', met_season_numbers=2)\n",
      "Pandas(Index=97, Name='South/Southeast Tornadoes (April 2016)', Disaster='Severe Storm', _3=Timestamp('2016-04-26 00:00:00'), _4=Timestamp('2016-05-02 00:00:00'), _5=2849.5, Deaths=6, day_start=26, month_start=4, year_start=2016, met_season='spring', met_season_numbers=2)\n",
      "Pandas(Index=98, Name='Plains Tornadoes and Central Severe Weather (May 2016)', Disaster='Severe Storm', _3=Timestamp('2016-05-08 00:00:00'), _4=Timestamp('2016-05-11 00:00:00'), _5=2029.1, Deaths=2, day_start=8, month_start=5, year_start=2016, met_season='spring', met_season_numbers=2)\n",
      "Pandas(Index=99, Name='Rockies/Central Tornadoes and Severe Weather (May 2016)', Disaster='Severe Storm', _3=Timestamp('2016-05-21 00:00:00'), _4=Timestamp('2016-05-26 00:00:00'), _5=1352.7, Deaths=0, day_start=21, month_start=5, year_start=2016, met_season='spring', met_season_numbers=2)\n",
      "Pandas(Index=100, Name='Rockies and Northeast Severe Weather (July 2016)', Disaster='Severe Storm', _3=Timestamp('2016-07-28 00:00:00'), _4=Timestamp('2016-07-30 00:00:00'), _5=1729.6, Deaths=0, day_start=28, month_start=7, year_start=2016, met_season='summer', met_season_numbers=3)\n",
      "Pandas(Index=101, Name='Southern Tornado Outbreak and Western Storms (January 2017)', Disaster='Severe Storm', _3=Timestamp('2017-01-20 00:00:00'), _4=Timestamp('2017-01-22 00:00:00'), _5=1293.0, Deaths=24, day_start=20, month_start=1, year_start=2017, met_season='winter', met_season_numbers=1)\n",
      "Pandas(Index=102, Name='Central/Southeast Tornado Outbreak (March 2017)', Disaster='Severe Storm', _3=Timestamp('2017-02-28 00:00:00'), _4=Timestamp('2017-03-01 00:00:00'), _5=2095.1, Deaths=6, day_start=28, month_start=2, year_start=2017, met_season='winter', met_season_numbers=1)\n",
      "Pandas(Index=103, Name='Midwest Tornado Outbreak (March 2017)', Disaster='Severe Storm', _3=Timestamp('2017-03-06 00:00:00'), _4=Timestamp('2017-03-08 00:00:00'), _5=2524.2, Deaths=2, day_start=6, month_start=3, year_start=2017, met_season='spring', met_season_numbers=2)\n",
      "Pandas(Index=104, Name='South/Southeast Severe Weather (March 2017)', Disaster='Severe Storm', _3=Timestamp('2017-03-26 00:00:00'), _4=Timestamp('2017-03-28 00:00:00'), _5=3126.2, Deaths=0, day_start=26, month_start=3, year_start=2017, met_season='spring', met_season_numbers=2)\n",
      "Pandas(Index=105, Name='Southeast Severe Weather and Tornadoes (April 2017)', Disaster='Severe Storm', _3=Timestamp('2017-04-04 00:00:00'), _4=Timestamp('2017-04-06 00:00:00'), _5=1132.2, Deaths=1, day_start=4, month_start=4, year_start=2017, met_season='spring', met_season_numbers=2)\n",
      "Pandas(Index=106, Name='Colorado Hail Storm and Central Severe Weather (May 2017)', Disaster='Severe Storm', _3=Timestamp('2017-05-08 00:00:00'), _4=Timestamp('2017-05-11 00:00:00'), _5=3886.0, Deaths=0, day_start=8, month_start=5, year_start=2017, met_season='spring', met_season_numbers=2)\n",
      "Pandas(Index=107, Name='North Central Severe Weather and Tornadoes (May 2017)', Disaster='Severe Storm', _3=Timestamp('2017-05-15 00:00:00'), _4=Timestamp('2017-05-18 00:00:00'), _5=1091.5, Deaths=1, day_start=15, month_start=5, year_start=2017, met_season='spring', met_season_numbers=2)\n",
      "Pandas(Index=108, Name='Minnesota Hail Storm and Upper Midwest Severe Weather (June 2017)', Disaster='Severe Storm', _3=Timestamp('2017-06-09 00:00:00'), _4=Timestamp('2017-06-11 00:00:00'), _5=2726.0, Deaths=0, day_start=9, month_start=6, year_start=2017, met_season='summer', met_season_numbers=3)\n",
      "Pandas(Index=109, Name='Midwest Severe Weather (June 2017)', Disaster='Severe Storm', _3=Timestamp('2017-06-12 00:00:00'), _4=Timestamp('2017-06-16 00:00:00'), _5=1750.5, Deaths=0, day_start=12, month_start=6, year_start=2017, met_season='summer', met_season_numbers=3)\n",
      "Pandas(Index=110, Name='Midwest Severe Weather (June 2017)', Disaster='Severe Storm', _3=Timestamp('2017-06-27 00:00:00'), _4=Timestamp('2017-06-29 00:00:00'), _5=1653.0, Deaths=0, day_start=27, month_start=6, year_start=2017, met_season='summer', met_season_numbers=3)\n",
      "Pandas(Index=111, Name='Southeastern Tornadoes and Severe Weather (March 2018)', Disaster='Severe Storm', _3=Timestamp('2018-03-18 00:00:00'), _4=Timestamp('2018-03-21 00:00:00'), _5=1655.3, Deaths=0, day_start=18, month_start=3, year_start=2018, met_season='spring', met_season_numbers=2)\n",
      "Pandas(Index=112, Name='Southern and Eastern Tornadoes and Severe Weather (April 2018)', Disaster='Severe Storm', _3=Timestamp('2018-04-13 00:00:00'), _4=Timestamp('2018-04-16 00:00:00'), _5=1489.6, Deaths=3, day_start=13, month_start=4, year_start=2018, met_season='spring', met_season_numbers=2)\n",
      "Pandas(Index=113, Name='Central and Northeastern Severe Weather (May 2018)', Disaster='Severe Storm', _3=Timestamp('2018-05-01 00:00:00'), _4=Timestamp('2018-05-04 00:00:00'), _5=1571.0, Deaths=0, day_start=1, month_start=5, year_start=2018, met_season='spring', met_season_numbers=2)\n",
      "Pandas(Index=114, Name='Central and Eastern Severe Weather (May 2018)', Disaster='Severe Storm', _3=Timestamp('2018-05-13 00:00:00'), _4=Timestamp('2018-05-15 00:00:00'), _5=1548.1, Deaths=5, day_start=13, month_start=5, year_start=2018, met_season='spring', met_season_numbers=2)\n",
      "Pandas(Index=115, Name='Texas Hail Storm (June 2018)', Disaster='Severe Storm', _3=Timestamp('2018-06-06 00:00:00'), _4=Timestamp('2018-06-06 00:00:00'), _5=1469.0, Deaths=0, day_start=6, month_start=6, year_start=2018, met_season='summer', met_season_numbers=3)\n",
      "Pandas(Index=116, Name='Colorado Hail Storm (June 2018)', Disaster='Severe Storm', _3=Timestamp('2018-06-13 00:00:00'), _4=Timestamp('2018-06-13 00:00:00'), _5=1079.2, Deaths=0, day_start=13, month_start=6, year_start=2018, met_season='summer', met_season_numbers=3)\n",
      "Pandas(Index=117, Name='Colorado Hail Storm (June 2018)', Disaster='Severe Storm', _3=Timestamp('2018-06-18 00:00:00'), _4=Timestamp('2018-06-19 00:00:00'), _5=2512.0, Deaths=0, day_start=18, month_start=6, year_start=2018, met_season='summer', met_season_numbers=3)\n",
      "Pandas(Index=118, Name='Central and Eastern Tornadoes and Severe Weather (July 2018)', Disaster='Severe Storm', _3=Timestamp('2018-07-19 00:00:00'), _4=Timestamp('2018-07-22 00:00:00'), _5=1791.3, Deaths=0, day_start=19, month_start=7, year_start=2018, met_season='summer', met_season_numbers=3)\n",
      "Pandas(Index=119, Name='Rockies and Plains Hail Storms (August 2018)', Disaster='Severe Storm', _3=Timestamp('2018-08-06 00:00:00'), _4=Timestamp('2018-08-07 00:00:00'), _5=1158.4, Deaths=0, day_start=6, month_start=8, year_start=2018, met_season='summer', met_season_numbers=3)\n",
      "Pandas(Index=120, Name='Southeast, Ohio Valley and Northeast Severe Weather (February 2019)', Disaster='Severe Storm', _3=Timestamp('2019-02-23 00:00:00'), _4=Timestamp('2019-02-25 00:00:00'), _5=1386.0, Deaths=2, day_start=23, month_start=2, year_start=2019, met_season='winter', met_season_numbers=1)\n",
      "Pandas(Index=121, Name='Texas Hail Storm (March 2019)', Disaster='Severe Storm', _3=Timestamp('2019-03-22 00:00:00'), _4=Timestamp('2019-03-24 00:00:00'), _5=1719.2, Deaths=0, day_start=22, month_start=3, year_start=2019, met_season='spring', met_season_numbers=2)\n",
      "Pandas(Index=122, Name='Southern and Eastern Tornadoes and Severe Weather (April 2019)', Disaster='Severe Storm', _3=Timestamp('2019-04-13 00:00:00'), _4=Timestamp('2019-04-14 00:00:00'), _5=1389.8, Deaths=7, day_start=13, month_start=4, year_start=2019, met_season='spring', met_season_numbers=2)\n",
      "Pandas(Index=123, Name='South and Southeast Severe Weather (May 2019)', Disaster='Severe Storm', _3=Timestamp('2019-05-07 00:00:00'), _4=Timestamp('2019-05-13 00:00:00'), _5=1680.7, Deaths=0, day_start=7, month_start=5, year_start=2019, met_season='spring', met_season_numbers=2)\n",
      "Pandas(Index=124, Name='Central Severe Weather (May 2019)', Disaster='Severe Storm', _3=Timestamp('2019-05-16 00:00:00'), _4=Timestamp('2019-05-18 00:00:00'), _5=1080.1, Deaths=0, day_start=16, month_start=5, year_start=2019, met_season='spring', met_season_numbers=2)\n",
      "Pandas(Index=125, Name='Rockies, Central and Northeast Tornadoes and Severe Weather (May 2019)', Disaster='Severe Storm', _3=Timestamp('2019-05-26 00:00:00'), _4=Timestamp('2019-05-29 00:00:00'), _5=4992.8, Deaths=3, day_start=26, month_start=5, year_start=2019, met_season='spring', met_season_numbers=2)\n",
      "Pandas(Index=126, Name='Colorado Hail Storms (July 2019)', Disaster='Severe Storm', _3=Timestamp('2019-07-04 00:00:00'), _4=Timestamp('2019-07-05 00:00:00'), _5=1118.9, Deaths=0, day_start=4, month_start=7, year_start=2019, met_season='summer', met_season_numbers=3)\n",
      "Pandas(Index=127, Name='Texas Tornadoes and Central Severe Weather (October 2019)', Disaster='Severe Storm', _3=Timestamp('2019-10-20 00:00:00'), _4=Timestamp('2019-10-20 00:00:00'), _5=1889.8, Deaths=2, day_start=20, month_start=10, year_start=2019, met_season='fall', met_season_numbers=4)\n",
      "Pandas(Index=128, Name='Southeast Tornadoes and Northern Storms and Flooding (January 2020)', Disaster='Severe Storm', _3=Timestamp('2020-01-10 00:00:00'), _4=Timestamp('2020-01-12 00:00:00'), _5=1263.9, Deaths=10, day_start=10, month_start=1, year_start=2020, met_season='winter', met_season_numbers=1)\n",
      "Pandas(Index=129, Name='South, East and Northeast Severe Weather (February 2020)', Disaster='Severe Storm', _3=Timestamp('2020-02-05 00:00:00'), _4=Timestamp('2020-02-07 00:00:00'), _5=1381.6, Deaths=3, day_start=5, month_start=2, year_start=2020, met_season='winter', met_season_numbers=1)\n",
      "Pandas(Index=130, Name='Tennessee Tornadoes and Southeast Severe Weather (March 2020)', Disaster='Severe Storm', _3=Timestamp('2020-03-02 00:00:00'), _4=Timestamp('2020-03-04 00:00:00'), _5=2569.6, Deaths=25, day_start=2, month_start=3, year_start=2020, met_season='spring', met_season_numbers=2)\n",
      "Pandas(Index=131, Name='Midwest and Ohio Valley Severe Weather (March 2020)', Disaster='Severe Storm', _3=Timestamp('2020-03-27 00:00:00'), _4=Timestamp('2020-03-28 00:00:00'), _5=2813.8, Deaths=0, day_start=27, month_start=3, year_start=2020, met_season='spring', met_season_numbers=2)\n",
      "Pandas(Index=132, Name='North Central and Ohio Valley Hail Storms and Severe Weather (April 2020)', Disaster='Severe Storm', _3=Timestamp('2020-04-07 00:00:00'), _4=Timestamp('2020-04-08 00:00:00'), _5=3198.2, Deaths=0, day_start=7, month_start=4, year_start=2020, met_season='spring', met_season_numbers=2)\n",
      "Pandas(Index=133, Name='Southeast and Eastern Tornado Outbreak (April 2020)', Disaster='Severe Storm', _3=Timestamp('2020-04-12 00:00:00'), _4=Timestamp('2020-04-13 00:00:00'), _5=3823.1, Deaths=35, day_start=12, month_start=4, year_start=2020, met_season='spring', met_season_numbers=2)\n",
      "Pandas(Index=134, Name='Southern Severe Weather (April 2020)', Disaster='Severe Storm', _3=Timestamp('2020-04-21 00:00:00'), _4=Timestamp('2020-04-23 00:00:00'), _5=1498.7, Deaths=3, day_start=21, month_start=4, year_start=2020, met_season='spring', met_season_numbers=2)\n",
      "Pandas(Index=135, Name='Central, Southern and Eastern Severe Weather (April 2020)', Disaster='Severe Storm', _3=Timestamp('2020-04-27 00:00:00'), _4=Timestamp('2020-04-30 00:00:00'), _5=1140.1, Deaths=1, day_start=27, month_start=4, year_start=2020, met_season='spring', met_season_numbers=2)\n",
      "Pandas(Index=136, Name='Central and Eastern Severe Weather (May 2020)', Disaster='Severe Storm', _3=Timestamp('2020-05-03 00:00:00'), _4=Timestamp('2020-05-05 00:00:00'), _5=2345.5, Deaths=2, day_start=3, month_start=5, year_start=2020, met_season='spring', met_season_numbers=2)\n",
      "Pandas(Index=137, Name='South, Central and Eastern Severe Weather (May 2020)', Disaster='Severe Storm', _3=Timestamp('2020-05-20 00:00:00'), _4=Timestamp('2020-05-23 00:00:00'), _5=1758.3, Deaths=2, day_start=20, month_start=5, year_start=2020, met_season='spring', met_season_numbers=2)\n",
      "Pandas(Index=138, Name='South Texas Hail Storms (May 2020)', Disaster='Severe Storm', _3=Timestamp('2020-05-27 00:00:00'), _4=Timestamp('2020-05-27 00:00:00'), _5=1554.0, Deaths=0, day_start=27, month_start=5, year_start=2020, met_season='spring', met_season_numbers=2)\n",
      "Pandas(Index=139, Name='Central Severe Weather (July 2020)', Disaster='Severe Storm', _3=Timestamp('2020-07-10 00:00:00'), _4=Timestamp('2020-07-11 00:00:00'), _5=1315.6, Deaths=0, day_start=10, month_start=7, year_start=2020, met_season='summer', met_season_numbers=3)\n",
      "Pandas(Index=140, Name='Central Severe Weather - Derecho (August 2020)', Disaster='Severe Storm', _3=Timestamp('2020-08-10 00:00:00'), _4=Timestamp('2020-08-10 00:00:00'), _5=12129.7, Deaths=4, day_start=10, month_start=8, year_start=2020, met_season='summer', met_season_numbers=3)\n",
      "Pandas(Index=141, Name='Southeast Tornadoes and Severe Weather (March 2021)', Disaster='Severe Storm', _3=Timestamp('2021-03-24 00:00:00'), _4=Timestamp('2021-03-25 00:00:00'), _5=1794.6, Deaths=6, day_start=24, month_start=3, year_start=2021, met_season='spring', met_season_numbers=2)\n",
      "Pandas(Index=142, Name='Eastern Severe Weather (March 2021)', Disaster='Severe Storm', _3=Timestamp('2021-03-27 00:00:00'), _4=Timestamp('2021-03-28 00:00:00'), _5=1440.5, Deaths=8, day_start=27, month_start=3, year_start=2021, met_season='spring', met_season_numbers=2)\n",
      "Pandas(Index=143, Name='Texas Hail Storms (April 2021)', Disaster='Severe Storm', _3=Timestamp('2021-04-12 00:00:00'), _4=Timestamp('2021-04-15 00:00:00'), _5=1578.3, Deaths=0, day_start=12, month_start=4, year_start=2021, met_season='spring', met_season_numbers=2)\n",
      "Pandas(Index=144, Name='Texas and Oklahoma Severe Weather (April 2021)', Disaster='Severe Storm', _3=Timestamp('2021-04-27 00:00:00'), _4=Timestamp('2021-04-28 00:00:00'), _5=3369.5, Deaths=0, day_start=27, month_start=4, year_start=2021, met_season='spring', met_season_numbers=2)\n",
      "Pandas(Index=145, Name='Southern Tornadoes and Southeast Severe Weather (May 2021)', Disaster='Severe Storm', _3=Timestamp('2021-05-02 00:00:00'), _4=Timestamp('2021-05-04 00:00:00'), _5=1327.5, Deaths=4, day_start=2, month_start=5, year_start=2021, met_season='spring', met_season_numbers=2)\n",
      "Pandas(Index=146, Name='Ohio Valley Hail Storms (June 2021)', Disaster='Severe Storm', _3=Timestamp('2021-06-17 00:00:00'), _4=Timestamp('2021-06-18 00:00:00'), _5=1775.3, Deaths=0, day_start=17, month_start=6, year_start=2021, met_season='summer', met_season_numbers=3)\n",
      "Pandas(Index=147, Name='Central Severe Storms (June 2021)', Disaster='Severe Storm', _3=Timestamp('2021-06-24 00:00:00'), _4=Timestamp('2021-06-26 00:00:00'), _5=1303.0, Deaths=0, day_start=24, month_start=6, year_start=2021, met_season='summer', met_season_numbers=3)\n",
      "Pandas(Index=148, Name='Central Severe Storms (July 2021)', Disaster='Severe Storm', _3=Timestamp('2021-07-08 00:00:00'), _4=Timestamp('2021-07-11 00:00:00'), _5=1123.2, Deaths=0, day_start=8, month_start=7, year_start=2021, met_season='summer', met_season_numbers=3)\n",
      "Pandas(Index=149, Name='North Central Severe Weather (August 2021)', Disaster='Severe Storm', _3=Timestamp('2021-08-10 00:00:00'), _4=Timestamp('2021-08-13 00:00:00'), _5=1335.3, Deaths=2, day_start=10, month_start=8, year_start=2021, met_season='summer', met_season_numbers=3)\n",
      "Pandas(Index=150, Name='Southeast, Central Tornado Outbreak (December 2021)', Disaster='Severe Storm', _3=Timestamp('2021-12-10 00:00:00'), _4=Timestamp('2021-12-10 00:00:00'), _5=3993.3, Deaths=93, day_start=10, month_start=12, year_start=2021, met_season='winter', met_season_numbers=1)\n",
      "Pandas(Index=151, Name='Midwest Derecho and Tornado Outbreak (December 2021)', Disaster='Severe Storm', _3=Timestamp('2021-12-15 00:00:00'), _4=Timestamp('2021-12-15 00:00:00'), _5=1817.6, Deaths=1, day_start=15, month_start=12, year_start=2021, met_season='winter', met_season_numbers=1)\n"
     ]
    }
   ],
   "source": [
    "# Pandas(Index=151, Name='Midwest Derecho and Tornado Outbreak (December 2021)', Disaster='Severe Storm', _3=Timestamp('2021-12-15 00:00:00'), _4=Timestamp('2021-12-15 00:00:00'), _5=1817.6, Deaths=1, day_start=15, month_start=12, year_start=2021, met_season='winter', met_season_numbers=1)\n",
    "\n",
    "for row in severe_storm_df.itertuples():\n",
    "    print(row)"
   ],
   "metadata": {
    "collapsed": false,
    "ExecuteTime": {
     "end_time": "2023-09-15T00:03:59.896152800Z",
     "start_time": "2023-09-15T00:03:59.864641700Z"
    }
   },
   "id": "c2e836abe7775f7c"
  },
  {
   "cell_type": "code",
   "execution_count": 61,
   "outputs": [
    {
     "name": "stdout",
     "output_type": "stream",
     "text": [
      "1\n",
      "1\n",
      "2\n",
      "2\n",
      "2\n",
      "3\n",
      "3\n",
      "3\n",
      "4\n",
      "4\n",
      "4\n",
      "1\n"
     ]
    }
   ],
   "source": [
    "for i in range(1,13):\n",
    "    print(i % 12 // 3 + 1)"
   ],
   "metadata": {
    "collapsed": false,
    "ExecuteTime": {
     "end_time": "2023-09-14T23:33:11.746320200Z",
     "start_time": "2023-09-14T23:33:11.735979500Z"
    }
   },
   "id": "411bbaaa3dbf0b38"
  },
  {
   "cell_type": "code",
   "execution_count": 70,
   "outputs": [
    {
     "data": {
      "text/plain": "364.0"
     },
     "execution_count": 70,
     "metadata": {},
     "output_type": "execute_result"
    }
   ],
   "source": [
    "455000/(50*25)\n"
   ],
   "metadata": {
    "collapsed": false,
    "ExecuteTime": {
     "end_time": "2023-09-15T00:08:56.234815Z",
     "start_time": "2023-09-15T00:08:56.220610100Z"
    }
   },
   "id": "34eef5483d06ec4d"
  }
 ],
 "metadata": {
  "kernelspec": {
   "display_name": "Python 3",
   "language": "python",
   "name": "python3"
  },
  "language_info": {
   "codemirror_mode": {
    "name": "ipython",
    "version": 2
   },
   "file_extension": ".py",
   "mimetype": "text/x-python",
   "name": "python",
   "nbconvert_exporter": "python",
   "pygments_lexer": "ipython2",
   "version": "2.7.6"
  }
 },
 "nbformat": 4,
 "nbformat_minor": 5
}
