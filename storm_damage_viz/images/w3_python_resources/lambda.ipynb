{
 "cells": [
  {
   "cell_type": "markdown",
   "id": "minimal-pontiac",
   "metadata": {
    "toc": true
   },
   "source": [
    "<h1>Table of Contents<span class=\"tocSkip\"></span></h1>\n",
    "<div class=\"toc\"><ul class=\"toc-item\"><li><span><a href=\"#Q-1\" data-toc-modified-id=\"Q-1-1\">Q 1</a></span></li><li><span><a href=\"#Q-2\" data-toc-modified-id=\"Q-2-2\">Q 2</a></span></li><li><span><a href=\"#Q-3\" data-toc-modified-id=\"Q-3-3\">Q 3</a></span></li><li><span><a href=\"#Q-4\" data-toc-modified-id=\"Q-4-4\">Q 4</a></span></li><li><span><a href=\"#Q-5\" data-toc-modified-id=\"Q-5-5\">Q 5</a></span></li><li><span><a href=\"#Q-6\" data-toc-modified-id=\"Q-6-6\">Q 6</a></span></li><li><span><a href=\"#Q-7\" data-toc-modified-id=\"Q-7-7\">Q 7</a></span></li><li><span><a href=\"#Q-8\" data-toc-modified-id=\"Q-8-8\">Q 8</a></span></li><li><span><a href=\"#Q-9\" data-toc-modified-id=\"Q-9-9\">Q 9</a></span></li><li><span><a href=\"#Q-10\" data-toc-modified-id=\"Q-10-10\">Q 10</a></span></li><li><span><a href=\"#Q-11\" data-toc-modified-id=\"Q-11-11\">Q 11</a></span></li><li><span><a href=\"#Q-12\" data-toc-modified-id=\"Q-12-12\">Q 12</a></span></li><li><span><a href=\"#Q-13\" data-toc-modified-id=\"Q-13-13\">Q 13</a></span></li><li><span><a href=\"#Q-14\" data-toc-modified-id=\"Q-14-14\">Q 14</a></span></li><li><span><a href=\"#Q-15\" data-toc-modified-id=\"Q-15-15\">Q 15</a></span></li><li><span><a href=\"#Q-16\" data-toc-modified-id=\"Q-16-16\">Q 16</a></span></li><li><span><a href=\"#Q-17\" data-toc-modified-id=\"Q-17-17\">Q 17</a></span></li><li><span><a href=\"#Q-18\" data-toc-modified-id=\"Q-18-18\">Q 18</a></span></li><li><span><a href=\"#Q-19\" data-toc-modified-id=\"Q-19-19\">Q 19</a></span></li><li><span><a href=\"#Q-20\" data-toc-modified-id=\"Q-20-20\">Q 20</a></span></li></ul></div>"
   ]
  },
  {
   "cell_type": "markdown",
   "id": "hidden-pulse",
   "metadata": {},
   "source": [
    "This notebook contains my solutions for W3 School's exercsises for lambda in Python and the webpage can be found <a href='https://www.w3resource.com/python-exercises/lambda/index.php'>here</a>.\n",
    "\n",
    "Their questions are not always clear, but I hope that their prompt combined with my answers clear up any confusion about what the questions want."
   ]
  },
  {
   "cell_type": "markdown",
   "id": "tight-commissioner",
   "metadata": {},
   "source": [
    "### Q 1\n",
    "Write a Python program to create a lambda function that adds 15 to a given number passed in as an argument, also create a lambda function that multiplies argument x with argument y and print the result.\n",
    "\n",
    "Sample Output:<br>\n",
    "25<br>\n",
    "48"
   ]
  },
  {
   "cell_type": "code",
   "execution_count": 2,
   "id": "spare-romance",
   "metadata": {
    "ExecuteTime": {
     "end_time": "2021-05-27T00:52:36.878815Z",
     "start_time": "2021-05-27T00:52:36.859869Z"
    }
   },
   "outputs": [
    {
     "name": "stdout",
     "output_type": "stream",
     "text": [
      "25\n",
      "48\n"
     ]
    }
   ],
   "source": [
    "f = lambda x : x + 15\n",
    "print(f(10))\n",
    "\n",
    "f = lambda x, y : x * y\n",
    "print(f(4, 12))"
   ]
  },
  {
   "cell_type": "markdown",
   "id": "driven-australia",
   "metadata": {},
   "source": [
    "### Q 2\n",
    "Write a Python program to create a function that takes one argument, and that argument will be multiplied with an unknown given number.\n",
    "\n",
    "Sample Output:\n",
    "\n",
    "Double the number of 15 = 30<br>\n",
    "Triple the number of 15 = 45<br>\n",
    "Quadruple the number of 15 = 60<br>\n",
    "Quintuple the number 15 = 75"
   ]
  },
  {
   "cell_type": "code",
   "execution_count": 4,
   "id": "rocky-killer",
   "metadata": {
    "ExecuteTime": {
     "end_time": "2021-05-27T05:07:38.658917Z",
     "start_time": "2021-05-27T05:07:38.651917Z"
    }
   },
   "outputs": [
    {
     "name": "stdout",
     "output_type": "stream",
     "text": [
      "2X 15 = 30\n",
      "3X 15 = 45\n",
      "4X 15 = 60\n",
      "5X 15 = 75\n"
     ]
    }
   ],
   "source": [
    "def mult(n):\n",
    "    return lambda x : x * n\n",
    "fig = mult(2)\n",
    "print(\"2X 15 =\", fig(15))\n",
    "fig = mult(3)\n",
    "print(\"3X 15 =\", fig(15))\n",
    "fig = mult(4)\n",
    "print(\"4X 15 =\", fig(15))\n",
    "fig = mult(5)\n",
    "print(\"5X 15 =\", fig(15))"
   ]
  },
  {
   "cell_type": "markdown",
   "id": "loved-cooking",
   "metadata": {
    "ExecuteTime": {
     "end_time": "2021-05-27T05:08:36.451642Z",
     "start_time": "2021-05-27T05:08:36.437672Z"
    }
   },
   "source": [
    "### Q 3\n",
    "Write a Python program to sort a list of tuples using Lambda.\n",
    "\n",
    "Original list of tuples:<br>\n",
    "[('English', 88), ('Science', 90), ('Maths', 97), ('Social sciences', 82)]\n",
    "\n",
    "Sorting the List of Tuples:<br>\n",
    "[('Social sciences', 82), ('English', 88), ('Science', 90), ('Maths', 97)]"
   ]
  },
  {
   "cell_type": "code",
   "execution_count": 16,
   "id": "expected-david",
   "metadata": {
    "ExecuteTime": {
     "end_time": "2021-05-27T07:05:55.150507Z",
     "start_time": "2021-05-27T07:05:55.128489Z"
    }
   },
   "outputs": [
    {
     "name": "stdout",
     "output_type": "stream",
     "text": [
      "[('Social sciences', 82), ('English', 88), ('Science', 90), ('Maths', 97)]\n"
     ]
    }
   ],
   "source": [
    "tup_list = [('English', 88), ('Science', 90), ('Maths', 97), ('Social sciences', 82)]\n",
    "tup_list.sort(key = lambda x: x[1])\n",
    "print(tup_list)"
   ]
  },
  {
   "cell_type": "markdown",
   "id": "authentic-harvey",
   "metadata": {},
   "source": [
    "### Q 4\n",
    "Write a Python program to sort a list of dictionaries using Lambda.\n",
    "\n",
    "Original list of dictionaries :<br>\n",
    "[{'make': 'Nokia', 'model': 216, 'color': 'Black'}, {'make': 'Mi Max', 'model': '2', 'color': 'Gold'}, {'make': 'Samsung', 'model': 7, 'color': 'Blue'}]\n",
    "\n",
    "Sorting the List of dictionaries :<br>\n",
    "[{'make': 'Nokia', 'model': 216, 'color': 'Black'}, {'make': 'Samsung', 'model': 7, 'color': 'Blue'}, {'make': 'Mi Max', 'model': '2', 'color': 'Gold'}]"
   ]
  },
  {
   "cell_type": "code",
   "execution_count": 23,
   "id": "premium-water",
   "metadata": {
    "ExecuteTime": {
     "end_time": "2021-05-27T08:06:34.744815Z",
     "start_time": "2021-05-27T08:06:34.726816Z"
    }
   },
   "outputs": [
    {
     "name": "stdout",
     "output_type": "stream",
     "text": [
      "[{'make': 'Nokia', 'model': 216, 'color': 'Black'}, {'make': 'Samsung', 'model': 7, 'color': 'Blue'}, {'make': 'Mi Max', 'model': '2', 'color': 'Gold'}]\n"
     ]
    }
   ],
   "source": [
    "phone_list = [{'make': 'Nokia', 'model': 216, 'color': 'Black'}, {'make': 'Mi Max', 'model': '2', 'color': 'Gold'}, {'make': 'Samsung', 'model': 7, 'color': 'Blue'}]\n",
    "phone_list.sort(key = lambda x: x['color'])\n",
    "print(phone_list)"
   ]
  },
  {
   "cell_type": "markdown",
   "id": "alpine-tablet",
   "metadata": {},
   "source": [
    "### Q 5\n",
    "Write a Python program to filter a list of integers using Lambda.\n",
    "\n",
    "Original list of integers:<br>\n",
    "[1, 2, 3, 4, 5, 6, 7, 8, 9, 10]\n",
    "\n",
    "Even numbers from the said list:<br>\n",
    "[2, 4, 6, 8, 10]\n",
    "\n",
    "Odd numbers from the said list:<br>\n",
    "[1, 3, 5, 7, 9]"
   ]
  },
  {
   "cell_type": "code",
   "execution_count": 40,
   "id": "thick-nirvana",
   "metadata": {
    "ExecuteTime": {
     "end_time": "2021-05-27T08:14:22.304929Z",
     "start_time": "2021-05-27T08:14:22.285957Z"
    }
   },
   "outputs": [
    {
     "name": "stdout",
     "output_type": "stream",
     "text": [
      "[2, 4, 6, 8, 10]\n",
      "[1, 3, 5, 7, 9]\n"
     ]
    }
   ],
   "source": [
    "num_list = [1, 2, 3, 4, 5, 6, 7, 8, 9, 10]\n",
    "evens = list(filter(lambda x : x%2 == 0, num_list))\n",
    "odds = list(filter(lambda x : x%2 != 0, num_list))\n",
    "print(evens)\n",
    "print(odds)"
   ]
  },
  {
   "cell_type": "markdown",
   "id": "valuable-lodge",
   "metadata": {},
   "source": [
    "### Q 6\n",
    "Write a Python program to square and cube every number in a given list of integers using Lambda.\n",
    "\n",
    "Original list of integers:<br>\n",
    "[1, 2, 3, 4, 5, 6, 7, 8, 9, 10]\n",
    "\n",
    "Square every number of the said list:<br>\n",
    "[1, 4, 9, 16, 25, 36, 49, 64, 81, 100]\n",
    "\n",
    "Cube every number of the said list:<br>\n",
    "[1, 8, 27, 64, 125, 216, 343, 512, 729, 1000]"
   ]
  },
  {
   "cell_type": "code",
   "execution_count": 48,
   "id": "robust-newcastle",
   "metadata": {
    "ExecuteTime": {
     "end_time": "2021-05-27T08:38:18.870336Z",
     "start_time": "2021-05-27T08:38:18.865338Z"
    }
   },
   "outputs": [
    {
     "name": "stdout",
     "output_type": "stream",
     "text": [
      "[1, 4, 9, 16, 25, 36, 49, 64, 81, 100]\n",
      "[1, 8, 27, 64, 125, 216, 343, 512, 729, 1000]\n"
     ]
    }
   ],
   "source": [
    "num_list = [1, 2, 3, 4, 5, 6, 7, 8, 9, 10]\n",
    "squared = list(map(lambda x : x**2, num_list))\n",
    "cubed = list(map(lambda x : x**3, num_list))\n",
    "print(squared)\n",
    "print(cubed)"
   ]
  },
  {
   "cell_type": "markdown",
   "id": "certain-terry",
   "metadata": {},
   "source": [
    "### Q 7\n",
    "Write a Python program to find if a given string starts with a given character using Lambda.\n",
    "\n",
    "Sample Output:<br>\n",
    "True<br>\n",
    "False"
   ]
  },
  {
   "cell_type": "code",
   "execution_count": 50,
   "id": "spanish-balloon",
   "metadata": {
    "ExecuteTime": {
     "end_time": "2021-05-27T08:38:18.870336Z",
     "start_time": "2021-05-27T08:38:18.865338Z"
    }
   },
   "outputs": [
    {
     "name": "stdout",
     "output_type": "stream",
     "text": [
      "True\n",
      "False\n"
     ]
    }
   ],
   "source": [
    "test_string = 'python'\n",
    "f = lambda x, y : x == y[0]\n",
    "print(f('p', test_string))\n",
    "print(f('z', test_string))"
   ]
  },
  {
   "cell_type": "markdown",
   "id": "supposed-twist",
   "metadata": {},
   "source": [
    "### Q 8\n",
    "Write a Python program to extract year, month, date and time using Lambda.\n",
    "\n",
    "Sample Output:<br>\n",
    "2020-01-15 09:03:32.744178<br>\n",
    "2020<br>\n",
    "1<br>\n",
    "15<br>\n",
    "09:03:32.744178"
   ]
  },
  {
   "cell_type": "code",
   "execution_count": null,
   "id": "approved-plant",
   "metadata": {
    "ExecuteTime": {
     "end_time": "2021-05-27T08:38:18.870336Z",
     "start_time": "2021-05-27T08:38:18.865338Z"
    }
   },
   "outputs": [],
   "source": []
  },
  {
   "cell_type": "markdown",
   "id": "crude-hearing",
   "metadata": {},
   "source": [
    "### Q 9\n",
    "Write a Python program to check whether a given string is number or not using Lambda.\n",
    "\n",
    "Sample Output:<br>\n",
    "True<br>\n",
    "True<br>\n",
    "False"
   ]
  },
  {
   "cell_type": "code",
   "execution_count": null,
   "id": "individual-least",
   "metadata": {
    "ExecuteTime": {
     "end_time": "2021-05-27T08:38:18.870336Z",
     "start_time": "2021-05-27T08:38:18.865338Z"
    }
   },
   "outputs": [],
   "source": []
  },
  {
   "cell_type": "markdown",
   "id": "tired-object",
   "metadata": {},
   "source": [
    "### Q 10\n",
    "Write a Python program to create Fibonacci series upto n using Lambda.\n",
    "\n",
    "Fibonacci series upto 2:<br>\n",
    "[0, 1]\n",
    "\n",
    "Fibonacci series upto 5:<br>\n",
    "[0, 1, 1, 2, 3]\n",
    "\n",
    "Fibonacci series upto 6:<br>\n",
    "[0, 1, 1, 2, 3, 5]\n",
    "\n",
    "Fibonacci series upto 9:<br>\n",
    "[0, 1, 1, 2, 3, 5, 8, 13, 21]"
   ]
  },
  {
   "cell_type": "code",
   "execution_count": null,
   "id": "decent-associate",
   "metadata": {
    "ExecuteTime": {
     "end_time": "2021-05-27T08:38:18.870336Z",
     "start_time": "2021-05-27T08:38:18.865338Z"
    }
   },
   "outputs": [],
   "source": []
  },
  {
   "cell_type": "markdown",
   "id": "greater-cincinnati",
   "metadata": {},
   "source": [
    "### Q 11\n",
    "Write a Python program to find intersection of two given arrays using Lambda.\n",
    "\n",
    "Original arrays:<br>\n",
    "[1, 2, 3, 5, 7, 8, 9, 10]<br>\n",
    "[1, 2, 4, 8, 9]\n",
    "\n",
    "Intersection of the said arrays:<br>\n",
    "[1, 2, 8, 9]"
   ]
  },
  {
   "cell_type": "code",
   "execution_count": null,
   "id": "experienced-bearing",
   "metadata": {
    "ExecuteTime": {
     "end_time": "2021-05-27T08:38:18.870336Z",
     "start_time": "2021-05-27T08:38:18.865338Z"
    }
   },
   "outputs": [],
   "source": []
  },
  {
   "cell_type": "markdown",
   "id": "beautiful-stranger",
   "metadata": {},
   "source": [
    "### Q 12\n",
    "Write a Python program to rearrange positive and negative numbers in a given array using Lambda.\n",
    "\n",
    "Original arrays:<br>\n",
    "[-1, 2, -3, 5, 7, 8, 9, -10]\n",
    "\n",
    "Rearrange positive and negative numbers of the said array:<br>\n",
    "[2, 5, 7, 8, 9, -10, -3, -1]"
   ]
  },
  {
   "cell_type": "code",
   "execution_count": null,
   "id": "hundred-mention",
   "metadata": {
    "ExecuteTime": {
     "end_time": "2021-05-27T08:38:18.870336Z",
     "start_time": "2021-05-27T08:38:18.865338Z"
    }
   },
   "outputs": [],
   "source": []
  },
  {
   "cell_type": "markdown",
   "id": "finnish-sugar",
   "metadata": {},
   "source": [
    "### Q 13\n",
    "Write a Python program to count the even, odd numbers in a given array of integers using Lambda.\n",
    "\n",
    "Original arrays:<br>\n",
    "[1, 2, 3, 5, 7, 8, 9, 10]\n",
    "\n",
    "Number of even numbers in the above array: 3<br>\n",
    "Number of odd numbers in the above array: 5"
   ]
  },
  {
   "cell_type": "code",
   "execution_count": null,
   "id": "broadband-vampire",
   "metadata": {
    "ExecuteTime": {
     "end_time": "2021-05-27T08:38:18.870336Z",
     "start_time": "2021-05-27T08:38:18.865338Z"
    }
   },
   "outputs": [],
   "source": []
  },
  {
   "cell_type": "markdown",
   "id": "aggressive-dietary",
   "metadata": {},
   "source": [
    "### Q 14\n",
    "Write a Python program to find the values of length six in a given list using Lambda.\n",
    "\n",
    "Sample Output:<br>\n",
    "Monday<br>\n",
    "Friday<br>\n",
    "Sunday"
   ]
  },
  {
   "cell_type": "code",
   "execution_count": null,
   "id": "abroad-defense",
   "metadata": {
    "ExecuteTime": {
     "end_time": "2021-05-27T08:38:18.870336Z",
     "start_time": "2021-05-27T08:38:18.865338Z"
    }
   },
   "outputs": [],
   "source": []
  },
  {
   "cell_type": "markdown",
   "id": "smoking-dallas",
   "metadata": {},
   "source": [
    "### Q 15\n",
    "Write a Python program to add two given lists using map and lambda.\n",
    "\n",
    "Original list:<br>\n",
    "[1, 2, 3]<br>\n",
    "[4, 5, 6]\n",
    "\n",
    "Result: after adding two list<br>\n",
    "[5, 7, 9]"
   ]
  },
  {
   "cell_type": "code",
   "execution_count": null,
   "id": "earlier-draft",
   "metadata": {
    "ExecuteTime": {
     "end_time": "2021-05-27T08:38:18.870336Z",
     "start_time": "2021-05-27T08:38:18.865338Z"
    }
   },
   "outputs": [],
   "source": []
  },
  {
   "cell_type": "markdown",
   "id": "gothic-permission",
   "metadata": {},
   "source": [
    "### Q 16\n",
    "Write a Python program to find the second lowest grade of any student(s) from the given names and grades of each student using lists and lambda. Input number of students, names and grades of each student.\n",
    "\n",
    "Input number of students: 5<br>\n",
    "Name: S ROY<br>\n",
    "Grade: 1<br>\n",
    "Name: B BOSE<br>\n",
    "Grade: 3<br>\n",
    "Name: N KAR<br>\n",
    "Grade: 2<br>\n",
    "Name: C DUTTA<br>\n",
    "Grade: 1<br>\n",
    "Name: G GHOSH<br>\n",
    "Grade: 1<br>\n",
    "\n",
    "Names and Grades of all students:<br>\n",
    "[['S ROY', 1.0], ['B BOSE', 3.0], ['N KAR', 2.0], ['C DUTTA', 1.0], ['G GHOSH', 1.0]]<br>\n",
    "Second lowest grade: 2.0<br>\n",
    "Names:<br>\n",
    "N KAR"
   ]
  },
  {
   "cell_type": "code",
   "execution_count": null,
   "id": "injured-experiment",
   "metadata": {
    "ExecuteTime": {
     "end_time": "2021-05-27T08:38:18.870336Z",
     "start_time": "2021-05-27T08:38:18.865338Z"
    }
   },
   "outputs": [],
   "source": []
  },
  {
   "cell_type": "markdown",
   "id": "overall-louisiana",
   "metadata": {},
   "source": [
    "### Q 17\n",
    "Write a Python program to find numbers divisible by nineteen or thirteen from a list of numbers using Lambda.\n",
    "\n",
    "Orginal list:<br>\n",
    "[19, 65, 57, 39, 152, 639, 121, 44, 90, 190]\n",
    "\n",
    "Numbers of the above list divisible by nineteen or thirteen:<br>\n",
    "[19, 65, 57, 39, 152, 190]"
   ]
  },
  {
   "cell_type": "code",
   "execution_count": null,
   "id": "abroad-forwarding",
   "metadata": {},
   "outputs": [],
   "source": []
  },
  {
   "cell_type": "markdown",
   "id": "korean-gazette",
   "metadata": {},
   "source": [
    "### Q 18\n",
    "Write a Python program to find palindromes in a given list of strings using Lambda.\n",
    "\n",
    "Orginal list of strings:<br>\n",
    "['php', 'w3r', 'Python', 'abcd', 'Java', 'aaa']\n",
    "\n",
    "List of palindromes:<br>\n",
    "['php', 'aaa']"
   ]
  },
  {
   "cell_type": "code",
   "execution_count": null,
   "id": "powerful-american",
   "metadata": {},
   "outputs": [],
   "source": []
  },
  {
   "cell_type": "markdown",
   "id": "selective-oxygen",
   "metadata": {},
   "source": [
    "### Q 19\n",
    "Write a Python program to find all anagrams of a string in a given list of strings using lambda.\n",
    "\n",
    "Orginal list of strings:<br>\n",
    "['bcda', 'abce', 'cbda', 'cbea', 'adcb']\n",
    "\n",
    "Anagrams of 'abcd' in the above string:<br>\n",
    "['bcda', 'cbda', 'adcb']"
   ]
  },
  {
   "cell_type": "code",
   "execution_count": null,
   "id": "guided-engineering",
   "metadata": {},
   "outputs": [],
   "source": []
  },
  {
   "cell_type": "markdown",
   "id": "subtle-marriage",
   "metadata": {},
   "source": [
    "### Q 20\n",
    "Write a Python program to find the numbers of a given string and store them in a list, display the numbers which are bigger than the length of the list in sorted form. Use lambda function to solve the problem.\n",
    "\n",
    "Original string:<br>\n",
    "sdf 23 safs8 5 sdfsd8 sdfs 56 21sfs 20 5\n",
    "\n",
    "Numbers in sorted form:<br>\n",
    "20 23 56"
   ]
  },
  {
   "cell_type": "code",
   "execution_count": null,
   "id": "powerful-mistake",
   "metadata": {},
   "outputs": [],
   "source": []
  }
 ],
 "metadata": {
  "kernelspec": {
   "display_name": "Python 3",
   "language": "python",
   "name": "python3"
  },
  "language_info": {
   "codemirror_mode": {
    "name": "ipython",
    "version": 3
   },
   "file_extension": ".py",
   "mimetype": "text/x-python",
   "name": "python",
   "nbconvert_exporter": "python",
   "pygments_lexer": "ipython3",
   "version": "3.7.9"
  },
  "toc": {
   "base_numbering": 1,
   "nav_menu": {},
   "number_sections": false,
   "sideBar": true,
   "skip_h1_title": false,
   "title_cell": "Table of Contents",
   "title_sidebar": "Contents",
   "toc_cell": true,
   "toc_position": {},
   "toc_section_display": true,
   "toc_window_display": false
  }
 },
 "nbformat": 4,
 "nbformat_minor": 5
}
