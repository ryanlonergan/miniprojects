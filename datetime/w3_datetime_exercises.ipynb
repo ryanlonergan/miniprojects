{
 "cells": [
  {
   "metadata": {},
   "cell_type": "markdown",
   "source": [
    "Link to exercises:\n",
    "\n",
    "https://www.w3resource.com/python-exercises/date-time-exercise/"
   ],
   "id": "d2dbfa43a507a8bf"
  },
  {
   "metadata": {},
   "cell_type": "code",
   "outputs": [],
   "execution_count": null,
   "source": [
    "# imports\n",
    "import datetime"
   ],
   "id": "e342cb2b7a0eca7f"
  },
  {
   "metadata": {},
   "cell_type": "markdown",
   "source": [
    "1 - DateTime Formats Display\n",
    "\n",
    "Write a Python script to display the various Date Time formats -\n",
    "    \n",
    "    a) Current date and time\n",
    "    b) Current year\n",
    "    c) Month of year\n",
    "    d) Week number of the year\n",
    "    e) Weekday of the week\n",
    "    f) Day of year\n",
    "    g) Day of the month\n",
    "    h) Day of week"
   ],
   "id": "25d654c79c5b671"
  },
  {
   "metadata": {
    "ExecuteTime": {
     "end_time": "2025-06-05T23:14:03.880912Z",
     "start_time": "2025-06-05T23:14:03.870025Z"
    }
   },
   "cell_type": "code",
   "source": [
    "#a \n",
    "print(f'Current date and time: {datetime.datetime.now()}')\n",
    "\n",
    "#b\n",
    "print(f'Current year: {datetime.datetime.now().strftime('%Y')}')\n",
    "\n",
    "#c Month of year\n",
    "print(f'Month of year numerical: {datetime.datetime.now().strftime('%m')}')\n",
    "print(f'Month of year name: {datetime.datetime.now().strftime('%B')}')\n",
    "\n",
    "#d - ('%U') has Sunday as start, ('%W') has monday as start, ('%V') is ISO 8601 standard\n",
    "print(f'Week number of the year: {datetime.datetime.now().strftime('%U')}')\n",
    "\n",
    "#e\n",
    "print(f'Weekday of the week numerical: {datetime.datetime.now().strftime('%w')}')\n",
    "\n",
    "#f\n",
    "print(f'Day of year: {datetime.datetime.now().strftime('%j')}')\n",
    "\n",
    "#g Day of the month\n",
    "print(f'Day of the month: {datetime.datetime.now().strftime('%e')}')\n",
    "\n",
    "#h Day of week\n",
    "print(f'Day of week: {datetime.datetime.now().strftime('%A')}')\n"
   ],
   "id": "initial_id",
   "outputs": [
    {
     "name": "stdout",
     "output_type": "stream",
     "text": [
      "Current date and time: 2025-06-05 16:14:03.876367\n",
      "Current year: 2025\n",
      "Month of year numerical: 06\n",
      "Month of year name: June\n",
      "Week number of the year: 22\n",
      "Weekday of the week numerical: 4\n",
      "Day of year: 156\n",
      "Day of the month:  5\n",
      "Day of week: Thursday\n"
     ]
    }
   ],
   "execution_count": 51
  },
  {
   "metadata": {},
   "cell_type": "markdown",
   "source": "2 - ",
   "id": "1585f9e2578d79e2"
  },
  {
   "metadata": {},
   "cell_type": "code",
   "outputs": [],
   "execution_count": null,
   "source": "",
   "id": "8b90686a3e423628"
  },
  {
   "metadata": {},
   "cell_type": "code",
   "outputs": [],
   "execution_count": null,
   "source": "",
   "id": "ab48f6accda2cd17"
  },
  {
   "metadata": {},
   "cell_type": "code",
   "outputs": [],
   "execution_count": null,
   "source": "",
   "id": "475f9e967af95ceb"
  },
  {
   "metadata": {},
   "cell_type": "code",
   "outputs": [],
   "execution_count": null,
   "source": "",
   "id": "533c4d8602562b6d"
  }
 ],
 "metadata": {
  "kernelspec": {
   "display_name": "Python 3",
   "language": "python",
   "name": "python3"
  },
  "language_info": {
   "codemirror_mode": {
    "name": "ipython",
    "version": 2
   },
   "file_extension": ".py",
   "mimetype": "text/x-python",
   "name": "python",
   "nbconvert_exporter": "python",
   "pygments_lexer": "ipython2",
   "version": "2.7.6"
  }
 },
 "nbformat": 4,
 "nbformat_minor": 5
}
