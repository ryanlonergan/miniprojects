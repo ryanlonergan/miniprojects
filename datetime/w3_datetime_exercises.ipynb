{
 "cells": [
  {
   "metadata": {},
   "cell_type": "markdown",
   "source": [
    "Link to exercises:\n",
    "\n",
    "https://www.w3resource.com/python-exercises/date-time-exercise/\n",
    "\n",
    "Datetime docs:\n",
    "\n",
    "https://docs.python.org/3/library/datetime.html"
   ],
   "id": "d2dbfa43a507a8bf"
  },
  {
   "metadata": {
    "ExecuteTime": {
     "end_time": "2025-07-01T18:51:09.548681Z",
     "start_time": "2025-07-01T18:51:09.540783Z"
    }
   },
   "cell_type": "code",
   "source": [
    "# imports\n",
    "import datetime"
   ],
   "id": "e342cb2b7a0eca7f",
   "outputs": [],
   "execution_count": 1
  },
  {
   "metadata": {},
   "cell_type": "markdown",
   "source": [
    "1 - DateTime Formats Display\n",
    "\n",
    "Write a Python script to display the various Date Time formats -\n",
    "    \n",
    "    a) Current date and time\n",
    "    b) Current year\n",
    "    c) Month of year\n",
    "    d) Week number of the year\n",
    "    e) Weekday of the week\n",
    "    f) Day of year\n",
    "    g) Day of the month\n",
    "    h) Day of week"
   ],
   "id": "25d654c79c5b671"
  },
  {
   "metadata": {
    "ExecuteTime": {
     "end_time": "2025-06-05T23:14:03.880912Z",
     "start_time": "2025-06-05T23:14:03.870025Z"
    }
   },
   "cell_type": "code",
   "source": [
    "#a \n",
    "print(f'Current date and time: {datetime.datetime.now()}')\n",
    "\n",
    "#b\n",
    "print(f'Current year: {datetime.datetime.now().strftime('%Y')}')\n",
    "\n",
    "#c Month of year\n",
    "print(f'Month of year numerical: {datetime.datetime.now().strftime('%m')}')\n",
    "print(f'Month of year name: {datetime.datetime.now().strftime('%B')}')\n",
    "\n",
    "#d - ('%U') has Sunday as start, ('%W') has monday as start, ('%V') is ISO 8601 standard\n",
    "print(f'Week number of the year: {datetime.datetime.now().strftime('%U')}')\n",
    "\n",
    "#e\n",
    "print(f'Weekday of the week numerical: {datetime.datetime.now().strftime('%w')}')\n",
    "\n",
    "#f\n",
    "print(f'Day of year: {datetime.datetime.now().strftime('%j')}')\n",
    "\n",
    "#g Day of the month\n",
    "print(f'Day of the month: {datetime.datetime.now().strftime('%e')}')\n",
    "\n",
    "#h Day of week\n",
    "print(f'Day of week: {datetime.datetime.now().strftime('%A')}')\n"
   ],
   "id": "initial_id",
   "outputs": [
    {
     "name": "stdout",
     "output_type": "stream",
     "text": [
      "Current date and time: 2025-06-05 16:14:03.876367\n",
      "Current year: 2025\n",
      "Month of year numerical: 06\n",
      "Month of year name: June\n",
      "Week number of the year: 22\n",
      "Weekday of the week numerical: 4\n",
      "Day of year: 156\n",
      "Day of the month:  5\n",
      "Day of week: Thursday\n"
     ]
    }
   ],
   "execution_count": 51
  },
  {
   "metadata": {},
   "cell_type": "markdown",
   "source": [
    "2 - Leap Year Checker\n",
    "\n",
    "Write a Python program to determine whether a given year is a leap year."
   ],
   "id": "1585f9e2578d79e2"
  },
  {
   "metadata": {
    "ExecuteTime": {
     "end_time": "2025-06-06T21:30:34.882415Z",
     "start_time": "2025-06-06T21:30:34.872116Z"
    }
   },
   "cell_type": "code",
   "source": [
    "# This exercise was a bit odd as using datetime to check for leapyear wasn't even used in their solution. After reading comments, this approach was what I settled on.\n",
    "\n",
    "def leap_year_checker(year):\n",
    "    year_to_check = datetime.datetime(year, 12, 31)\n",
    "    days_in_year = year_to_check.strftime('%j')\n",
    "    \n",
    "    if days_in_year == '366':\n",
    "        print(f'{year} is a leap year')\n",
    "    else:\n",
    "        print(f'{year} is not a leap year')\n",
    "\n",
    "leap_year_checker(2024)\n",
    "leap_year_checker(2025)\n"
   ],
   "id": "8b90686a3e423628",
   "outputs": [
    {
     "name": "stdout",
     "output_type": "stream",
     "text": [
      "2024 is a leap year\n",
      "2025 is not a leap year\n"
     ]
    }
   ],
   "execution_count": 19
  },
  {
   "metadata": {},
   "cell_type": "markdown",
   "source": [
    "3 - String to Datetime Converter\n",
    "\n",
    "Write a Python program to convert a string to datetime.\n",
    "\n",
    "    Sample String : Jul 1 2014 2:43PM\n",
    "    Expected Output : 2014-07-01 14:43:00"
   ],
   "id": "c030c85a50f6d4a9"
  },
  {
   "metadata": {
    "ExecuteTime": {
     "end_time": "2025-06-06T21:35:24.990915Z",
     "start_time": "2025-06-06T21:35:24.982794Z"
    }
   },
   "cell_type": "code",
   "source": [
    "def date_string_converter(string):\n",
    "    return datetime.datetime.strptime(string, '%b %d %Y %H:%M%p')\n",
    "\n",
    "string_1 = 'Jul 1 2025 2:43PM'\n",
    "string_2 = 'Sep 20 2024 4:18AM'\n",
    "\n",
    "print(date_string_converter(string_1))\n",
    "print(date_string_converter(string_2))"
   ],
   "id": "ab48f6accda2cd17",
   "outputs": [
    {
     "name": "stdout",
     "output_type": "stream",
     "text": [
      "2025-07-01 02:43:00\n",
      "2024-09-20 04:18:00\n"
     ]
    }
   ],
   "execution_count": 25
  },
  {
   "metadata": {},
   "cell_type": "markdown",
   "source": [
    "4 - Current Time Fetcher\n",
    "\n",
    "Write a Python program to get the current time in Python.\n",
    "    \n",
    "    Sample Format :  13:19:49.078205"
   ],
   "id": "d834edd48086ae28"
  },
  {
   "metadata": {
    "ExecuteTime": {
     "end_time": "2025-06-06T21:37:09.819126Z",
     "start_time": "2025-06-06T21:37:09.813650Z"
    }
   },
   "cell_type": "code",
   "source": "print(datetime.datetime.now().time())",
   "id": "533c4d8602562b6d",
   "outputs": [
    {
     "name": "stdout",
     "output_type": "stream",
     "text": [
      "14:37:09.815923\n"
     ]
    }
   ],
   "execution_count": 28
  },
  {
   "metadata": {},
   "cell_type": "markdown",
   "source": [
    "5 - Subtract Five Days\n",
    "\n",
    "Write a Python program to subtract five days from the current date.\n",
    "\n",
    "    Current Date : 2025-06-06\n",
    "    5 days before Current Date : 2025-06-01"
   ],
   "id": "44fefeb42246e158"
  },
  {
   "metadata": {
    "ExecuteTime": {
     "end_time": "2025-06-06T21:41:17.106355Z",
     "start_time": "2025-06-06T21:41:17.100862Z"
    }
   },
   "cell_type": "code",
   "source": [
    "current_date = datetime.datetime.now()\n",
    "five_days_before = current_date - datetime.timedelta(days=5)\n",
    "print(five_days_before.date())"
   ],
   "id": "93c9f2cda286df2c",
   "outputs": [
    {
     "name": "stdout",
     "output_type": "stream",
     "text": [
      "2025-06-01\n"
     ]
    }
   ],
   "execution_count": 42
  },
  {
   "metadata": {},
   "cell_type": "markdown",
   "source": [
    "6 - Unix Timestamp Converter\n",
    "\n",
    "Write a Python program to convert a Unix timestamp string to a readable date.\n",
    "\n",
    "    Sample Unix timestamp string : 1284105682\n",
    "    Expected Output : 2010-09-10 13:31:22"
   ],
   "id": "27a7a390c767bb40"
  },
  {
   "metadata": {
    "ExecuteTime": {
     "end_time": "2025-06-30T20:03:43.836902Z",
     "start_time": "2025-06-30T20:03:43.829845Z"
    }
   },
   "cell_type": "code",
   "source": [
    "sample_string = '1284105682'\n",
    "datetime.datetime.fromtimestamp(int(sample_string)).strftime('%Y-%m-%d %H:%M:%S')"
   ],
   "id": "b58d707d8f849f1b",
   "outputs": [
    {
     "data": {
      "text/plain": [
       "'2010-09-10 01:01:22'"
      ]
     },
     "execution_count": 12,
     "metadata": {},
     "output_type": "execute_result"
    }
   ],
   "execution_count": 12
  },
  {
   "metadata": {},
   "cell_type": "markdown",
   "source": [
    "7 - Relative Dates Printer\n",
    "\n",
    "Write a Python program to print yesterday, today, tomorrow."
   ],
   "id": "6b4eb488463ad0a1"
  },
  {
   "metadata": {
    "ExecuteTime": {
     "end_time": "2025-06-30T20:07:09.215723Z",
     "start_time": "2025-06-30T20:07:09.209809Z"
    }
   },
   "cell_type": "code",
   "source": [
    "print(f'yesterday: {(datetime.datetime.now() + datetime.timedelta(days=-1)).date()}')\n",
    "print(f'today: {(datetime.datetime.now()).date()}')\n",
    "print(f'tomorrow: {(datetime.datetime.now() + datetime.timedelta(days=1)).date()}')"
   ],
   "id": "6469619788b3459e",
   "outputs": [
    {
     "name": "stdout",
     "output_type": "stream",
     "text": [
      "yesterday: 2025-06-29\n",
      "today: 2025-06-30\n",
      "tomorrow: 2025-07-01\n"
     ]
    }
   ],
   "execution_count": 19
  },
  {
   "metadata": {},
   "cell_type": "markdown",
   "source": [
    "8 - Date to Midnight Datetime\n",
    "\n",
    "Write a Python program to convert the date to datetime (midnight of the date) in Python.\n",
    "\n",
    "    Sample Output : 2015-06-22 00:00:00"
   ],
   "id": "1b2bbdd16c3a3852"
  },
  {
   "metadata": {
    "ExecuteTime": {
     "end_time": "2025-06-30T21:15:46.207958Z",
     "start_time": "2025-06-30T21:15:46.201744Z"
    }
   },
   "cell_type": "code",
   "source": [
    "today_date = datetime.date.today()\n",
    "print(datetime.datetime.combine(today_date, datetime.time(0, 0, 0)))\n",
    "\n",
    "# Their answer\n",
    "# print(datetime.datetime.combine(today_date, datetime.datetime.min.time()))"
   ],
   "id": "9e9812eae510a766",
   "outputs": [
    {
     "name": "stdout",
     "output_type": "stream",
     "text": [
      "2025-06-30 00:00:00\n"
     ]
    }
   ],
   "execution_count": 28
  },
  {
   "metadata": {},
   "cell_type": "markdown",
   "source": [
    "9 - Next 5 Days Printer\n",
    "\n",
    "Write a Python program to print the next 5 days starting today."
   ],
   "id": "8ba762422a3dcce1"
  },
  {
   "metadata": {
    "ExecuteTime": {
     "end_time": "2025-06-30T22:48:01.510297Z",
     "start_time": "2025-06-30T22:48:01.502410Z"
    }
   },
   "cell_type": "code",
   "source": [
    "today_date = datetime.date.today()\n",
    "\n",
    "print(f'Today\\'s date: {today_date}')\n",
    "      \n",
    "for i in range(1,5):\n",
    "    print(f'Today\\'s date + {i}: {today_date + datetime.timedelta(days=i)}') "
   ],
   "id": "69625f9f7305c1f3",
   "outputs": [
    {
     "name": "stdout",
     "output_type": "stream",
     "text": [
      "Today's date: 2025-06-30\n",
      "Today's date + 1: 2025-07-01\n",
      "Today's date + 2: 2025-07-02\n",
      "Today's date + 3: 2025-07-03\n",
      "Today's date + 4: 2025-07-04\n"
     ]
    }
   ],
   "execution_count": 34
  },
  {
   "metadata": {},
   "cell_type": "markdown",
   "source": [
    "10 - Add 5 Seconds\n",
    "\n",
    "Write a Python program to add 5 seconds to the current time.\n",
    "\n",
    "Sample Data :\n",
    "    \n",
    "    13:28:32.953088\n",
    "    13:28:37.953088"
   ],
   "id": "e5cf076a095ef9dd"
  },
  {
   "metadata": {
    "ExecuteTime": {
     "end_time": "2025-06-30T23:17:33.535396Z",
     "start_time": "2025-06-30T23:17:33.528770Z"
    }
   },
   "cell_type": "code",
   "source": [
    "current_time = datetime.datetime.now()\n",
    "\n",
    "print(f'Current time: {current_time.time()}')\n",
    "print(f'+ 5 seconds: {(current_time + datetime.timedelta(seconds=5)).time()}')"
   ],
   "id": "a909df381516ad2b",
   "outputs": [
    {
     "name": "stdout",
     "output_type": "stream",
     "text": [
      "Current time: 16:17:33.528770\n",
      "+ 5 seconds: 16:17:38.528770\n"
     ]
    }
   ],
   "execution_count": 50
  },
  {
   "metadata": {},
   "cell_type": "markdown",
   "source": [
    "11 - Day of Year Converter\n",
    "\n",
    "Write a Python program to convert Year/Month/Day to Day of Year in Python."
   ],
   "id": "701829eec8048d22"
  },
  {
   "metadata": {
    "ExecuteTime": {
     "end_time": "2025-07-01T19:02:28.112057Z",
     "start_time": "2025-07-01T19:02:28.105082Z"
    }
   },
   "cell_type": "code",
   "source": [
    "today_date = datetime.date.today()\n",
    "\n",
    "day_of_year = (today_date - datetime.date(today_date.year, 1, 1)).days + 1\n",
    "\n",
    "day_of_year"
   ],
   "id": "fba7b55cf4a3c77",
   "outputs": [
    {
     "data": {
      "text/plain": [
       "182"
      ]
     },
     "execution_count": 20,
     "metadata": {},
     "output_type": "execute_result"
    }
   ],
   "execution_count": 20
  },
  {
   "metadata": {},
   "cell_type": "markdown",
   "source": [
    "12 - Time in Milliseconds\n",
    "\n",
    "Write a Python program to get the current time in milliseconds in Python."
   ],
   "id": "461a0c8019e3e452"
  },
  {
   "metadata": {
    "ExecuteTime": {
     "end_time": "2025-07-01T20:10:47.947287Z",
     "start_time": "2025-07-01T20:10:47.940849Z"
    }
   },
   "cell_type": "code",
   "source": [
    "current_time = datetime.datetime.now().time()\n",
    "\n",
    "# combining conversion to seconds and then milliseconds together\n",
    "hours_in_milliseconds = current_time.hour * 3600 * 1000\n",
    "minutes_in_milliseconds = current_time.minute * 60 * 1000\n",
    "seconds_in_milliseconds = current_time.second * 1000\n",
    "\n",
    "total_milliseconds = hours_in_milliseconds + minutes_in_milliseconds + seconds_in_milliseconds + current_time.microsecond\n",
    "\n",
    "total_milliseconds"
   ],
   "id": "fb31ad1b090589d8",
   "outputs": [
    {
     "data": {
      "text/plain": [
       "48387849"
      ]
     },
     "execution_count": 49,
     "metadata": {},
     "output_type": "execute_result"
    }
   ],
   "execution_count": 49
  },
  {
   "metadata": {},
   "cell_type": "markdown",
   "source": [
    "13 - Week Number Finder\n",
    "\n",
    "Write a Python program to get the week number.\n",
    "\n",
    "    Sample Date : 2015, 6, 16\n",
    "    Expected Output : 25"
   ],
   "id": "b2baf038a957d64"
  },
  {
   "metadata": {
    "ExecuteTime": {
     "end_time": "2025-07-01T20:40:51.141101Z",
     "start_time": "2025-07-01T20:40:51.126547Z"
    }
   },
   "cell_type": "code",
   "source": "datetime.datetime.now().isocalendar()[1]",
   "id": "8e81cf5ccbd701b2",
   "outputs": [
    {
     "data": {
      "text/plain": [
       "27"
      ]
     },
     "execution_count": 66,
     "metadata": {},
     "output_type": "execute_result"
    }
   ],
   "execution_count": 66
  },
  {
   "metadata": {},
   "cell_type": "markdown",
   "source": [
    "14 - First Monday Finder\n",
    "\n",
    "Write a Python program to find the date of the first Monday of a given week.\n",
    "\n",
    "    Sample Year and week : 2015, 50\n",
    "    Expected Output : Mon Dec 14 00:00:00 2015"
   ],
   "id": "25adb17b74b78650"
  },
  {
   "metadata": {
    "ExecuteTime": {
     "end_time": "2025-07-01T20:48:02.575678Z",
     "start_time": "2025-07-01T20:48:02.569283Z"
    }
   },
   "cell_type": "code",
   "source": [
    "# not sure what the intended input is, so just inputting the example as a string and formatting from there\n",
    "sample_string = '2015, 50'\n",
    "\n",
    "sample_string_formatted = sample_string.replace(',', '') + ' 1'\n",
    "\n",
    "print(datetime.datetime.strptime(sample_string_formatted, '%Y %W %w').date())"
   ],
   "id": "4b84f00139761460",
   "outputs": [
    {
     "name": "stdout",
     "output_type": "stream",
     "text": [
      "2015-12-14\n"
     ]
    }
   ],
   "execution_count": 84
  },
  {
   "metadata": {},
   "cell_type": "markdown",
   "source": [
    "15 - Sundays Selector\n",
    "\n",
    "Write a Python program to select all the Sundays in a specified year."
   ],
   "id": "f4b43a6c5780b0fd"
  },
  {
   "metadata": {
    "ExecuteTime": {
     "end_time": "2025-07-01T22:42:48.534291Z",
     "start_time": "2025-07-01T22:42:48.524626Z"
    }
   },
   "cell_type": "code",
   "source": [
    "def sundays(year):\n",
    "    sundays_list = []\n",
    "    \n",
    "    moving_date = datetime.date(year, 1, 1)\n",
    "    \n",
    "    moving_date += datetime.timedelta(days=6 - moving_date.weekday())\n",
    "    \n",
    "    while moving_date.year == year:\n",
    "        sundays_list.append(moving_date.strftime(\"%Y-%m-%d\"))\n",
    "        moving_date += datetime.timedelta(days=7)\n",
    "\n",
    "    return sundays_list\n",
    "\n",
    "sundays(2025)"
   ],
   "id": "6e9fe22f3bf53489",
   "outputs": [
    {
     "data": {
      "text/plain": [
       "['2025-01-05',\n",
       " '2025-01-12',\n",
       " '2025-01-19',\n",
       " '2025-01-26',\n",
       " '2025-02-02',\n",
       " '2025-02-09',\n",
       " '2025-02-16',\n",
       " '2025-02-23',\n",
       " '2025-03-02',\n",
       " '2025-03-09',\n",
       " '2025-03-16',\n",
       " '2025-03-23',\n",
       " '2025-03-30',\n",
       " '2025-04-06',\n",
       " '2025-04-13',\n",
       " '2025-04-20',\n",
       " '2025-04-27',\n",
       " '2025-05-04',\n",
       " '2025-05-11',\n",
       " '2025-05-18',\n",
       " '2025-05-25',\n",
       " '2025-06-01',\n",
       " '2025-06-08',\n",
       " '2025-06-15',\n",
       " '2025-06-22',\n",
       " '2025-06-29',\n",
       " '2025-07-06',\n",
       " '2025-07-13',\n",
       " '2025-07-20',\n",
       " '2025-07-27',\n",
       " '2025-08-03',\n",
       " '2025-08-10',\n",
       " '2025-08-17',\n",
       " '2025-08-24',\n",
       " '2025-08-31',\n",
       " '2025-09-07',\n",
       " '2025-09-14',\n",
       " '2025-09-21',\n",
       " '2025-09-28',\n",
       " '2025-10-05',\n",
       " '2025-10-12',\n",
       " '2025-10-19',\n",
       " '2025-10-26',\n",
       " '2025-11-02',\n",
       " '2025-11-09',\n",
       " '2025-11-16',\n",
       " '2025-11-23',\n",
       " '2025-11-30',\n",
       " '2025-12-07',\n",
       " '2025-12-14',\n",
       " '2025-12-21',\n",
       " '2025-12-28']"
      ]
     },
     "execution_count": 102,
     "metadata": {},
     "output_type": "execute_result"
    }
   ],
   "execution_count": 102
  },
  {
   "metadata": {},
   "cell_type": "markdown",
   "source": "16 - ",
   "id": "c952b269babcc81b"
  },
  {
   "metadata": {},
   "cell_type": "code",
   "source": "",
   "id": "269aa0fee7cc53a1",
   "outputs": [],
   "execution_count": null
  },
  {
   "metadata": {},
   "cell_type": "code",
   "outputs": [],
   "execution_count": null,
   "source": "",
   "id": "31a61a5cf10d72da"
  }
 ],
 "metadata": {
  "kernelspec": {
   "display_name": "Python 3",
   "language": "python",
   "name": "python3"
  },
  "language_info": {
   "codemirror_mode": {
    "name": "ipython",
    "version": 2
   },
   "file_extension": ".py",
   "mimetype": "text/x-python",
   "name": "python",
   "nbconvert_exporter": "python",
   "pygments_lexer": "ipython2",
   "version": "2.7.6"
  }
 },
 "nbformat": 4,
 "nbformat_minor": 5
}
