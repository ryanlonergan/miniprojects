{
 "cells": [
  {
   "metadata": {},
   "cell_type": "markdown",
   "source": [
    "Link to exercises:\n",
    "\n",
    "https://www.w3resource.com/python-exercises/date-time-exercise/\n",
    "\n",
    "Datetime docs:\n",
    "\n",
    "https://docs.python.org/3/library/datetime.html"
   ],
   "id": "d2dbfa43a507a8bf"
  },
  {
   "metadata": {
    "ExecuteTime": {
     "end_time": "2025-06-30T20:12:40.753179Z",
     "start_time": "2025-06-30T20:12:40.743320Z"
    }
   },
   "cell_type": "code",
   "source": [
    "# imports\n",
    "import datetime"
   ],
   "id": "e342cb2b7a0eca7f",
   "outputs": [],
   "execution_count": 20
  },
  {
   "metadata": {},
   "cell_type": "markdown",
   "source": [
    "1 - DateTime Formats Display\n",
    "\n",
    "Write a Python script to display the various Date Time formats -\n",
    "    \n",
    "    a) Current date and time\n",
    "    b) Current year\n",
    "    c) Month of year\n",
    "    d) Week number of the year\n",
    "    e) Weekday of the week\n",
    "    f) Day of year\n",
    "    g) Day of the month\n",
    "    h) Day of week"
   ],
   "id": "25d654c79c5b671"
  },
  {
   "metadata": {
    "ExecuteTime": {
     "end_time": "2025-06-05T23:14:03.880912Z",
     "start_time": "2025-06-05T23:14:03.870025Z"
    }
   },
   "cell_type": "code",
   "source": [
    "#a \n",
    "print(f'Current date and time: {datetime.datetime.now()}')\n",
    "\n",
    "#b\n",
    "print(f'Current year: {datetime.datetime.now().strftime('%Y')}')\n",
    "\n",
    "#c Month of year\n",
    "print(f'Month of year numerical: {datetime.datetime.now().strftime('%m')}')\n",
    "print(f'Month of year name: {datetime.datetime.now().strftime('%B')}')\n",
    "\n",
    "#d - ('%U') has Sunday as start, ('%W') has monday as start, ('%V') is ISO 8601 standard\n",
    "print(f'Week number of the year: {datetime.datetime.now().strftime('%U')}')\n",
    "\n",
    "#e\n",
    "print(f'Weekday of the week numerical: {datetime.datetime.now().strftime('%w')}')\n",
    "\n",
    "#f\n",
    "print(f'Day of year: {datetime.datetime.now().strftime('%j')}')\n",
    "\n",
    "#g Day of the month\n",
    "print(f'Day of the month: {datetime.datetime.now().strftime('%e')}')\n",
    "\n",
    "#h Day of week\n",
    "print(f'Day of week: {datetime.datetime.now().strftime('%A')}')\n"
   ],
   "id": "initial_id",
   "outputs": [
    {
     "name": "stdout",
     "output_type": "stream",
     "text": [
      "Current date and time: 2025-06-05 16:14:03.876367\n",
      "Current year: 2025\n",
      "Month of year numerical: 06\n",
      "Month of year name: June\n",
      "Week number of the year: 22\n",
      "Weekday of the week numerical: 4\n",
      "Day of year: 156\n",
      "Day of the month:  5\n",
      "Day of week: Thursday\n"
     ]
    }
   ],
   "execution_count": 51
  },
  {
   "metadata": {},
   "cell_type": "markdown",
   "source": [
    "2 - Leap Year Checker\n",
    "\n",
    "Write a Python program to determine whether a given year is a leap year."
   ],
   "id": "1585f9e2578d79e2"
  },
  {
   "metadata": {
    "ExecuteTime": {
     "end_time": "2025-06-06T21:30:34.882415Z",
     "start_time": "2025-06-06T21:30:34.872116Z"
    }
   },
   "cell_type": "code",
   "source": [
    "# This exercise was a bit odd as using datetime to check for leapyear wasn't even used in their solution. After reading comments, this approach was what I settled on.\n",
    "\n",
    "def leap_year_checker(year):\n",
    "    year_to_check = datetime.datetime(year, 12, 31)\n",
    "    days_in_year = year_to_check.strftime('%j')\n",
    "    \n",
    "    if days_in_year == '366':\n",
    "        print(f'{year} is a leap year')\n",
    "    else:\n",
    "        print(f'{year} is not a leap year')\n",
    "\n",
    "leap_year_checker(2024)\n",
    "leap_year_checker(2025)\n"
   ],
   "id": "8b90686a3e423628",
   "outputs": [
    {
     "name": "stdout",
     "output_type": "stream",
     "text": [
      "2024 is a leap year\n",
      "2025 is not a leap year\n"
     ]
    }
   ],
   "execution_count": 19
  },
  {
   "metadata": {},
   "cell_type": "markdown",
   "source": [
    "3 - String to Datetime Converter\n",
    "\n",
    "Write a Python program to convert a string to datetime.\n",
    "\n",
    "    Sample String : Jul 1 2014 2:43PM\n",
    "    Expected Output : 2014-07-01 14:43:00"
   ],
   "id": "c030c85a50f6d4a9"
  },
  {
   "metadata": {
    "ExecuteTime": {
     "end_time": "2025-06-06T21:35:24.990915Z",
     "start_time": "2025-06-06T21:35:24.982794Z"
    }
   },
   "cell_type": "code",
   "source": [
    "def date_string_converter(string):\n",
    "    return datetime.datetime.strptime(string, '%b %d %Y %H:%M%p')\n",
    "\n",
    "string_1 = 'Jul 1 2025 2:43PM'\n",
    "string_2 = 'Sep 20 2024 4:18AM'\n",
    "\n",
    "print(date_string_converter(string_1))\n",
    "print(date_string_converter(string_2))"
   ],
   "id": "ab48f6accda2cd17",
   "outputs": [
    {
     "name": "stdout",
     "output_type": "stream",
     "text": [
      "2025-07-01 02:43:00\n",
      "2024-09-20 04:18:00\n"
     ]
    }
   ],
   "execution_count": 25
  },
  {
   "metadata": {},
   "cell_type": "markdown",
   "source": [
    "4 - Current Time Fetcher\n",
    "\n",
    "Write a Python program to get the current time in Python.\n",
    "    \n",
    "    Sample Format :  13:19:49.078205"
   ],
   "id": "d834edd48086ae28"
  },
  {
   "metadata": {
    "ExecuteTime": {
     "end_time": "2025-06-06T21:37:09.819126Z",
     "start_time": "2025-06-06T21:37:09.813650Z"
    }
   },
   "cell_type": "code",
   "source": "print(datetime.datetime.now().time())",
   "id": "533c4d8602562b6d",
   "outputs": [
    {
     "name": "stdout",
     "output_type": "stream",
     "text": [
      "14:37:09.815923\n"
     ]
    }
   ],
   "execution_count": 28
  },
  {
   "metadata": {},
   "cell_type": "markdown",
   "source": [
    "5 - Subtract Five Days\n",
    "\n",
    "Write a Python program to subtract five days from the current date.\n",
    "\n",
    "    Current Date : 2025-06-06\n",
    "    5 days before Current Date : 2025-06-01"
   ],
   "id": "44fefeb42246e158"
  },
  {
   "metadata": {
    "ExecuteTime": {
     "end_time": "2025-06-06T21:41:17.106355Z",
     "start_time": "2025-06-06T21:41:17.100862Z"
    }
   },
   "cell_type": "code",
   "source": [
    "current_date = datetime.datetime.now()\n",
    "five_days_before = current_date - datetime.timedelta(days=5)\n",
    "print(five_days_before.date())"
   ],
   "id": "93c9f2cda286df2c",
   "outputs": [
    {
     "name": "stdout",
     "output_type": "stream",
     "text": [
      "2025-06-01\n"
     ]
    }
   ],
   "execution_count": 42
  },
  {
   "metadata": {},
   "cell_type": "markdown",
   "source": [
    "6 - Unix Timestamp Converter\n",
    "\n",
    "Write a Python program to convert a Unix timestamp string to a readable date.\n",
    "\n",
    "    Sample Unix timestamp string : 1284105682\n",
    "    Expected Output : 2010-09-10 13:31:22"
   ],
   "id": "27a7a390c767bb40"
  },
  {
   "metadata": {
    "ExecuteTime": {
     "end_time": "2025-06-30T20:03:43.836902Z",
     "start_time": "2025-06-30T20:03:43.829845Z"
    }
   },
   "cell_type": "code",
   "source": [
    "sample_string = '1284105682'\n",
    "datetime.datetime.fromtimestamp(int(sample_string)).strftime('%Y-%m-%d %H:%M:%S')"
   ],
   "id": "b58d707d8f849f1b",
   "outputs": [
    {
     "data": {
      "text/plain": [
       "'2010-09-10 01:01:22'"
      ]
     },
     "execution_count": 12,
     "metadata": {},
     "output_type": "execute_result"
    }
   ],
   "execution_count": 12
  },
  {
   "metadata": {},
   "cell_type": "markdown",
   "source": [
    "7 - Relative Dates Printer\n",
    "\n",
    "Write a Python program to print yesterday, today, tomorrow."
   ],
   "id": "6b4eb488463ad0a1"
  },
  {
   "metadata": {
    "ExecuteTime": {
     "end_time": "2025-06-30T20:07:09.215723Z",
     "start_time": "2025-06-30T20:07:09.209809Z"
    }
   },
   "cell_type": "code",
   "source": [
    "print(f'yesterday: {(datetime.datetime.now() + datetime.timedelta(days=-1)).date()}')\n",
    "print(f'today: {(datetime.datetime.now()).date()}')\n",
    "print(f'tomorrow: {(datetime.datetime.now() + datetime.timedelta(days=1)).date()}')"
   ],
   "id": "6469619788b3459e",
   "outputs": [
    {
     "name": "stdout",
     "output_type": "stream",
     "text": [
      "yesterday: 2025-06-29\n",
      "today: 2025-06-30\n",
      "tomorrow: 2025-07-01\n"
     ]
    }
   ],
   "execution_count": 19
  },
  {
   "metadata": {},
   "cell_type": "markdown",
   "source": [
    "8 - Date to Midnight Datetime\n",
    "\n",
    "Write a Python program to convert the date to datetime (midnight of the date) in Python.\n",
    "\n",
    "    Sample Output : 2015-06-22 00:00:00"
   ],
   "id": "1b2bbdd16c3a3852"
  },
  {
   "metadata": {},
   "cell_type": "code",
   "outputs": [],
   "execution_count": null,
   "source": "",
   "id": "9e9812eae510a766"
  },
  {
   "metadata": {},
   "cell_type": "markdown",
   "source": [
    "9 - Next 5 Days Printer\n",
    "\n",
    "Write a Python program to print the next 5 days starting today."
   ],
   "id": "8ba762422a3dcce1"
  },
  {
   "metadata": {},
   "cell_type": "code",
   "outputs": [],
   "execution_count": null,
   "source": "",
   "id": "69625f9f7305c1f3"
  },
  {
   "metadata": {},
   "cell_type": "markdown",
   "source": [
    "10 - Add 5 Seconds\n",
    "\n",
    "Write a Python program to add 5 seconds to the current time.\n",
    "\n",
    "Sample Data :\n",
    "    \n",
    "    13:28:32.953088\n",
    "    13:28:37.953088"
   ],
   "id": "e5cf076a095ef9dd"
  },
  {
   "metadata": {},
   "cell_type": "code",
   "outputs": [],
   "execution_count": null,
   "source": "",
   "id": "a909df381516ad2b"
  },
  {
   "metadata": {},
   "cell_type": "markdown",
   "source": "11 - ",
   "id": "701829eec8048d22"
  },
  {
   "metadata": {},
   "cell_type": "code",
   "outputs": [],
   "execution_count": null,
   "source": "",
   "id": "fba7b55cf4a3c77"
  }
 ],
 "metadata": {
  "kernelspec": {
   "display_name": "Python 3",
   "language": "python",
   "name": "python3"
  },
  "language_info": {
   "codemirror_mode": {
    "name": "ipython",
    "version": 2
   },
   "file_extension": ".py",
   "mimetype": "text/x-python",
   "name": "python",
   "nbconvert_exporter": "python",
   "pygments_lexer": "ipython2",
   "version": "2.7.6"
  }
 },
 "nbformat": 4,
 "nbformat_minor": 5
}
