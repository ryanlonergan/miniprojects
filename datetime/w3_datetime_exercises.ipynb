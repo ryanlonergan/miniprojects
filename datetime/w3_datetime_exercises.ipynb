{
 "cells": [
  {
   "metadata": {},
   "cell_type": "code",
   "outputs": [],
   "execution_count": null,
   "source": [
    "# imports\n",
    "import datetime"
   ],
   "id": "e342cb2b7a0eca7f"
  },
  {
   "metadata": {
    "ExecuteTime": {
     "end_time": "2025-06-05T22:34:06.162226Z",
     "start_time": "2025-06-05T22:34:06.155623Z"
    }
   },
   "cell_type": "code",
   "source": [
    "# Find the days remaining between two dates\n",
    "\n",
    "start_date = datetime.date.today()\n",
    "\n",
    "end_date = datetime.date(2025, 9, 20)\n",
    "\n",
    "days_until = end_date - start_date\n",
    "\n",
    "print(days_until.days)"
   ],
   "id": "initial_id",
   "outputs": [
    {
     "name": "stdout",
     "output_type": "stream",
     "text": [
      "107\n"
     ]
    }
   ],
   "execution_count": 7
  }
 ],
 "metadata": {
  "kernelspec": {
   "display_name": "Python 3",
   "language": "python",
   "name": "python3"
  },
  "language_info": {
   "codemirror_mode": {
    "name": "ipython",
    "version": 2
   },
   "file_extension": ".py",
   "mimetype": "text/x-python",
   "name": "python",
   "nbconvert_exporter": "python",
   "pygments_lexer": "ipython2",
   "version": "2.7.6"
  }
 },
 "nbformat": 4,
 "nbformat_minor": 5
}
