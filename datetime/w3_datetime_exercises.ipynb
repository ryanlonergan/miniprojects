{
 "cells": [
  {
   "metadata": {},
   "cell_type": "markdown",
   "source": [
    "Link to exercises:\n",
    "\n",
    "https://www.w3resource.com/python-exercises/date-time-exercise/"
   ],
   "id": "d2dbfa43a507a8bf"
  },
  {
   "metadata": {
    "ExecuteTime": {
     "end_time": "2025-06-06T21:21:09.726752Z",
     "start_time": "2025-06-06T21:21:09.719543Z"
    }
   },
   "cell_type": "code",
   "source": [
    "# imports\n",
    "import datetime"
   ],
   "id": "e342cb2b7a0eca7f",
   "outputs": [],
   "execution_count": 2
  },
  {
   "metadata": {},
   "cell_type": "markdown",
   "source": [
    "1 - DateTime Formats Display\n",
    "\n",
    "Write a Python script to display the various Date Time formats -\n",
    "    \n",
    "    a) Current date and time\n",
    "    b) Current year\n",
    "    c) Month of year\n",
    "    d) Week number of the year\n",
    "    e) Weekday of the week\n",
    "    f) Day of year\n",
    "    g) Day of the month\n",
    "    h) Day of week"
   ],
   "id": "25d654c79c5b671"
  },
  {
   "metadata": {
    "ExecuteTime": {
     "end_time": "2025-06-05T23:14:03.880912Z",
     "start_time": "2025-06-05T23:14:03.870025Z"
    }
   },
   "cell_type": "code",
   "source": [
    "#a \n",
    "print(f'Current date and time: {datetime.datetime.now()}')\n",
    "\n",
    "#b\n",
    "print(f'Current year: {datetime.datetime.now().strftime('%Y')}')\n",
    "\n",
    "#c Month of year\n",
    "print(f'Month of year numerical: {datetime.datetime.now().strftime('%m')}')\n",
    "print(f'Month of year name: {datetime.datetime.now().strftime('%B')}')\n",
    "\n",
    "#d - ('%U') has Sunday as start, ('%W') has monday as start, ('%V') is ISO 8601 standard\n",
    "print(f'Week number of the year: {datetime.datetime.now().strftime('%U')}')\n",
    "\n",
    "#e\n",
    "print(f'Weekday of the week numerical: {datetime.datetime.now().strftime('%w')}')\n",
    "\n",
    "#f\n",
    "print(f'Day of year: {datetime.datetime.now().strftime('%j')}')\n",
    "\n",
    "#g Day of the month\n",
    "print(f'Day of the month: {datetime.datetime.now().strftime('%e')}')\n",
    "\n",
    "#h Day of week\n",
    "print(f'Day of week: {datetime.datetime.now().strftime('%A')}')\n"
   ],
   "id": "initial_id",
   "outputs": [
    {
     "name": "stdout",
     "output_type": "stream",
     "text": [
      "Current date and time: 2025-06-05 16:14:03.876367\n",
      "Current year: 2025\n",
      "Month of year numerical: 06\n",
      "Month of year name: June\n",
      "Week number of the year: 22\n",
      "Weekday of the week numerical: 4\n",
      "Day of year: 156\n",
      "Day of the month:  5\n",
      "Day of week: Thursday\n"
     ]
    }
   ],
   "execution_count": 51
  },
  {
   "metadata": {},
   "cell_type": "markdown",
   "source": [
    "2 - Leap Year Checker\n",
    "\n",
    "Write a Python program to determine whether a given year is a leap year."
   ],
   "id": "1585f9e2578d79e2"
  },
  {
   "metadata": {
    "ExecuteTime": {
     "end_time": "2025-06-06T21:30:34.882415Z",
     "start_time": "2025-06-06T21:30:34.872116Z"
    }
   },
   "cell_type": "code",
   "source": [
    "# This exercise was a bit odd as using datetime to check for leapyear wasn't even used in their solution. After reading comments, this approach was what I settled on.\n",
    "\n",
    "def leap_year_checker(year):\n",
    "    year_to_check = datetime.datetime(year, 12, 31)\n",
    "    days_in_year = year_to_check.strftime('%j')\n",
    "    \n",
    "    if days_in_year == '366':\n",
    "        print(f'{year} is a leap year')\n",
    "    else:\n",
    "        print(f'{year} is not a leap year')\n",
    "\n",
    "leap_year_checker(2024)\n",
    "leap_year_checker(2025)\n"
   ],
   "id": "8b90686a3e423628",
   "outputs": [
    {
     "name": "stdout",
     "output_type": "stream",
     "text": [
      "2024 is a leap year\n",
      "2025 is not a leap year\n"
     ]
    }
   ],
   "execution_count": 19
  },
  {
   "metadata": {},
   "cell_type": "markdown",
   "source": [
    "3 - String to Datetime Converter\n",
    "\n",
    "Write a Python program to convert a string to datetime.\n",
    "\n",
    "    Sample String : Jul 1 2014 2:43PM\n",
    "    Expected Output : 2014-07-01 14:43:00"
   ],
   "id": "c030c85a50f6d4a9"
  },
  {
   "metadata": {
    "ExecuteTime": {
     "end_time": "2025-06-06T21:35:24.990915Z",
     "start_time": "2025-06-06T21:35:24.982794Z"
    }
   },
   "cell_type": "code",
   "source": [
    "def date_string_converter(string):\n",
    "    return datetime.datetime.strptime(string, '%b %d %Y %H:%M%p')\n",
    "\n",
    "string_1 = 'Jul 1 2025 2:43PM'\n",
    "string_2 = 'Sep 20 2024 4:18AM'\n",
    "\n",
    "print(date_string_converter(string_1))\n",
    "print(date_string_converter(string_2))"
   ],
   "id": "ab48f6accda2cd17",
   "outputs": [
    {
     "name": "stdout",
     "output_type": "stream",
     "text": [
      "2025-07-01 02:43:00\n",
      "2024-09-20 04:18:00\n"
     ]
    }
   ],
   "execution_count": 25
  },
  {
   "metadata": {},
   "cell_type": "markdown",
   "source": [
    "4 - Current Time Fetcher\n",
    "\n",
    "Write a Python program to get the current time in Python.\n",
    "    \n",
    "    Sample Format :  13:19:49.078205"
   ],
   "id": "d834edd48086ae28"
  },
  {
   "metadata": {
    "ExecuteTime": {
     "end_time": "2025-06-06T21:37:09.819126Z",
     "start_time": "2025-06-06T21:37:09.813650Z"
    }
   },
   "cell_type": "code",
   "source": "print(datetime.datetime.now().time())",
   "id": "533c4d8602562b6d",
   "outputs": [
    {
     "name": "stdout",
     "output_type": "stream",
     "text": [
      "14:37:09.815923\n"
     ]
    }
   ],
   "execution_count": 28
  },
  {
   "metadata": {},
   "cell_type": "markdown",
   "source": [
    "5 - Subtract Five Days\n",
    "\n",
    "Write a Python program to subtract five days from the current date.\n",
    "\n",
    "    Current Date : 2025-06-06\n",
    "    5 days before Current Date : 2025-06-01"
   ],
   "id": "44fefeb42246e158"
  },
  {
   "metadata": {
    "ExecuteTime": {
     "end_time": "2025-06-06T21:41:17.106355Z",
     "start_time": "2025-06-06T21:41:17.100862Z"
    }
   },
   "cell_type": "code",
   "source": [
    "current_date = datetime.datetime.now()\n",
    "five_days_before = current_date - datetime.timedelta(days=5)\n",
    "print(five_days_before.date())"
   ],
   "id": "93c9f2cda286df2c",
   "outputs": [
    {
     "name": "stdout",
     "output_type": "stream",
     "text": [
      "2025-06-01\n"
     ]
    }
   ],
   "execution_count": 42
  },
  {
   "metadata": {
    "ExecuteTime": {
     "end_time": "2025-06-06T21:39:52.403804Z",
     "start_time": "2025-06-06T21:39:52.387004Z"
    }
   },
   "cell_type": "code",
   "source": "",
   "id": "6b86d776372eb5b3",
   "outputs": [
    {
     "ename": "NameError",
     "evalue": "name 'current_date' is not defined",
     "output_type": "error",
     "traceback": [
      "\u001B[1;31m---------------------------------------------------------------------------\u001B[0m",
      "\u001B[1;31mNameError\u001B[0m                                 Traceback (most recent call last)",
      "Cell \u001B[1;32mIn[34], line 1\u001B[0m\n\u001B[1;32m----> 1\u001B[0m \u001B[43mcurrent_date\u001B[49m\n",
      "\u001B[1;31mNameError\u001B[0m: name 'current_date' is not defined"
     ]
    }
   ],
   "execution_count": 34
  },
  {
   "metadata": {},
   "cell_type": "code",
   "outputs": [],
   "execution_count": null,
   "source": "",
   "id": "b58d707d8f849f1b"
  }
 ],
 "metadata": {
  "kernelspec": {
   "display_name": "Python 3",
   "language": "python",
   "name": "python3"
  },
  "language_info": {
   "codemirror_mode": {
    "name": "ipython",
    "version": 2
   },
   "file_extension": ".py",
   "mimetype": "text/x-python",
   "name": "python",
   "nbconvert_exporter": "python",
   "pygments_lexer": "ipython2",
   "version": "2.7.6"
  }
 },
 "nbformat": 4,
 "nbformat_minor": 5
}
