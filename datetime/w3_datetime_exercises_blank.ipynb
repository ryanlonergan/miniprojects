{
 "cells": [
  {
   "metadata": {},
   "cell_type": "markdown",
   "source": [
    "Link to exercises:\n",
    "\n",
    "https://www.w3resource.com/python-exercises/date-time-exercise/\n",
    "\n",
    "Datetime docs:\n",
    "\n",
    "https://docs.python.org/3/library/datetime.html"
   ],
   "id": "d2dbfa43a507a8bf"
  },
  {
   "metadata": {
    "ExecuteTime": {
     "end_time": "2025-07-01T18:51:09.548681Z",
     "start_time": "2025-07-01T18:51:09.540783Z"
    }
   },
   "cell_type": "code",
   "source": [
    "# imports\n",
    "import datetime"
   ],
   "id": "e342cb2b7a0eca7f",
   "outputs": [],
   "execution_count": 1
  },
  {
   "metadata": {},
   "cell_type": "markdown",
   "source": [
    "1 - DateTime Formats Display\n",
    "\n",
    "Write a Python script to display the various Date Time formats -\n",
    "    \n",
    "    a) Current date and time\n",
    "    b) Current year\n",
    "    c) Month of year\n",
    "    d) Week number of the year\n",
    "    e) Weekday of the week\n",
    "    f) Day of year\n",
    "    g) Day of the month\n",
    "    h) Day of week"
   ],
   "id": "25d654c79c5b671"
  },
  {
   "metadata": {},
   "cell_type": "code",
   "outputs": [],
   "execution_count": null,
   "source": "",
   "id": "4f03ede4a481644c"
  },
  {
   "metadata": {},
   "cell_type": "markdown",
   "source": [
    "2 - Leap Year Checker\n",
    "\n",
    "Write a Python program to determine whether a given year is a leap year."
   ],
   "id": "1585f9e2578d79e2"
  },
  {
   "metadata": {},
   "cell_type": "code",
   "source": "",
   "id": "8b90686a3e423628",
   "outputs": [],
   "execution_count": null
  },
  {
   "metadata": {},
   "cell_type": "markdown",
   "source": [
    "3 - String to Datetime Converter\n",
    "\n",
    "Write a Python program to convert a string to datetime.\n",
    "\n",
    "    Sample String : Jul 1 2014 2:43PM\n",
    "    Expected Output : 2014-07-01 14:43:00"
   ],
   "id": "c030c85a50f6d4a9"
  },
  {
   "metadata": {},
   "cell_type": "code",
   "source": "",
   "id": "ab48f6accda2cd17",
   "outputs": [],
   "execution_count": null
  },
  {
   "metadata": {},
   "cell_type": "markdown",
   "source": [
    "4 - Current Time Fetcher\n",
    "\n",
    "Write a Python program to get the current time in Python.\n",
    "    \n",
    "    Sample Format :  13:19:49.078205"
   ],
   "id": "d834edd48086ae28"
  },
  {
   "metadata": {},
   "cell_type": "code",
   "source": "",
   "id": "533c4d8602562b6d",
   "outputs": [],
   "execution_count": null
  },
  {
   "metadata": {},
   "cell_type": "markdown",
   "source": [
    "5 - Subtract Five Days\n",
    "\n",
    "Write a Python program to subtract five days from the current date.\n",
    "\n",
    "    Current Date : 2025-06-06\n",
    "    5 days before Current Date : 2025-06-01"
   ],
   "id": "44fefeb42246e158"
  },
  {
   "metadata": {},
   "cell_type": "code",
   "source": "",
   "id": "93c9f2cda286df2c",
   "outputs": [],
   "execution_count": null
  },
  {
   "metadata": {},
   "cell_type": "markdown",
   "source": [
    "6 - Unix Timestamp Converter\n",
    "\n",
    "Write a Python program to convert a Unix timestamp string to a readable date.\n",
    "\n",
    "    Sample Unix timestamp string : 1284105682\n",
    "    Expected Output : 2010-09-10 13:31:22"
   ],
   "id": "27a7a390c767bb40"
  },
  {
   "metadata": {},
   "cell_type": "code",
   "source": "",
   "id": "b58d707d8f849f1b",
   "outputs": [],
   "execution_count": null
  },
  {
   "metadata": {},
   "cell_type": "markdown",
   "source": [
    "7 - Relative Dates Printer\n",
    "\n",
    "Write a Python program to print yesterday, today, tomorrow."
   ],
   "id": "6b4eb488463ad0a1"
  },
  {
   "metadata": {},
   "cell_type": "code",
   "source": "",
   "id": "6469619788b3459e",
   "outputs": [],
   "execution_count": null
  },
  {
   "metadata": {},
   "cell_type": "markdown",
   "source": [
    "8 - Date to Midnight Datetime\n",
    "\n",
    "Write a Python program to convert the date to datetime (midnight of the date) in Python.\n",
    "\n",
    "    Sample Output : 2015-06-22 00:00:00"
   ],
   "id": "1b2bbdd16c3a3852"
  },
  {
   "metadata": {},
   "cell_type": "code",
   "source": "",
   "id": "9e9812eae510a766",
   "outputs": [],
   "execution_count": null
  },
  {
   "metadata": {},
   "cell_type": "markdown",
   "source": [
    "9 - Next 5 Days Printer\n",
    "\n",
    "Write a Python program to print the next 5 days starting today."
   ],
   "id": "8ba762422a3dcce1"
  },
  {
   "metadata": {},
   "cell_type": "code",
   "source": "",
   "id": "69625f9f7305c1f3",
   "outputs": [],
   "execution_count": null
  },
  {
   "metadata": {},
   "cell_type": "markdown",
   "source": [
    "10 - Add 5 Seconds\n",
    "\n",
    "Write a Python program to add 5 seconds to the current time.\n",
    "\n",
    "Sample Data :\n",
    "    \n",
    "    13:28:32.953088\n",
    "    13:28:37.953088"
   ],
   "id": "e5cf076a095ef9dd"
  },
  {
   "metadata": {},
   "cell_type": "code",
   "source": "",
   "id": "a909df381516ad2b",
   "outputs": [],
   "execution_count": null
  },
  {
   "metadata": {},
   "cell_type": "markdown",
   "source": [
    "11 - Day of Year Converter\n",
    "\n",
    "Write a Python program to convert Year/Month/Day to Day of Year in Python."
   ],
   "id": "701829eec8048d22"
  },
  {
   "metadata": {},
   "cell_type": "code",
   "source": "",
   "id": "fba7b55cf4a3c77",
   "outputs": [],
   "execution_count": null
  },
  {
   "metadata": {},
   "cell_type": "markdown",
   "source": [
    "12 - Time in Milliseconds\n",
    "\n",
    "Write a Python program to get the current time in milliseconds in Python."
   ],
   "id": "461a0c8019e3e452"
  },
  {
   "metadata": {},
   "cell_type": "code",
   "source": "",
   "id": "fb31ad1b090589d8",
   "outputs": [],
   "execution_count": null
  },
  {
   "metadata": {},
   "cell_type": "markdown",
   "source": [
    "13 - Week Number Finder\n",
    "\n",
    "Write a Python program to get the week number.\n",
    "\n",
    "    Sample Date : 2015, 6, 16\n",
    "    Expected Output : 25"
   ],
   "id": "b2baf038a957d64"
  },
  {
   "metadata": {},
   "cell_type": "code",
   "source": "",
   "id": "8e81cf5ccbd701b2",
   "outputs": [],
   "execution_count": null
  },
  {
   "metadata": {},
   "cell_type": "markdown",
   "source": [
    "14 - First Monday Finder\n",
    "\n",
    "Write a Python program to find the date of the first Monday of a given week.\n",
    "\n",
    "    Sample Year and week : 2015, 50\n",
    "    Expected Output : Mon Dec 14 00:00:00 2015"
   ],
   "id": "25adb17b74b78650"
  },
  {
   "metadata": {},
   "cell_type": "code",
   "source": "",
   "id": "4b84f00139761460",
   "outputs": [],
   "execution_count": null
  },
  {
   "metadata": {},
   "cell_type": "markdown",
   "source": [
    "15 - Sundays Selector\n",
    "\n",
    "Write a Python program to select all the Sundays in a specified year."
   ],
   "id": "f4b43a6c5780b0fd"
  },
  {
   "metadata": {},
   "cell_type": "code",
   "source": "",
   "id": "6e9fe22f3bf53489",
   "outputs": [],
   "execution_count": null
  },
  {
   "metadata": {},
   "cell_type": "markdown",
   "source": [
    "16 - Add Years to Date\n",
    "\n",
    "Write a Python program to add year(s) to a given date and display the updated date.\n",
    "\n",
    "    Sample Data : (addYears is the user defined function name)\n",
    "    print(addYears(datetime.date(2015,1,1), -1))\n",
    "    print(addYears(datetime.date(2015,1,1), 0))\n",
    "    print(addYears(datetime.date(2015,1,1), 2))\n",
    "    print(addYears(datetime.date(2000,2,29),1))\n",
    "    \n",
    "    Expected Output :\n",
    "    2014-01-01\n",
    "    2015-01-01\n",
    "    2017-01-01\n",
    "    2001-03-01"
   ],
   "id": "c952b269babcc81b"
  },
  {
   "metadata": {},
   "cell_type": "code",
   "source": "",
   "id": "269aa0fee7cc53a1",
   "outputs": [],
   "execution_count": null
  },
  {
   "metadata": {},
   "cell_type": "markdown",
   "source": [
    "17 - Drop Microseconds\n",
    "\n",
    "Write a Python program to drop microseconds from datetime."
   ],
   "id": "53e579447d95cecd"
  },
  {
   "metadata": {},
   "cell_type": "code",
   "outputs": [],
   "execution_count": null,
   "source": "\n",
   "id": "31a61a5cf10d72da"
  },
  {
   "metadata": {},
   "cell_type": "markdown",
   "source": [
    "18 - Days Between Dates\n",
    "\n",
    "Write a Python program to get days between two dates.\n",
    "\n",
    "    Sample Dates : 2000,2,28, 2001,2,28\n",
    "    Expected Output : 366 days, 0:00:00"
   ],
   "id": "90e1abebed343454"
  },
  {
   "metadata": {},
   "cell_type": "code",
   "outputs": [],
   "execution_count": null,
   "source": "",
   "id": "ebbeeed098689976"
  },
  {
   "metadata": {},
   "cell_type": "markdown",
   "source": [
    "19 - Last Tuesday Finder\n",
    "\n",
    "Write a Python program to get the date of the last Tuesday."
   ],
   "id": "b14027e7ae930ae5"
  },
  {
   "metadata": {},
   "cell_type": "code",
   "outputs": [],
   "execution_count": null,
   "source": "",
   "id": "cf7145f27b0bdcaa"
  },
  {
   "metadata": {},
   "cell_type": "markdown",
   "source": [
    "20 - Third Tuesday Tester\n",
    "\n",
    "Write a Python program to test the third Tuesday of a month."
   ],
   "id": "6bf7a7ca80ff427b"
  },
  {
   "metadata": {},
   "cell_type": "code",
   "outputs": [],
   "execution_count": null,
   "source": "",
   "id": "8a231e2a078e863e"
  },
  {
   "metadata": {},
   "cell_type": "markdown",
   "source": [
    "21 - Last Day Finder\n",
    "\n",
    "Write a Python program to get the last day of a specified year and month."
   ],
   "id": "e748f054f5815a29"
  },
  {
   "metadata": {},
   "cell_type": "code",
   "outputs": [],
   "execution_count": null,
   "source": "",
   "id": "6ff6bc8999270a40"
  },
  {
   "metadata": {},
   "cell_type": "markdown",
   "source": [
    "22 - Days in Month\n",
    "\n",
    "Write a Python program to get the number of days in a given month and year."
   ],
   "id": "de2ca24634fea6ee"
  },
  {
   "metadata": {},
   "cell_type": "code",
   "outputs": [],
   "execution_count": null,
   "source": "",
   "id": "7d4bf1c7a111b8e8"
  },
  {
   "metadata": {},
   "cell_type": "markdown",
   "source": [
    "23 - Add Month to Date\n",
    "\n",
    "Write a Python program to add a month to a specified date."
   ],
   "id": "5726efb296c92a9d"
  },
  {
   "metadata": {},
   "cell_type": "code",
   "outputs": [],
   "execution_count": null,
   "source": "",
   "id": "d764ea8084eb6d55"
  },
  {
   "metadata": {},
   "cell_type": "markdown",
   "source": [
    "24 - Count First Mondays\n",
    "\n",
    "Write a Python program to count the number of Mondays on the 1st day of the month from 2015 to 2016."
   ],
   "id": "627bc09f65a0179"
  },
  {
   "metadata": {},
   "cell_type": "code",
   "outputs": [],
   "execution_count": null,
   "source": "",
   "id": "952a6785134e5b43"
  },
  {
   "metadata": {},
   "cell_type": "markdown",
   "source": [
    "25 - Delayed String Printer\n",
    "\n",
    "Write a Python program to print a string five times, with a delay of three seconds."
   ],
   "id": "a543353f212d140f"
  },
  {
   "metadata": {},
   "cell_type": "code",
   "outputs": [],
   "execution_count": null,
   "source": "",
   "id": "61851d358f6decb8"
  },
  {
   "metadata": {},
   "cell_type": "markdown",
   "source": [
    "26 - Six Months Later\n",
    "\n",
    "Write a Python program that calculates the date six months from the current date using the datetime module."
   ],
   "id": "9848c5d8a7645ccd"
  },
  {
   "metadata": {},
   "cell_type": "code",
   "outputs": [],
   "execution_count": null,
   "source": "",
   "id": "c9153f7675bed657"
  },
  {
   "metadata": {},
   "cell_type": "markdown",
   "source": [
    "27 - Fixed Dates Generator\n",
    "\n",
    "Write a Python program to create 12 fixed dates from a specified date over a given period. The difference between two dates is 20."
   ],
   "id": "b2d6f4a213388ce6"
  },
  {
   "metadata": {},
   "cell_type": "code",
   "outputs": [],
   "execution_count": null,
   "source": "",
   "id": "70ff3049c10fc682"
  },
  {
   "metadata": {},
   "cell_type": "markdown",
   "source": [
    "28 - 30 Days Before/After\n",
    "\n",
    "Write a Python program to get the dates 30 days before and after today."
   ],
   "id": "987976f3e2c90166"
  },
  {
   "metadata": {},
   "cell_type": "code",
   "outputs": [],
   "execution_count": null,
   "source": "",
   "id": "23d77f9c64942452"
  },
  {
   "metadata": {},
   "cell_type": "markdown",
   "source": [
    "29 - GMT and Local Time\n",
    "\n",
    "Write a Python program to get GMT and the local time."
   ],
   "id": "bba42605af53ca6c"
  },
  {
   "metadata": {},
   "cell_type": "code",
   "outputs": [],
   "execution_count": null,
   "source": "",
   "id": "404faf16c6a923bd"
  },
  {
   "metadata": {},
   "cell_type": "markdown",
   "source": [
    "30 - Date to Timestamp\n",
    "\n",
    "Write a Python program to convert a date to a timestamp."
   ],
   "id": "8ce6f48d2906701"
  },
  {
   "metadata": {},
   "cell_type": "code",
   "outputs": [],
   "execution_count": null,
   "source": "",
   "id": "1ccdb70cade711d8"
  },
  {
   "metadata": {},
   "cell_type": "markdown",
   "source": [
    "31 - String Date to Timestamp\n",
    "\n",
    "Write a Python program to convert a string date to a timestamp."
   ],
   "id": "798643987e042d12"
  },
  {
   "metadata": {},
   "cell_type": "code",
   "outputs": [],
   "execution_count": null,
   "source": "",
   "id": "f1118d8f3373fa49"
  },
  {
   "metadata": {},
   "cell_type": "markdown",
   "source": [
    "32 - Days Between Two Dates\n",
    "\n",
    "Write a Python program to calculate the number of days between two dates."
   ],
   "id": "ed4238aa174b52f1"
  },
  {
   "metadata": {},
   "cell_type": "code",
   "outputs": [],
   "execution_count": null,
   "source": "",
   "id": "fa1ee67f45714f55"
  },
  {
   "metadata": {},
   "cell_type": "markdown",
   "source": [
    "33 - Days Between DateTimes\n",
    "\n",
    "Write a Python program to calculate the number of days between two date times."
   ],
   "id": "bf40a74fc445c710"
  },
  {
   "metadata": {},
   "cell_type": "code",
   "outputs": [],
   "execution_count": null,
   "source": "",
   "id": "eebd218ea95b951a"
  },
  {
   "metadata": {},
   "cell_type": "markdown",
   "source": [
    "34 - Human Friendly DateTime\n",
    "\n",
    "Write a Python program to display the date and time in a human-friendly string."
   ],
   "id": "5c086498614a1fb5"
  },
  {
   "metadata": {},
   "cell_type": "code",
   "outputs": [],
   "execution_count": null,
   "source": "",
   "id": "16193e6ae1638925"
  },
  {
   "metadata": {},
   "cell_type": "markdown",
   "source": [
    "35 - Date to Unix Timestamp\n",
    "\n",
    "Write a Python program to convert a date to a Unix timestamp."
   ],
   "id": "c980f846972ffc1"
  },
  {
   "metadata": {},
   "cell_type": "code",
   "outputs": [],
   "execution_count": null,
   "source": "",
   "id": "8e63104d9a74ea40"
  },
  {
   "metadata": {},
   "cell_type": "markdown",
   "source": [
    "36 - Difference in Seconds\n",
    "\n",
    "Write a Python program to calculate the difference between two dates in seconds."
   ],
   "id": "b055ae81dbf046eb"
  },
  {
   "metadata": {},
   "cell_type": "code",
   "outputs": [],
   "execution_count": null,
   "source": "",
   "id": "7a725cc6593cde4e"
  },
  {
   "metadata": {},
   "cell_type": "markdown",
   "source": [
    "37 - Date Difference Breakdown\n",
    "\n",
    "Write a Python program to convert difference of two dates into days, hours, minutes, and seconds."
   ],
   "id": "6f1ed15439e213b2"
  },
  {
   "metadata": {},
   "cell_type": "code",
   "outputs": [],
   "execution_count": null,
   "source": "",
   "id": "8fdab8d633002dd1"
  },
  {
   "metadata": {},
   "cell_type": "markdown",
   "source": [
    "38 - File Last Modified Info\n",
    "\n",
    "Write a Python program to get the last modified information of a file."
   ],
   "id": "cd4117c7a7e32312"
  },
  {
   "metadata": {},
   "cell_type": "code",
   "outputs": [],
   "execution_count": null,
   "source": "",
   "id": "dccadf667068d175"
  },
  {
   "metadata": {},
   "cell_type": "markdown",
   "source": [
    "39 - Age Calculator\n",
    "\n",
    "Write a Python program to calculate an age in years."
   ],
   "id": "f5fa0fa7433f3e68"
  },
  {
   "metadata": {},
   "cell_type": "code",
   "outputs": [],
   "execution_count": null,
   "source": "",
   "id": "badc12c1c347de1b"
  },
  {
   "metadata": {},
   "cell_type": "markdown",
   "source": [
    "40 - Current DateTime Info\n",
    "\n",
    "Write a Python program to get the current date and time information."
   ],
   "id": "c427c917faa8ff9"
  },
  {
   "metadata": {},
   "cell_type": "code",
   "outputs": [],
   "execution_count": null,
   "source": "",
   "id": "70614317a5d03df8"
  },
  {
   "metadata": {},
   "cell_type": "markdown",
   "source": [
    "41 - DateTime String Generator\n",
    "\n",
    "Write a Python program to generate a date and time as a string."
   ],
   "id": "69a54f41fe586e98"
  },
  {
   "metadata": {},
   "cell_type": "code",
   "outputs": [],
   "execution_count": null,
   "source": "",
   "id": "61d4c4196bf50659"
  },
  {
   "metadata": {},
   "cell_type": "markdown",
   "source": [
    "42 - Formatted Month Calendar\n",
    "\n",
    "Write a Python program to display formatted text output of a month and start the week on Sunday."
   ],
   "id": "ba4b9b1178cfde22"
  },
  {
   "metadata": {},
   "cell_type": "code",
   "outputs": [],
   "execution_count": null,
   "source": "",
   "id": "73387074161790c0"
  },
  {
   "metadata": {},
   "cell_type": "markdown",
   "source": [
    "43 - 3-Column Year Calendar\n",
    "\n",
    "Write a Python program to print a 3-column calendar for an entire year."
   ],
   "id": "a5c9bd826debc731"
  },
  {
   "metadata": {},
   "cell_type": "code",
   "outputs": [],
   "execution_count": null,
   "source": "",
   "id": "70ace41963113087"
  },
  {
   "metadata": {},
   "cell_type": "markdown",
   "source": [
    "44 - Locale Calendar Display\n",
    "\n",
    "Write a Python program to display a calendar for a locale."
   ],
   "id": "e94d56f8cc467495"
  },
  {
   "metadata": {},
   "cell_type": "code",
   "outputs": [],
   "execution_count": null,
   "source": "",
   "id": "12ddca9d8ff65d5e"
  },
  {
   "metadata": {},
   "cell_type": "markdown",
   "source": [
    "45 - Current Week Finder\n",
    "\n",
    "Write a Python program to get the current week."
   ],
   "id": "8bbe030045dc6f91"
  },
  {
   "metadata": {},
   "cell_type": "code",
   "outputs": [],
   "execution_count": null,
   "source": "",
   "id": "4cd32e7ad7d4871b"
  },
  {
   "metadata": {},
   "cell_type": "markdown",
   "source": [
    "46 - Calendar Creator\n",
    "\n",
    "Write a Python program to create a HTML calendar with data for a specific year and month."
   ],
   "id": "19bb75f8919197b1"
  },
  {
   "metadata": {},
   "cell_type": "code",
   "outputs": [],
   "execution_count": null,
   "source": "",
   "id": "46d242a053ca9794"
  },
  {
   "metadata": {},
   "cell_type": "markdown",
   "source": [
    "47 - 2nd Saturday Dates\n",
    "\n",
    "Write a Python program display a list of the dates for the 2nd Saturday of every month for a given year."
   ],
   "id": "700c0104aad75f28"
  },
  {
   "metadata": {},
   "cell_type": "code",
   "outputs": [],
   "execution_count": null,
   "source": "",
   "id": "94a00c3a5ea80b2e"
  },
  {
   "metadata": {},
   "cell_type": "markdown",
   "source": [
    "48 - Simple Formatted Calendar\n",
    "\n",
    "Write a Python program to display a simple, formatted calendar of a given year and month."
   ],
   "id": "a1604b5ed6b6760d"
  },
  {
   "metadata": {},
   "cell_type": "code",
   "outputs": [],
   "execution_count": null,
   "source": "",
   "id": "807f0d94ac0320bf"
  },
  {
   "metadata": {},
   "cell_type": "markdown",
   "source": [
    "49 - String to Datetime Conversion\n",
    "\n",
    "Write a Python program to convert a string into datetime"
   ],
   "id": "3950f0cadc8ef041"
  },
  {
   "metadata": {},
   "cell_type": "code",
   "outputs": [],
   "execution_count": null,
   "source": "",
   "id": "e0fbf9b7cbb0f9d7"
  },
  {
   "metadata": {},
   "cell_type": "markdown",
   "source": [
    "50 - Dates Between Two Dates\n",
    "\n",
    "Write a Python program to get a list of dates between two dates."
   ],
   "id": "75c2965f9baf638"
  },
  {
   "metadata": {},
   "cell_type": "code",
   "outputs": [],
   "execution_count": null,
   "source": "",
   "id": "e367e80a7ef3bfcb"
  },
  {
   "metadata": {},
   "cell_type": "markdown",
   "source": [
    "51 - RFC 3339 Timestamp Generator\n",
    "\n",
    "Write a Python program to generate RFC 3339 timestamp."
   ],
   "id": "abe41ac66cccead3"
  },
  {
   "metadata": {},
   "cell_type": "code",
   "outputs": [],
   "execution_count": null,
   "source": "",
   "id": "c22d7f5c33b2196b"
  },
  {
   "metadata": {},
   "cell_type": "markdown",
   "source": [
    "52 - First and Last Second\n",
    "\n",
    "Write a Python program to get the first and last second."
   ],
   "id": "29ae9cd92042b6a5"
  },
  {
   "metadata": {},
   "cell_type": "code",
   "outputs": [],
   "execution_count": null,
   "source": "",
   "id": "89e1d1f94524ecaf"
  },
  {
   "metadata": {},
   "cell_type": "markdown",
   "source": [
    "53 - Gregorian Date Validator\n",
    "\n",
    "Write a Python program to validate a Gregorian date. The month is between 1 and 12 inclusive, the day is within the allowed number of days for the given month. Leap year's are taken into consideration. The year is between 1 and 32767 inclusive."
   ],
   "id": "f73d566e096cfc0a"
  },
  {
   "metadata": {},
   "cell_type": "code",
   "outputs": [],
   "execution_count": null,
   "source": "",
   "id": "f2155643cf9e906d"
  },
  {
   "metadata": {},
   "cell_type": "markdown",
   "source": [
    "54 - Set Default Timezone\n",
    "\n",
    "Write a Python program to set the default timezone used by all date/time functions."
   ],
   "id": "61bfecb87e37ce7e"
  },
  {
   "metadata": {},
   "cell_type": "code",
   "outputs": [],
   "execution_count": null,
   "source": "",
   "id": "586e362c8bb4ccd6"
  },
  {
   "metadata": {},
   "cell_type": "markdown",
   "source": [
    "55 - Epoch Info and Conversion\n",
    "\n",
    "The epoch is the point where time starts, and is platform dependent. For Unix, the epoch is January 1, 1970, 00:00:00 (UTC). Write a Python program to find out what the epoch is on a given platform. Convert a given time in seconds since the epoch.\n",
    "\n",
    "    Sample Output:\n",
    "    Epoch on a given platform:\n",
    "    time.struct_time(tm_year=1970, tm_mon=1, tm_mday=1, tm_hour=0, tm_min=0, tm_sec=0, tm_wday=3, tm_yday=1, tm_isdst=0)\n",
    "    Time in seconds since the epoch:\n",
    "    time.struct_time(tm_year=1970, tm_mon=1, tm_mday=1, tm_hour=10, tm_min=0, tm_sec=0, tm_wday=3, tm_yday=1, tm_isdst=0)"
   ],
   "id": "e90887d1ac241b66"
  },
  {
   "metadata": {},
   "cell_type": "code",
   "outputs": [],
   "execution_count": null,
   "source": "",
   "id": "c3d29eb1647f6c78"
  },
  {
   "metadata": {},
   "cell_type": "markdown",
   "source": [
    "56 - Time Components Fetcher\n",
    "\n",
    "Write a Python program to get time values with components using local time and gmtime.\n",
    "\n",
    "    Sample Output:\n",
    "    localtime:\n",
    "    tm_year : 2021\n",
    "    tm_mon : 4\n",
    "    tm_mday : 13\n",
    "    tm_hour : 11\n",
    "    tm_min : 20\n",
    "    tm_sec : 37\n",
    "    tm_wday : 1\n",
    "    tm_yday : 103\n",
    "    tm_isdst: 0\n",
    "    gmtime:\n",
    "    tm_year : 2021\n",
    "    tm_mon : 4\n",
    "    tm_mday : 13\n",
    "    tm_hour : 11\n",
    "    tm_min : 20\n",
    "    tm_sec : 37\n",
    "    tm_wday : 1\n",
    "    tm_yday : 103\n",
    "    tm_isdst: 0"
   ],
   "id": "9d2e395fc22ab02d"
  },
  {
   "metadata": {},
   "cell_type": "code",
   "outputs": [],
   "execution_count": null,
   "source": "",
   "id": "91802ef40456bfbc"
  },
  {
   "metadata": {},
   "cell_type": "markdown",
   "source": [
    "57 - Timezone Components Fetcher\n",
    "\n",
    "Write a Python program to get different time values with components timezone, timezone abbreviations, the offset of the local (non-DST) timezone, DST timezone and time of different timezones.\n",
    "\n",
    "    Sample Output:\n",
    "    Default Zone:\n",
    "    TZ : (not set)\n",
    "    Timezone abbreviations: ('UTC', 'UTC')\n",
    "    Timezone : 0 (0.0)\n",
    "    DST timezone 0\n",
    "    Time : 11:30:05 04/13/21 UTC\n",
    "    Pacific/Auckland :\n",
    "    TZ : Pacific/Auckland\n",
    "    Timezone abbreviations: ('NZST', 'NZDT')\n",
    "    Timezone : -43200 (-12.0)\n",
    "    DST timezone 1\n",
    "    Time : 23:30:05 04/13/21 NZST\n",
    "    Europe/Berlin :\n",
    "    TZ : Europe/Berlin\n",
    "    Timezone abbreviations: ('CET', 'CEST')\n",
    "    Timezone : -3600 (-1.0)\n",
    "    DST timezone 1\n",
    "    Time : 13:30:05 04/13/21 CEST\n",
    "    America/Detroit :\n",
    "    TZ : America/Detroit\n",
    "    Timezone abbreviations: ('EST', 'EDT')\n",
    "    Timezone : 18000 (5.0)\n",
    "    DST timezone 1\n",
    "    Time : 07:30:05 04/13/21 EDT\n",
    "    Singapore :\n",
    "    TZ : Singapore\n",
    "    Timezone abbreviations: ('+08', '+08')\n",
    "    Timezone : -28800 (-8.0)\n",
    "    DST timezone 0\n",
    "    Time : 19:30:05 04/13/21 +08"
   ],
   "id": "24360d43aa933422"
  },
  {
   "metadata": {},
   "cell_type": "code",
   "outputs": [],
   "execution_count": null,
   "source": "",
   "id": "465522155a269bf"
  },
  {
   "metadata": {},
   "cell_type": "markdown",
   "source": [
    "58 - Script Suspension\n",
    "\n",
    "Write a Python program that can suspend execution of a given script for a given number of seconds.\n",
    "\n",
    "    Sample Output:\n",
    "    Sorry, Slept for 3 seconds...\n",
    "    Sorry, Slept for 3 seconds...\n",
    "    Sorry, Slept for 3 seconds...\n",
    "    Sorry, Slept for 3 seconds..."
   ],
   "id": "2c58c3f81635e5de"
  },
  {
   "metadata": {},
   "cell_type": "code",
   "outputs": [],
   "execution_count": null,
   "source": "",
   "id": "5b7db12f2d850aeb"
  },
  {
   "metadata": {},
   "cell_type": "markdown",
   "source": [
    "59 - Epoch Seconds to Local Time\n",
    "\n",
    "Write a Python program to convert a given time in seconds since the epoch to a string representing local time.\n",
    "\n",
    "    Sample Output:\n",
    "    Tue Apr 13 11:51:51 2021\n",
    "    Thu Jun 30 18:36:29 1977"
   ],
   "id": "3e177c020abfc191"
  },
  {
   "metadata": {},
   "cell_type": "code",
   "outputs": [],
   "execution_count": null,
   "source": "",
   "id": "d425a5facf95c84"
  },
  {
   "metadata": {},
   "cell_type": "markdown",
   "source": [
    "60 - Simple Time Format Printer\n",
    "\n",
    "Write a Python program that prints the time, names, representation format, and the preferred date time format in a simple format.\n",
    "\n",
    "    Sample Output:\n",
    "    Simple format of time:\n",
    "    Tue, 13 Apr 2021 12:02:01 + 1010\n",
    "    Full names and the representation:\n",
    "    Tuesday, 04/13/21 April 2021 12:02:01 + 0000\n",
    "    Preferred date time format:\n",
    "    Tue Apr 13 12:02:01 2021\n",
    "    Example 11: 04/13/21, 12:02:01, 21, 2021"
   ],
   "id": "81b4124a1c3b78ea"
  },
  {
   "metadata": {},
   "cell_type": "code",
   "outputs": [],
   "execution_count": null,
   "source": "",
   "id": "8b58c8dc8e5ee659"
  },
  {
   "metadata": {},
   "cell_type": "markdown",
   "source": [
    "61 - Local Time from Seconds\n",
    "\n",
    "Write a Python program that takes a given number of seconds and passes since the epoch as an argument. Print structure time in local time.\n",
    "\n",
    "    Sample Output:\n",
    "    Result: time.struct_time(tm_year=1983, tm_mon=2, tm_mday=19, tm_hour=21, tm_min=38, tm_sec=18, tm_wday=5, tm_yday=50, tm_isdst=0)\n",
    "    Year: 1983"
   ],
   "id": "ac503f01787c5935"
  },
  {
   "metadata": {},
   "cell_type": "code",
   "outputs": [],
   "execution_count": null,
   "source": "",
   "id": "9d62337e54a03c90"
  },
  {
   "metadata": {},
   "cell_type": "markdown",
   "source": [
    "62 - Time Tuple to String\n",
    "\n",
    "Write a Python program that takes a tuple containing 9 elements corresponding to structure time as an argument and returns a string representing it.\n",
    "\n",
    "    Sample Output:\n",
    "    Result: Sun Jan 22 02:34:06 2020\n",
    "    Result: Tue Nov 12 02:54:08 1982"
   ],
   "id": "116ecec5f39f3a5d"
  },
  {
   "metadata": {},
   "cell_type": "code",
   "outputs": [],
   "execution_count": null,
   "source": "",
   "id": "365504a9b1da30cb"
  },
  {
   "metadata": {},
   "cell_type": "markdown",
   "source": [
    "63 - Parse Time String\n",
    "\n",
    "Write a Python program to parse a string representing time and return the time structure.\n",
    "\n",
    "    Sample Output:\n",
    "    String representing time: 22 January, 2020\n",
    "    time.struct_time(tm_year=2020, tm_mon=1, tm_mday=22, tm_hour=0, tm_min=0, tm_sec=0, tm_wday=2, tm_yday=22, tm_isdst=-1)\n",
    "    String representing time: 30 Nov 00\n",
    "    time.struct_time(tm_year=2000, tm_mon=11, tm_mday=30, tm_hour=0, tm_min=0, tm_sec=0, tm_wday=3, tm_yday=335, tm_isdst=-1)\n",
    "    String representing time: 04/11/15 11:55:23\n",
    "    time.struct_time(tm_year=2015, tm_mon=4, tm_mday=11, tm_hour=11, tm_min=55, tm_sec=23, tm_wday=5, tm_yday=101, tm_isdst=-1)\n",
    "    String representing time: 12-11-2019\n",
    "    time.struct_time(tm_year=2019, tm_mon=12, tm_mday=11, tm_hour=0, tm_min=0, tm_sec=0, tm_wday=2, tm_yday=345, tm_isdst=-1)\n",
    "    String representing time: 13::55::26\n",
    "    time.struct_time(tm_year=1900, tm_mon=1, tm_mday=1, tm_hour=13, tm_min=55, tm_sec=26, tm_wday=0, tm_yday=1, tm_isdst=-1)"
   ],
   "id": "6a042a0153a7ea75"
  },
  {
   "metadata": {},
   "cell_type": "code",
   "outputs": [],
   "execution_count": null,
   "source": "",
   "id": "b45a1ed7aa6021d8"
  },
  {
   "metadata": {},
   "cell_type": "code",
   "outputs": [],
   "execution_count": null,
   "source": "",
   "id": "de8456f0f7287c63"
  }
 ],
 "metadata": {
  "kernelspec": {
   "display_name": "Python 3",
   "language": "python",
   "name": "python3"
  },
  "language_info": {
   "codemirror_mode": {
    "name": "ipython",
    "version": 2
   },
   "file_extension": ".py",
   "mimetype": "text/x-python",
   "name": "python",
   "nbconvert_exporter": "python",
   "pygments_lexer": "ipython2",
   "version": "2.7.6"
  }
 },
 "nbformat": 4,
 "nbformat_minor": 5
}
